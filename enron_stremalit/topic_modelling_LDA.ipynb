{
 "cells": [
  {
   "cell_type": "markdown",
   "metadata": {},
   "source": [
    "# Topic modelling LDA part\n",
    "<br> Just to check what variables are needed to save. This jupyter notebook contains all the code for LDA and emails only\n"
   ]
  },
  {
   "cell_type": "code",
   "execution_count": 1,
   "metadata": {},
   "outputs": [
    {
     "name": "stderr",
     "output_type": "stream",
     "text": [
      "/usr/lib/python3/dist-packages/requests/__init__.py:89: RequestsDependencyWarning: urllib3 (1.26.8) or chardet (3.0.4) doesn't match a supported version!\n",
      "  warnings.warn(\"urllib3 ({}) or chardet ({}) doesn't match a supported \"\n"
     ]
    }
   ],
   "source": [
    "import pandas as pd\n",
    "import pickle\n",
    "import gensim\n",
    "import gensim.corpora as corpora\n",
    "from gensim.models import CoherenceModel\n",
    "import pyLDAvis\n",
    "import pyLDAvis.gensim_models  # the module 'gensim' has renamed to gensim_models\n",
    "import dill"
   ]
  },
  {
   "cell_type": "code",
   "execution_count": null,
   "metadata": {},
   "outputs": [],
   "source": [
    "# Create a small set of emails (10 000)\n",
    "\"\"\"emails_read_all = pd.read_csv('./csv/emails_df.csv')\n",
    "enron = emails_read_all.head[:10000]\n",
    "enron.to_csv('./csv/emails_df_10000.csv', index=False)\"\"\""
   ]
  },
  {
   "cell_type": "code",
   "execution_count": 7,
   "metadata": {},
   "outputs": [],
   "source": [
    "#enron = pd.read_csv('./csv/emails_df.csv')\n",
    "enron = pd.read_csv('./emails.csv')\n",
    "\n",
    "#enron = pd.read_csv('./csv/emails_df.csv')"
   ]
  },
  {
   "cell_type": "markdown",
   "metadata": {},
   "source": [
    "## Load all the necessary files\n"
   ]
  },
  {
   "cell_type": "code",
   "execution_count": 8,
   "metadata": {},
   "outputs": [],
   "source": [
    "\n",
    "with open(\"./calc_data/data_lemmatized.pkl\", 'rb') as my_pickle:\n",
    "    data_lemmatized = pickle.load(my_pickle)\n",
    "\n",
    "with open(\"./calc_data/data.pkl\", 'rb') as my_pickle:\n",
    "    data = pickle.load(my_pickle)\n",
    "\n",
    "#corpora is a dill file (module cannot be pickled)\n",
    "with open(\"./calc_data/corpora.dill\", 'rb') as f:\n",
    "            corpora = dill.load(f)\n"
   ]
  },
  {
   "cell_type": "code",
   "execution_count": 9,
   "metadata": {},
   "outputs": [],
   "source": [
    "#TAKE A SAMPLE OF DATA\n",
    "\n",
    "enron = enron[:1000]\n",
    "data_lemmatized = data_lemmatized[:1000]\n",
    "data = data[:1000]\n"
   ]
  },
  {
   "cell_type": "code",
   "execution_count": 10,
   "metadata": {},
   "outputs": [
    {
     "data": {
      "text/plain": [
       "1000"
      ]
     },
     "execution_count": 10,
     "metadata": {},
     "output_type": "execute_result"
    }
   ],
   "source": [
    "len(data_lemmatized)"
   ]
  },
  {
   "cell_type": "code",
   "execution_count": 11,
   "metadata": {},
   "outputs": [],
   "source": [
    "#emails_lemmatized = pd.DataFrame(data_lemmatized, columns=['lemmatized_subject'])\n",
    "len(data_lemmatized)\n",
    "new_column = pd.Series(data_lemmatized)\n",
    "enron['body_lem'] = new_column"
   ]
  },
  {
   "cell_type": "code",
   "execution_count": 12,
   "metadata": {},
   "outputs": [
    {
     "name": "stdout",
     "output_type": "stream",
     "text": [
      "['travel', 'business', 'meeting', 'take', 'fun', 'trip', 'especially', 'prepare', 'presentation', 'suggest', 'hold', 'business', 'plan', 'meeting', 'take', 'trip', 'formal', 'business', 'meeting', 'even', 'try', 'get', 'honest', 'opinion', 'trip', 'even', 'desire', 'necessary', 'far', 'business', 'meeting', 'think', 'productive', 'try', 'stimulate', 'discussion', 'different', 'group', 'work', 'often', 'presenter', 'speak', 'other', 'quiet', 'wait', 'turn', 'meeting', 'well', 'hold', 'round', 'table', 'discussion', 'format', 'suggestion', 'go', 'play', 'golf', 'rent', 'boat', 'jet', 'ski', 'fly', 'somewhere', 'take', 'much', 'time']\n"
     ]
    }
   ],
   "source": [
    "print(data_lemmatized[1])"
   ]
  },
  {
   "cell_type": "code",
   "execution_count": 13,
   "metadata": {},
   "outputs": [],
   "source": [
    "# create dictionary and corpus both are needed for (LDA) topic modeling\n",
    "\n",
    "# Create Dictionary\n",
    "id2word = corpora.Dictionary(data_lemmatized)\n",
    "\n",
    "# Create Corpus\n",
    "texts = data_lemmatized\n",
    "\n",
    "# Term Document Frequency\n",
    "corpus = [id2word.doc2bow(text) for text in texts]"
   ]
  },
  {
   "cell_type": "code",
   "execution_count": null,
   "metadata": {},
   "outputs": [],
   "source": [
    "mallet_path = './mallet-2.0.8/bin/mallet'"
   ]
  },
  {
   "cell_type": "code",
   "execution_count": null,
   "metadata": {},
   "outputs": [],
   "source": [
    "import warnings\n",
    "warnings.filterwarnings(\"ignore\",category=DeprecationWarning)"
   ]
  },
  {
   "cell_type": "code",
   "execution_count": 14,
   "metadata": {},
   "outputs": [],
   "source": [
    "# Build LDA model\n",
    "lda_model = gensim.models.ldamodel.LdaModel(corpus=corpus,\n",
    "                                           id2word=id2word,\n",
    "                                           num_topics=3,\n",
    "                                           random_state=100,\n",
    "                                           update_every=1,\n",
    "                                           chunksize=100,\n",
    "                                           passes=10,\n",
    "                                           alpha='auto',\n",
    "                                           per_word_topics=True)"
   ]
  },
  {
   "cell_type": "code",
   "execution_count": 15,
   "metadata": {},
   "outputs": [
    {
     "name": "stdout",
     "output_type": "stream",
     "text": [
      "LdaModel(num_terms=7610, num_topics=3, decay=0.5, chunksize=100)\n"
     ]
    }
   ],
   "source": [
    "print((lda_model))"
   ]
  },
  {
   "cell_type": "code",
   "execution_count": null,
   "metadata": {},
   "outputs": [],
   "source": [
    "# topic modeling\n",
    "# corpus, dictionary and number of topics required for LDA\n",
    "# alpha and eta are hyperparameters that affect sparsity of the topics\n",
    "# chunksize is the number of documents to be used in each training chunk\n",
    "# update_every determines how often the model parameters should be updated\n",
    "# passes is the total number of training passes\n",
    "# Print the Keyword in the 10 topics"
   ]
  },
  {
   "cell_type": "code",
   "execution_count": 16,
   "metadata": {},
   "outputs": [
    {
     "name": "stdout",
     "output_type": "stream",
     "text": [
      "[(0, '0.019*\"buy\" + 0.013*\"http\" + 0.008*\"service\" + 0.007*\"downgrade\" + 0.007*\"gas\" + 0.007*\"free\" + 0.007*\"zdnet\" + 0.007*\"market\" + 0.007*\"cgi_zdnet\" + 0.007*\"make\"'), (1, '0.132*\"pm\" + 0.045*\"ect\" + 0.019*\"hou\" + 0.018*\"request\" + 0.017*\"ee\" + 0.013*\"d\" + 0.013*\"i\" + 0.012*\"image\" + 0.011*\"mail\" + 0.010*\"showtime\"'), (2, '0.045*\"image\" + 0.009*\"email\" + 0.009*\"phillip\" + 0.008*\"receive\" + 0.007*\"message\" + 0.007*\"get\" + 0.006*\"thank\" + 0.006*\"need\" + 0.006*\"week\" + 0.006*\"send\"')]\n"
     ]
    }
   ],
   "source": [
    "print(lda_model.print_topics())# The weights reflect how important a keyword is to that topic."
   ]
  },
  {
   "cell_type": "code",
   "execution_count": 17,
   "metadata": {},
   "outputs": [],
   "source": [
    "doc_lda = lda_model[corpus]"
   ]
  },
  {
   "cell_type": "code",
   "execution_count": null,
   "metadata": {},
   "outputs": [],
   "source": [
    "# Model perplexity and topic coherence provide a convenient\n",
    "# measure to judge how good a given topic model is.\n",
    "# Compute Perplexity\n",
    "print('\\nPerplexity: ', lda_model.log_perplexity(corpus))  # a measure of how good the model is. lower the better."
   ]
  },
  {
   "cell_type": "code",
   "execution_count": null,
   "metadata": {},
   "outputs": [],
   "source": [
    "# Compute Coherence Score\n",
    "coherence_model_lda = CoherenceModel(model=lda_model, texts=data_lemmatized, dictionary=id2word, coherence='c_v')\n",
    "coherence_lda = coherence_model_lda.get_coherence()\n",
    "print('\\nCoherence Score: ', coherence_lda)"
   ]
  },
  {
   "cell_type": "code",
   "execution_count": null,
   "metadata": {},
   "outputs": [],
   "source": [
    "# Visualize the topics\n",
    "pyLDAvis.enable_notebook(sort=True)\n",
    "vis = pyLDAvis.gensim_models.prepare(lda_model, corpus, id2word)"
   ]
  },
  {
   "cell_type": "code",
   "execution_count": null,
   "metadata": {},
   "outputs": [],
   "source": [
    "print(lda_model.show_topic(0))"
   ]
  },
  {
   "cell_type": "code",
   "execution_count": null,
   "metadata": {},
   "outputs": [],
   "source": [
    "pyLDAvis.display(vis)"
   ]
  },
  {
   "cell_type": "markdown",
   "metadata": {},
   "source": [
    "## How to get top emails per topic?\n",
    "There are actually two cases:\n",
    "<br> a. Best email to given topic\n",
    "<br> b. Dominant topic for a given email\n"
   ]
  },
  {
   "cell_type": "code",
   "execution_count": 18,
   "metadata": {},
   "outputs": [],
   "source": [
    "def format_topics_sentences(ldamodel=lda_model, corpus=corpus, texts=data):\n",
    "    # Init output\n",
    "    sent_topics_df = pd.DataFrame()\n",
    "\n",
    "\n",
    "    # Get main topic in each document\n",
    "    for i, row in enumerate(ldamodel[corpus]):\n",
    "        #print(\"i: \", i)\n",
    "        #print(\"row: \", row)\n",
    "        #print(\"row[1]: \", row[1])\n",
    "        row = sorted(\n",
    "            row[0], key=lambda x: (x[1]), \n",
    "            reverse=True)\n",
    "        # Get the Dominant topic, Perc Contribution and Keywords for each document\n",
    "        for j, (topic_num, prop_topic) in enumerate(row):\n",
    "            if j == 0:  # => dominant topic\n",
    "                wp = ldamodel.show_topic(topic_num)\n",
    "                topic_keywords = \", \".join([word for word, prop in wp])\n",
    "                sent_topics_df = sent_topics_df.append(pd.Series([int(topic_num), round(prop_topic,4), topic_keywords]), ignore_index=True)\n",
    "            else:\n",
    "                break\n",
    "    sent_topics_df.columns = ['Dominant_Topic', 'Perc_Contribution', 'Topic_Keywords']\n",
    "\n",
    "    # Add original text to the end of the output\n",
    "    contents = pd.Series(texts)\n",
    "    sent_topics_df = pd.concat([sent_topics_df, contents], axis=1)\n",
    "    return(sent_topics_df)"
   ]
  },
  {
   "cell_type": "code",
   "execution_count": 19,
   "metadata": {},
   "outputs": [
    {
     "name": "stdout",
     "output_type": "stream",
     "text": [
      "<class 'gensim.interfaces.TransformedCorpus'>\n",
      "1000\n",
      "corpus type: <class 'list'>\n",
      "corpus len 1000\n"
     ]
    }
   ],
   "source": [
    "print(type(lda_model[corpus]))\n",
    "print(len(lda_model[corpus]))\n",
    "print(\"corpus type:\", type(corpus))\n",
    "print(\"corpus len\", len(corpus))"
   ]
  },
  {
   "cell_type": "code",
   "execution_count": 20,
   "metadata": {},
   "outputs": [],
   "source": [
    "df_topic_sents_keywords = format_topics_sentences(ldamodel=lda_model, corpus=corpus, texts=data)"
   ]
  },
  {
   "cell_type": "code",
   "execution_count": 45,
   "metadata": {},
   "outputs": [
    {
     "data": {
      "text/plain": [
       "array(['buy, http, service, downgrade, gas, free, zdnet, market, cgi_zdnet, make',\n",
       "       'image, email, phillip, receive, message, get, thank, need, week, send',\n",
       "       'pm, ect, hou, request, ee, d, i, image, mail, showtime'],\n",
       "      dtype=object)"
      ]
     },
     "execution_count": 45,
     "metadata": {},
     "output_type": "execute_result"
    }
   ],
   "source": [
    "df_topic_sents_keywords[\"binary\"].iloc[:250] = \"000\"\n",
    "df_topic_sents_keywords[\"binary\"].iloc[250:500] = \"001\"\n",
    "df_topic_sents_keywords[\"binary\"].iloc[500:750] = \"010\"\n",
    "df_topic_sents_keywords[\"binary\"].iloc[750:1000] = \"011\"\n",
    "df_topic_sents_keywords.head()\n",
    "df_topic_sents_keywords[\"Topic_Keywords\"].loc[df_topic_sents_keywords[\"binary\"] == \"000\"].unique()"
   ]
  },
  {
   "cell_type": "code",
   "execution_count": null,
   "metadata": {},
   "outputs": [],
   "source": [
    "with open(f'./csv/df_topic_sents_keywords.pkl', 'wb') as my_pickle:\n",
    "                pickle.dump(data_lemmatized, my_pickle)"
   ]
  },
  {
   "cell_type": "code",
   "execution_count": 29,
   "metadata": {},
   "outputs": [],
   "source": [
    "\n",
    "df_topic_sents_keywords.to_csv(\"./sample.csv\")"
   ]
  },
  {
   "cell_type": "code",
   "execution_count": null,
   "metadata": {},
   "outputs": [],
   "source": [
    "df_topic_sents_keywords['Dominant_Topic'].value_counts()"
   ]
  },
  {
   "cell_type": "code",
   "execution_count": null,
   "metadata": {},
   "outputs": [],
   "source": [
    "topic_9 = df_topic_sents_keywords[df_topic_sents_keywords['Dominant_Topic'] == 0].sort_values(by=['Perc_Contribution'], ascending=False)\n",
    "topic_9.head()\n",
    "topic_9.rename(columns={0: 'Text'}, inplace=True)\n",
    "topic_9[\"Topic_Keywords\"].unique()"
   ]
  },
  {
   "cell_type": "code",
   "execution_count": null,
   "metadata": {},
   "outputs": [],
   "source": [
    "messages = topic_9[0:10]['Text'].to_list()\n",
    "messages[3]\n"
   ]
  },
  {
   "cell_type": "code",
   "execution_count": 83,
   "metadata": {},
   "outputs": [
    {
     "data": {
      "text/html": [
       "<div>\n",
       "<style scoped>\n",
       "    .dataframe tbody tr th:only-of-type {\n",
       "        vertical-align: middle;\n",
       "    }\n",
       "\n",
       "    .dataframe tbody tr th {\n",
       "        vertical-align: top;\n",
       "    }\n",
       "\n",
       "    .dataframe thead th {\n",
       "        text-align: right;\n",
       "    }\n",
       "</style>\n",
       "<table border=\"1\" class=\"dataframe\">\n",
       "  <thead>\n",
       "    <tr style=\"text-align: right;\">\n",
       "      <th></th>\n",
       "      <th>Lemmatized_Text</th>\n",
       "      <th>ID</th>\n",
       "      <th>Subject</th>\n",
       "      <th>enron_content</th>\n",
       "      <th>From</th>\n",
       "      <th>To</th>\n",
       "      <th>Cc</th>\n",
       "      <th>Bcc</th>\n",
       "      <th>Topic_hier</th>\n",
       "      <th>Perc_list</th>\n",
       "      <th>Dominant_Topic</th>\n",
       "      <th>Perc_Contribution</th>\n",
       "      <th>Topic_Keywords</th>\n",
       "      <th>0</th>\n",
       "    </tr>\n",
       "  </thead>\n",
       "  <tbody>\n",
       "    <tr>\n",
       "      <th>0</th>\n",
       "      <td>['forward', 'shockwave', 'team', 'net', 'respo...</td>\n",
       "      <td>&lt;20615179.1075855692774.JavaMail.evans@thyme&gt;</td>\n",
       "      <td>Stick it in your Shockmachine!</td>\n",
       "      <td>---------------------- Forwarded by Phillip K ...</td>\n",
       "      <td>frozenset({'phillip.allen@enron.com'})</td>\n",
       "      <td>frozenset({'pallen70@hotmail.com'})</td>\n",
       "      <td>NaN</td>\n",
       "      <td>NaN</td>\n",
       "      <td>[0, 0, 0, 0, 0, 0, 1]</td>\n",
       "      <td>[0.5615000128746033, 0.5432999730110168, 0.856...</td>\n",
       "      <td>1</td>\n",
       "      <td>0.7768</td>\n",
       "      <td>heraldnet, man, say, get, new, story, year, go...</td>\n",
       "      <td>['forward', 'shockwave', 'team', 'net', 'respo...</td>\n",
       "    </tr>\n",
       "    <tr>\n",
       "      <th>1</th>\n",
       "      <td>['money', 'silent', 'second', 'regular', 'mail...</td>\n",
       "      <td>&lt;1199774.1075855724555.JavaMail.evans@thyme&gt;</td>\n",
       "      <td>Re: FW: 2nd lien info. and private lien info -...</td>\n",
       "      <td>How am I to send them the money for the silent...</td>\n",
       "      <td>frozenset({'phillip.allen@enron.com'})</td>\n",
       "      <td>frozenset({'jsmith@austintx.com'})</td>\n",
       "      <td>NaN</td>\n",
       "      <td>NaN</td>\n",
       "      <td>[0, 0, 0, 0, 0, 0, 1]</td>\n",
       "      <td>[0.9959999918937683, 0.6647999882698059, 0.573...</td>\n",
       "      <td>1</td>\n",
       "      <td>0.5495</td>\n",
       "      <td>heraldnet, man, say, get, new, story, year, go...</td>\n",
       "      <td>['money', 'silent', 'second', 'regular', 'mail...</td>\n",
       "    </tr>\n",
       "    <tr>\n",
       "      <th>2</th>\n",
       "      <td>['cary', 'picture', 'house', 'mind', 'go', 'si...</td>\n",
       "      <td>&lt;8520345.1075855725198.JavaMail.evans@thyme&gt;</td>\n",
       "      <td>NaN</td>\n",
       "      <td>Cary,\\n\\nHere is the picture of the house I ha...</td>\n",
       "      <td>frozenset({'phillip.allen@enron.com'})</td>\n",
       "      <td>frozenset({'scfatkfa@caprock.net'})</td>\n",
       "      <td>NaN</td>\n",
       "      <td>NaN</td>\n",
       "      <td>[0, 0, 0, 0, 0, 0, 0]</td>\n",
       "      <td>[0.892799973487854, 0.5792999863624573, 0.5759...</td>\n",
       "      <td>0</td>\n",
       "      <td>0.5081</td>\n",
       "      <td>say, go, people, get, make, year, think, time,...</td>\n",
       "      <td>['cary', 'picture', 'house', 'mind', 'go', 'si...</td>\n",
       "    </tr>\n",
       "    <tr>\n",
       "      <th>3</th>\n",
       "      <td>['cary', 'picture', 'house', 'mind', 'go', 'si...</td>\n",
       "      <td>&lt;28589107.1075855725265.JavaMail.evans@thyme&gt;</td>\n",
       "      <td>NaN</td>\n",
       "      <td>Cary,\\n\\nHere is the picture of the house I ha...</td>\n",
       "      <td>frozenset({'phillip.allen@enron.com'})</td>\n",
       "      <td>frozenset({'scsatkfa@caprock.net'})</td>\n",
       "      <td>NaN</td>\n",
       "      <td>NaN</td>\n",
       "      <td>[0, 0, 0, 0, 0, 0, 0]</td>\n",
       "      <td>[0.892799973487854, 0.5792999863624573, 0.5759...</td>\n",
       "      <td>0</td>\n",
       "      <td>0.5081</td>\n",
       "      <td>say, go, people, get, make, year, think, time,...</td>\n",
       "      <td>['cary', 'picture', 'house', 'mind', 'go', 'si...</td>\n",
       "    </tr>\n",
       "    <tr>\n",
       "      <th>4</th>\n",
       "      <td>['thank', 'quick', 'response', 'bid', 'residen...</td>\n",
       "      <td>&lt;24048786.1075855725309.JavaMail.evans@thyme&gt;</td>\n",
       "      <td>NaN</td>\n",
       "      <td>Reagan,\\n\\nThank you for the quick response on...</td>\n",
       "      <td>frozenset({'phillip.allen@enron.com'})</td>\n",
       "      <td>frozenset({'rlehmann@yahoo.com'})</td>\n",
       "      <td>NaN</td>\n",
       "      <td>NaN</td>\n",
       "      <td>[0, 0, 0, 0, 0, 0, 1]</td>\n",
       "      <td>[0.7971000075340271, 0.6256999969482422, 0.550...</td>\n",
       "      <td>1</td>\n",
       "      <td>0.9988</td>\n",
       "      <td>heraldnet, man, say, get, new, story, year, go...</td>\n",
       "      <td>['thank', 'quick', 'response', 'bid', 'residen...</td>\n",
       "    </tr>\n",
       "  </tbody>\n",
       "</table>\n",
       "</div>"
      ],
      "text/plain": [
       "                                     Lemmatized_Text  \\\n",
       "0  ['forward', 'shockwave', 'team', 'net', 'respo...   \n",
       "1  ['money', 'silent', 'second', 'regular', 'mail...   \n",
       "2  ['cary', 'picture', 'house', 'mind', 'go', 'si...   \n",
       "3  ['cary', 'picture', 'house', 'mind', 'go', 'si...   \n",
       "4  ['thank', 'quick', 'response', 'bid', 'residen...   \n",
       "\n",
       "                                              ID  \\\n",
       "0  <20615179.1075855692774.JavaMail.evans@thyme>   \n",
       "1   <1199774.1075855724555.JavaMail.evans@thyme>   \n",
       "2   <8520345.1075855725198.JavaMail.evans@thyme>   \n",
       "3  <28589107.1075855725265.JavaMail.evans@thyme>   \n",
       "4  <24048786.1075855725309.JavaMail.evans@thyme>   \n",
       "\n",
       "                                             Subject  \\\n",
       "0                     Stick it in your Shockmachine!   \n",
       "1  Re: FW: 2nd lien info. and private lien info -...   \n",
       "2                                                NaN   \n",
       "3                                                NaN   \n",
       "4                                                NaN   \n",
       "\n",
       "                                       enron_content  \\\n",
       "0  ---------------------- Forwarded by Phillip K ...   \n",
       "1  How am I to send them the money for the silent...   \n",
       "2  Cary,\\n\\nHere is the picture of the house I ha...   \n",
       "3  Cary,\\n\\nHere is the picture of the house I ha...   \n",
       "4  Reagan,\\n\\nThank you for the quick response on...   \n",
       "\n",
       "                                     From  \\\n",
       "0  frozenset({'phillip.allen@enron.com'})   \n",
       "1  frozenset({'phillip.allen@enron.com'})   \n",
       "2  frozenset({'phillip.allen@enron.com'})   \n",
       "3  frozenset({'phillip.allen@enron.com'})   \n",
       "4  frozenset({'phillip.allen@enron.com'})   \n",
       "\n",
       "                                    To   Cc  Bcc             Topic_hier  \\\n",
       "0  frozenset({'pallen70@hotmail.com'})  NaN  NaN  [0, 0, 0, 0, 0, 0, 1]   \n",
       "1   frozenset({'jsmith@austintx.com'})  NaN  NaN  [0, 0, 0, 0, 0, 0, 1]   \n",
       "2  frozenset({'scfatkfa@caprock.net'})  NaN  NaN  [0, 0, 0, 0, 0, 0, 0]   \n",
       "3  frozenset({'scsatkfa@caprock.net'})  NaN  NaN  [0, 0, 0, 0, 0, 0, 0]   \n",
       "4    frozenset({'rlehmann@yahoo.com'})  NaN  NaN  [0, 0, 0, 0, 0, 0, 1]   \n",
       "\n",
       "                                           Perc_list  Dominant_Topic  \\\n",
       "0  [0.5615000128746033, 0.5432999730110168, 0.856...               1   \n",
       "1  [0.9959999918937683, 0.6647999882698059, 0.573...               1   \n",
       "2  [0.892799973487854, 0.5792999863624573, 0.5759...               0   \n",
       "3  [0.892799973487854, 0.5792999863624573, 0.5759...               0   \n",
       "4  [0.7971000075340271, 0.6256999969482422, 0.550...               1   \n",
       "\n",
       "   Perc_Contribution                                     Topic_Keywords  \\\n",
       "0             0.7768  heraldnet, man, say, get, new, story, year, go...   \n",
       "1             0.5495  heraldnet, man, say, get, new, story, year, go...   \n",
       "2             0.5081  say, go, people, get, make, year, think, time,...   \n",
       "3             0.5081  say, go, people, get, make, year, think, time,...   \n",
       "4             0.9988  heraldnet, man, say, get, new, story, year, go...   \n",
       "\n",
       "                                                   0  \n",
       "0  ['forward', 'shockwave', 'team', 'net', 'respo...  \n",
       "1  ['money', 'silent', 'second', 'regular', 'mail...  \n",
       "2  ['cary', 'picture', 'house', 'mind', 'go', 'si...  \n",
       "3  ['cary', 'picture', 'house', 'mind', 'go', 'si...  \n",
       "4  ['thank', 'quick', 'response', 'bid', 'residen...  "
      ]
     },
     "execution_count": 83,
     "metadata": {},
     "output_type": "execute_result"
    }
   ],
   "source": [
    "sample = pd.read_csv('./result.csv')\n",
    "sample.head()"
   ]
  },
  {
   "cell_type": "code",
   "execution_count": 91,
   "metadata": {},
   "outputs": [
    {
     "data": {
      "text/plain": [
       "'image, say, company, stock, year, market, earning, last, time, price'"
      ]
     },
     "execution_count": 91,
     "metadata": {},
     "output_type": "execute_result"
    }
   ],
   "source": [
    "sample[\"Topic_Keywords\"].loc[sample[\"Topic_hier\"].str.startswith('[0') == True].unique()[10]"
   ]
  },
  {
   "cell_type": "code",
   "execution_count": 85,
   "metadata": {},
   "outputs": [],
   "source": [
    " df2 = sample.drop(columns=['Dominant_Topic'])"
   ]
  },
  {
   "cell_type": "code",
   "execution_count": 86,
   "metadata": {},
   "outputs": [
    {
     "data": {
      "text/html": [
       "<div>\n",
       "<style scoped>\n",
       "    .dataframe tbody tr th:only-of-type {\n",
       "        vertical-align: middle;\n",
       "    }\n",
       "\n",
       "    .dataframe tbody tr th {\n",
       "        vertical-align: top;\n",
       "    }\n",
       "\n",
       "    .dataframe thead th {\n",
       "        text-align: right;\n",
       "    }\n",
       "</style>\n",
       "<table border=\"1\" class=\"dataframe\">\n",
       "  <thead>\n",
       "    <tr style=\"text-align: right;\">\n",
       "      <th></th>\n",
       "      <th>Lemmatized_Text</th>\n",
       "      <th>ID</th>\n",
       "      <th>Subject</th>\n",
       "      <th>enron_content</th>\n",
       "      <th>From</th>\n",
       "      <th>To</th>\n",
       "      <th>Cc</th>\n",
       "      <th>Bcc</th>\n",
       "      <th>Topic_hier</th>\n",
       "      <th>Perc_list</th>\n",
       "      <th>Perc_Contribution</th>\n",
       "      <th>Topic_Keywords</th>\n",
       "      <th>0</th>\n",
       "    </tr>\n",
       "  </thead>\n",
       "  <tbody>\n",
       "    <tr>\n",
       "      <th>0</th>\n",
       "      <td>['forward', 'shockwave', 'team', 'net', 'respo...</td>\n",
       "      <td>&lt;20615179.1075855692774.JavaMail.evans@thyme&gt;</td>\n",
       "      <td>Stick it in your Shockmachine!</td>\n",
       "      <td>---------------------- Forwarded by Phillip K ...</td>\n",
       "      <td>frozenset({'phillip.allen@enron.com'})</td>\n",
       "      <td>frozenset({'pallen70@hotmail.com'})</td>\n",
       "      <td>NaN</td>\n",
       "      <td>NaN</td>\n",
       "      <td>[0, 0, 0, 0, 0, 0, 1]</td>\n",
       "      <td>[0.5615000128746033, 0.5432999730110168, 0.856...</td>\n",
       "      <td>0.7768</td>\n",
       "      <td>heraldnet, man, say, get, new, story, year, go...</td>\n",
       "      <td>['forward', 'shockwave', 'team', 'net', 'respo...</td>\n",
       "    </tr>\n",
       "    <tr>\n",
       "      <th>1</th>\n",
       "      <td>['money', 'silent', 'second', 'regular', 'mail...</td>\n",
       "      <td>&lt;1199774.1075855724555.JavaMail.evans@thyme&gt;</td>\n",
       "      <td>Re: FW: 2nd lien info. and private lien info -...</td>\n",
       "      <td>How am I to send them the money for the silent...</td>\n",
       "      <td>frozenset({'phillip.allen@enron.com'})</td>\n",
       "      <td>frozenset({'jsmith@austintx.com'})</td>\n",
       "      <td>NaN</td>\n",
       "      <td>NaN</td>\n",
       "      <td>[0, 0, 0, 0, 0, 0, 1]</td>\n",
       "      <td>[0.9959999918937683, 0.6647999882698059, 0.573...</td>\n",
       "      <td>0.5495</td>\n",
       "      <td>heraldnet, man, say, get, new, story, year, go...</td>\n",
       "      <td>['money', 'silent', 'second', 'regular', 'mail...</td>\n",
       "    </tr>\n",
       "    <tr>\n",
       "      <th>2</th>\n",
       "      <td>['cary', 'picture', 'house', 'mind', 'go', 'si...</td>\n",
       "      <td>&lt;8520345.1075855725198.JavaMail.evans@thyme&gt;</td>\n",
       "      <td>NaN</td>\n",
       "      <td>Cary,\\n\\nHere is the picture of the house I ha...</td>\n",
       "      <td>frozenset({'phillip.allen@enron.com'})</td>\n",
       "      <td>frozenset({'scfatkfa@caprock.net'})</td>\n",
       "      <td>NaN</td>\n",
       "      <td>NaN</td>\n",
       "      <td>[0, 0, 0, 0, 0, 0, 0]</td>\n",
       "      <td>[0.892799973487854, 0.5792999863624573, 0.5759...</td>\n",
       "      <td>0.5081</td>\n",
       "      <td>say, go, people, get, make, year, think, time,...</td>\n",
       "      <td>['cary', 'picture', 'house', 'mind', 'go', 'si...</td>\n",
       "    </tr>\n",
       "    <tr>\n",
       "      <th>3</th>\n",
       "      <td>['cary', 'picture', 'house', 'mind', 'go', 'si...</td>\n",
       "      <td>&lt;28589107.1075855725265.JavaMail.evans@thyme&gt;</td>\n",
       "      <td>NaN</td>\n",
       "      <td>Cary,\\n\\nHere is the picture of the house I ha...</td>\n",
       "      <td>frozenset({'phillip.allen@enron.com'})</td>\n",
       "      <td>frozenset({'scsatkfa@caprock.net'})</td>\n",
       "      <td>NaN</td>\n",
       "      <td>NaN</td>\n",
       "      <td>[0, 0, 0, 0, 0, 0, 0]</td>\n",
       "      <td>[0.892799973487854, 0.5792999863624573, 0.5759...</td>\n",
       "      <td>0.5081</td>\n",
       "      <td>say, go, people, get, make, year, think, time,...</td>\n",
       "      <td>['cary', 'picture', 'house', 'mind', 'go', 'si...</td>\n",
       "    </tr>\n",
       "    <tr>\n",
       "      <th>4</th>\n",
       "      <td>['thank', 'quick', 'response', 'bid', 'residen...</td>\n",
       "      <td>&lt;24048786.1075855725309.JavaMail.evans@thyme&gt;</td>\n",
       "      <td>NaN</td>\n",
       "      <td>Reagan,\\n\\nThank you for the quick response on...</td>\n",
       "      <td>frozenset({'phillip.allen@enron.com'})</td>\n",
       "      <td>frozenset({'rlehmann@yahoo.com'})</td>\n",
       "      <td>NaN</td>\n",
       "      <td>NaN</td>\n",
       "      <td>[0, 0, 0, 0, 0, 0, 1]</td>\n",
       "      <td>[0.7971000075340271, 0.6256999969482422, 0.550...</td>\n",
       "      <td>0.9988</td>\n",
       "      <td>heraldnet, man, say, get, new, story, year, go...</td>\n",
       "      <td>['thank', 'quick', 'response', 'bid', 'residen...</td>\n",
       "    </tr>\n",
       "    <tr>\n",
       "      <th>...</th>\n",
       "      <td>...</td>\n",
       "      <td>...</td>\n",
       "      <td>...</td>\n",
       "      <td>...</td>\n",
       "      <td>...</td>\n",
       "      <td>...</td>\n",
       "      <td>...</td>\n",
       "      <td>...</td>\n",
       "      <td>...</td>\n",
       "      <td>...</td>\n",
       "      <td>...</td>\n",
       "      <td>...</td>\n",
       "      <td>...</td>\n",
       "    </tr>\n",
       "    <tr>\n",
       "      <th>29995</th>\n",
       "      <td>['head', 'title', 'mail', 'type', 'content', '...</td>\n",
       "      <td>NaN</td>\n",
       "      <td>NaN</td>\n",
       "      <td>NaN</td>\n",
       "      <td>NaN</td>\n",
       "      <td>NaN</td>\n",
       "      <td>NaN</td>\n",
       "      <td>NaN</td>\n",
       "      <td>[1, 1, 1, 1, 1, 1, 1]</td>\n",
       "      <td>[0.9721999764442444, 0.6927000284194946, 1.0, ...</td>\n",
       "      <td>1.0000</td>\n",
       "      <td>font, size, br, tr, img_src, http, image, gif,...</td>\n",
       "      <td>['head', 'title', 'mail', 'type', 'content', '...</td>\n",
       "    </tr>\n",
       "    <tr>\n",
       "      <th>29996</th>\n",
       "      <td>['sorry', 'look', 'problem', 'view', 'email', ...</td>\n",
       "      <td>NaN</td>\n",
       "      <td>NaN</td>\n",
       "      <td>NaN</td>\n",
       "      <td>NaN</td>\n",
       "      <td>NaN</td>\n",
       "      <td>NaN</td>\n",
       "      <td>NaN</td>\n",
       "      <td>[1, 1, 1, 1, 1, 1, 1]</td>\n",
       "      <td>[0.9538000226020813, 0.7264999747276306, 0.994...</td>\n",
       "      <td>1.0000</td>\n",
       "      <td>font, size, br, tr, img_src, http, image, gif,...</td>\n",
       "      <td>['sorry', 'look', 'problem', 'view', 'email', ...</td>\n",
       "    </tr>\n",
       "    <tr>\n",
       "      <th>29997</th>\n",
       "      <td>['funjet_vacation', 'special', 'send', 'email'...</td>\n",
       "      <td>NaN</td>\n",
       "      <td>NaN</td>\n",
       "      <td>NaN</td>\n",
       "      <td>NaN</td>\n",
       "      <td>NaN</td>\n",
       "      <td>NaN</td>\n",
       "      <td>NaN</td>\n",
       "      <td>[1, 1, 1, 1, 1, 1, 1]</td>\n",
       "      <td>[0.9591000080108643, 0.703000009059906, 0.9968...</td>\n",
       "      <td>0.9834</td>\n",
       "      <td>font, size, br, tr, img_src, http, image, gif,...</td>\n",
       "      <td>['funjet_vacation', 'special', 'send', 'email'...</td>\n",
       "    </tr>\n",
       "    <tr>\n",
       "      <th>29998</th>\n",
       "      <td>['hot', 'pick', 'come', 'visit', 'body', 'tabl...</td>\n",
       "      <td>NaN</td>\n",
       "      <td>NaN</td>\n",
       "      <td>NaN</td>\n",
       "      <td>NaN</td>\n",
       "      <td>NaN</td>\n",
       "      <td>NaN</td>\n",
       "      <td>NaN</td>\n",
       "      <td>[1, 1, 1, 1, 1, 1, 1]</td>\n",
       "      <td>[0.9179999828338623, 0.765500009059906, 1.0, 0...</td>\n",
       "      <td>1.0000</td>\n",
       "      <td>font, size, br, tr, img_src, http, image, gif,...</td>\n",
       "      <td>['hot', 'pick', 'come', 'visit', 'body', 'tabl...</td>\n",
       "    </tr>\n",
       "    <tr>\n",
       "      <th>29999</th>\n",
       "      <td>['sorry', 'look', 'problem', 'view', 'email', ...</td>\n",
       "      <td>NaN</td>\n",
       "      <td>NaN</td>\n",
       "      <td>NaN</td>\n",
       "      <td>NaN</td>\n",
       "      <td>NaN</td>\n",
       "      <td>NaN</td>\n",
       "      <td>NaN</td>\n",
       "      <td>[1, 1, 1, 1, 1, 1, 1]</td>\n",
       "      <td>[0.9829000234603882, 0.8111000061035156, 1.0, ...</td>\n",
       "      <td>1.0000</td>\n",
       "      <td>font, size, br, tr, img_src, http, image, gif,...</td>\n",
       "      <td>['sorry', 'look', 'problem', 'view', 'email', ...</td>\n",
       "    </tr>\n",
       "  </tbody>\n",
       "</table>\n",
       "<p>30000 rows × 13 columns</p>\n",
       "</div>"
      ],
      "text/plain": [
       "                                         Lemmatized_Text  \\\n",
       "0      ['forward', 'shockwave', 'team', 'net', 'respo...   \n",
       "1      ['money', 'silent', 'second', 'regular', 'mail...   \n",
       "2      ['cary', 'picture', 'house', 'mind', 'go', 'si...   \n",
       "3      ['cary', 'picture', 'house', 'mind', 'go', 'si...   \n",
       "4      ['thank', 'quick', 'response', 'bid', 'residen...   \n",
       "...                                                  ...   \n",
       "29995  ['head', 'title', 'mail', 'type', 'content', '...   \n",
       "29996  ['sorry', 'look', 'problem', 'view', 'email', ...   \n",
       "29997  ['funjet_vacation', 'special', 'send', 'email'...   \n",
       "29998  ['hot', 'pick', 'come', 'visit', 'body', 'tabl...   \n",
       "29999  ['sorry', 'look', 'problem', 'view', 'email', ...   \n",
       "\n",
       "                                                  ID  \\\n",
       "0      <20615179.1075855692774.JavaMail.evans@thyme>   \n",
       "1       <1199774.1075855724555.JavaMail.evans@thyme>   \n",
       "2       <8520345.1075855725198.JavaMail.evans@thyme>   \n",
       "3      <28589107.1075855725265.JavaMail.evans@thyme>   \n",
       "4      <24048786.1075855725309.JavaMail.evans@thyme>   \n",
       "...                                              ...   \n",
       "29995                                            NaN   \n",
       "29996                                            NaN   \n",
       "29997                                            NaN   \n",
       "29998                                            NaN   \n",
       "29999                                            NaN   \n",
       "\n",
       "                                                 Subject  \\\n",
       "0                         Stick it in your Shockmachine!   \n",
       "1      Re: FW: 2nd lien info. and private lien info -...   \n",
       "2                                                    NaN   \n",
       "3                                                    NaN   \n",
       "4                                                    NaN   \n",
       "...                                                  ...   \n",
       "29995                                                NaN   \n",
       "29996                                                NaN   \n",
       "29997                                                NaN   \n",
       "29998                                                NaN   \n",
       "29999                                                NaN   \n",
       "\n",
       "                                           enron_content  \\\n",
       "0      ---------------------- Forwarded by Phillip K ...   \n",
       "1      How am I to send them the money for the silent...   \n",
       "2      Cary,\\n\\nHere is the picture of the house I ha...   \n",
       "3      Cary,\\n\\nHere is the picture of the house I ha...   \n",
       "4      Reagan,\\n\\nThank you for the quick response on...   \n",
       "...                                                  ...   \n",
       "29995                                                NaN   \n",
       "29996                                                NaN   \n",
       "29997                                                NaN   \n",
       "29998                                                NaN   \n",
       "29999                                                NaN   \n",
       "\n",
       "                                         From  \\\n",
       "0      frozenset({'phillip.allen@enron.com'})   \n",
       "1      frozenset({'phillip.allen@enron.com'})   \n",
       "2      frozenset({'phillip.allen@enron.com'})   \n",
       "3      frozenset({'phillip.allen@enron.com'})   \n",
       "4      frozenset({'phillip.allen@enron.com'})   \n",
       "...                                       ...   \n",
       "29995                                     NaN   \n",
       "29996                                     NaN   \n",
       "29997                                     NaN   \n",
       "29998                                     NaN   \n",
       "29999                                     NaN   \n",
       "\n",
       "                                        To   Cc  Bcc             Topic_hier  \\\n",
       "0      frozenset({'pallen70@hotmail.com'})  NaN  NaN  [0, 0, 0, 0, 0, 0, 1]   \n",
       "1       frozenset({'jsmith@austintx.com'})  NaN  NaN  [0, 0, 0, 0, 0, 0, 1]   \n",
       "2      frozenset({'scfatkfa@caprock.net'})  NaN  NaN  [0, 0, 0, 0, 0, 0, 0]   \n",
       "3      frozenset({'scsatkfa@caprock.net'})  NaN  NaN  [0, 0, 0, 0, 0, 0, 0]   \n",
       "4        frozenset({'rlehmann@yahoo.com'})  NaN  NaN  [0, 0, 0, 0, 0, 0, 1]   \n",
       "...                                    ...  ...  ...                    ...   \n",
       "29995                                  NaN  NaN  NaN  [1, 1, 1, 1, 1, 1, 1]   \n",
       "29996                                  NaN  NaN  NaN  [1, 1, 1, 1, 1, 1, 1]   \n",
       "29997                                  NaN  NaN  NaN  [1, 1, 1, 1, 1, 1, 1]   \n",
       "29998                                  NaN  NaN  NaN  [1, 1, 1, 1, 1, 1, 1]   \n",
       "29999                                  NaN  NaN  NaN  [1, 1, 1, 1, 1, 1, 1]   \n",
       "\n",
       "                                               Perc_list  Perc_Contribution  \\\n",
       "0      [0.5615000128746033, 0.5432999730110168, 0.856...             0.7768   \n",
       "1      [0.9959999918937683, 0.6647999882698059, 0.573...             0.5495   \n",
       "2      [0.892799973487854, 0.5792999863624573, 0.5759...             0.5081   \n",
       "3      [0.892799973487854, 0.5792999863624573, 0.5759...             0.5081   \n",
       "4      [0.7971000075340271, 0.6256999969482422, 0.550...             0.9988   \n",
       "...                                                  ...                ...   \n",
       "29995  [0.9721999764442444, 0.6927000284194946, 1.0, ...             1.0000   \n",
       "29996  [0.9538000226020813, 0.7264999747276306, 0.994...             1.0000   \n",
       "29997  [0.9591000080108643, 0.703000009059906, 0.9968...             0.9834   \n",
       "29998  [0.9179999828338623, 0.765500009059906, 1.0, 0...             1.0000   \n",
       "29999  [0.9829000234603882, 0.8111000061035156, 1.0, ...             1.0000   \n",
       "\n",
       "                                          Topic_Keywords  \\\n",
       "0      heraldnet, man, say, get, new, story, year, go...   \n",
       "1      heraldnet, man, say, get, new, story, year, go...   \n",
       "2      say, go, people, get, make, year, think, time,...   \n",
       "3      say, go, people, get, make, year, think, time,...   \n",
       "4      heraldnet, man, say, get, new, story, year, go...   \n",
       "...                                                  ...   \n",
       "29995  font, size, br, tr, img_src, http, image, gif,...   \n",
       "29996  font, size, br, tr, img_src, http, image, gif,...   \n",
       "29997  font, size, br, tr, img_src, http, image, gif,...   \n",
       "29998  font, size, br, tr, img_src, http, image, gif,...   \n",
       "29999  font, size, br, tr, img_src, http, image, gif,...   \n",
       "\n",
       "                                                       0  \n",
       "0      ['forward', 'shockwave', 'team', 'net', 'respo...  \n",
       "1      ['money', 'silent', 'second', 'regular', 'mail...  \n",
       "2      ['cary', 'picture', 'house', 'mind', 'go', 'si...  \n",
       "3      ['cary', 'picture', 'house', 'mind', 'go', 'si...  \n",
       "4      ['thank', 'quick', 'response', 'bid', 'residen...  \n",
       "...                                                  ...  \n",
       "29995  ['head', 'title', 'mail', 'type', 'content', '...  \n",
       "29996  ['sorry', 'look', 'problem', 'view', 'email', ...  \n",
       "29997  ['funjet_vacation', 'special', 'send', 'email'...  \n",
       "29998  ['hot', 'pick', 'come', 'visit', 'body', 'tabl...  \n",
       "29999  ['sorry', 'look', 'problem', 'view', 'email', ...  \n",
       "\n",
       "[30000 rows x 13 columns]"
      ]
     },
     "execution_count": 86,
     "metadata": {},
     "output_type": "execute_result"
    }
   ],
   "source": [
    "df2"
   ]
  },
  {
   "cell_type": "code",
   "execution_count": null,
   "metadata": {},
   "outputs": [],
   "source": []
  }
 ],
 "metadata": {
  "interpreter": {
   "hash": "a107e33ec9895a199db06dea1e1fb8d88e4830832973b5c2e63e39182c97baa2"
  },
  "kernelspec": {
   "display_name": "Python 3 (ipykernel)",
   "language": "python",
   "name": "python3"
  },
  "language_info": {
   "codemirror_mode": {
    "name": "ipython",
    "version": 3
   },
   "file_extension": ".py",
   "mimetype": "text/x-python",
   "name": "python",
   "nbconvert_exporter": "python",
   "pygments_lexer": "ipython3",
   "version": "3.8.10"
  }
 },
 "nbformat": 4,
 "nbformat_minor": 2
}
