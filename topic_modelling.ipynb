{
 "cells": [
  {
   "cell_type": "markdown",
   "metadata": {},
   "source": [
    "# Topic modelling Q&D pilot\n",
    "https://medium.datadriveninvestor.com/nlp-with-lda-analyzing-topics-in-the-enron-email-dataset-20326b7ae36f\n",
    "https://github.com/shoreason/enron-topic-modeling/blob/master/enron_lda.ipynb\n"
   ]
  },
  {
   "cell_type": "code",
   "execution_count": 1,
   "metadata": {},
   "outputs": [],
   "source": [
    "import pandas as pd\n"
   ]
  },
  {
   "cell_type": "code",
   "execution_count": 2,
   "metadata": {},
   "outputs": [
    {
     "data": {
      "text/plain": [
       "\"emails_read_all = pd.read_csv('./csv/emails_df.csv')\\nenron = emails_read_all.head[:10000]\\nenron.to_csv('./csv/emails_df_10000.csv', index=False)\""
      ]
     },
     "execution_count": 2,
     "metadata": {},
     "output_type": "execute_result"
    }
   ],
   "source": [
    "# Create a small set of emails (10 000)\n",
    "\"\"\"emails_read_all = pd.read_csv('./csv/emails_df.csv')\n",
    "enron = emails_read_all.head[:10000]\n",
    "enron.to_csv('./csv/emails_df_10000.csv', index=False)\"\"\""
   ]
  },
  {
   "cell_type": "code",
   "execution_count": 3,
   "metadata": {},
   "outputs": [],
   "source": [
    "enron = pd.read_csv('./csv/emails_df_10000.csv')\n",
    "#enron = pd.read_csv('./csv/emails_df.csv')"
   ]
  },
  {
   "cell_type": "code",
   "execution_count": 4,
   "metadata": {},
   "outputs": [
    {
     "name": "stdout",
     "output_type": "stream",
     "text": [
      "Index(['file', 'Message-ID', 'Date', 'From', 'To', 'Subject', 'Mime-Version',\n",
      "       'Content-Type', 'Content-Transfer-Encoding', 'X-From', 'X-To', 'X-cc',\n",
      "       'X-bcc', 'X-Folder', 'X-Origin', 'X-FileName', 'content', 'user'],\n",
      "      dtype='object')\n"
     ]
    }
   ],
   "source": [
    "enron.shape #10 000 rows, 18 columns\n",
    "print(enron.columns)\n",
    "enron.rename(columns={'content': 'body'}, inplace=True)\n"
   ]
  },
  {
   "cell_type": "code",
   "execution_count": 5,
   "metadata": {},
   "outputs": [
    {
     "name": "stdout",
     "output_type": "stream",
     "text": [
      "                                     From  \\\n",
      "0  frozenset({'phillip.allen@enron.com'})   \n",
      "1  frozenset({'phillip.allen@enron.com'})   \n",
      "2  frozenset({'phillip.allen@enron.com'})   \n",
      "3  frozenset({'phillip.allen@enron.com'})   \n",
      "4  frozenset({'phillip.allen@enron.com'})   \n",
      "\n",
      "                                       To    Subject  \\\n",
      "0     frozenset({'tim.belden@enron.com'})        NaN   \n",
      "1  frozenset({'john.lavorato@enron.com'})        Re:   \n",
      "2   frozenset({'leah.arsdall@enron.com'})   Re: test   \n",
      "3    frozenset({'randall.gay@enron.com'})        NaN   \n",
      "4     frozenset({'greg.piper@enron.com'})  Re: Hello   \n",
      "\n",
      "                                                body  \n",
      "0                          Here is our forecast\\n\\n   \n",
      "1  Traveling to have a business meeting takes the...  \n",
      "2                     test successful.  way to go!!!  \n",
      "3  Randy,\\n\\n Can you send me a schedule of the s...  \n",
      "4                Let's shoot for Tuesday at 11:45.    \n"
     ]
    }
   ],
   "source": [
    "enron = enron[['From', 'To', 'Subject', 'body']]\n",
    "print(enron.head())\n",
    "\n"
   ]
  },
  {
   "cell_type": "code",
   "execution_count": 6,
   "metadata": {},
   "outputs": [
    {
     "name": "stderr",
     "output_type": "stream",
     "text": [
      "/Users/jari/DATA/Projects/Clustering-Enron_UsedCase/enron/lib/python3.9/site-packages/past/builtins/misc.py:45: DeprecationWarning: the imp module is deprecated in favour of importlib; see the module's documentation for alternative uses\n",
      "  from imp import reload\n"
     ]
    }
   ],
   "source": [
    "import re\n",
    "import numpy as np\n",
    "import gensim\n",
    "import gensim.corpora as corpora\n",
    "from gensim.utils import simple_preprocess\n",
    "from gensim.models import CoherenceModel\n",
    "import spacy # for lemmatization\n",
    "# for plotting\n",
    "import pyLDAvis\n",
    "import pyLDAvis.gensim_models  # the module 'gensim' has renamed to gensim_models\n",
    "import matplotlib.pyplot as plt"
   ]
  },
  {
   "cell_type": "code",
   "execution_count": 7,
   "metadata": {},
   "outputs": [],
   "source": [
    "# prep NLTK stop words\n",
    "from nltk.corpus import stopwords\n",
    "\n",
    "# You have to install the word on your local machine , 3.84 GB!!\n",
    "# https://www.nltk.org/data.html\n",
    "stop_words = stopwords.words('english') # will cause error if not installed accordint to the instructions above\n",
    "stop_words.extend(['from', 'subject', 're', 'edu', 'use', 'send', 'com']) # if replied the mail contains thes words -> remove them\n",
    "\n"
   ]
  },
  {
   "cell_type": "code",
   "execution_count": 8,
   "metadata": {},
   "outputs": [
    {
     "name": "stdout",
     "output_type": "stream",
     "text": [
      "Traveling to have a business meeting takes the fun out of the trip.  Especially if you have to prepare a presentation.  I would suggest holding the business plan meetings here then take a trip without any formal business meetings.  I would even try and get some honest opinions on whether a trip is even desired or necessary.\n",
      "\n",
      "As far as the business meetings, I think it would be more productive to try and stimulate discussions across the different groups about what is working and what is not.  Too often the presenter speaks and the others are quiet just waiting for their turn.   The meetings might be better if held in a round table discussion format.  \n",
      "\n",
      "My suggestion for where to go is Austin.  Play golf and rent a ski boat and jet ski's.  Flying somewhere takes too much time.\n",
      "\n"
     ]
    }
   ],
   "source": [
    "print(enron.iloc[1]['body']) # displays info below"
   ]
  },
  {
   "cell_type": "code",
   "execution_count": 9,
   "metadata": {},
   "outputs": [],
   "source": [
    "# Convert email body to list\n",
    "data = enron.body.values.tolist()\n",
    "#data = enron.Subject.values.tolist()\n"
   ]
  },
  {
   "cell_type": "code",
   "execution_count": 10,
   "metadata": {},
   "outputs": [],
   "source": [
    "# tokenize - break down each sentence into a list of words\n",
    "def sent_to_words(sentences):\n",
    "    for sentence in sentences:\n",
    "        yield(gensim.utils.simple_preprocess(str(sentence), deacc=True))  # deacc=True removes punctuations"
   ]
  },
  {
   "cell_type": "code",
   "execution_count": 11,
   "metadata": {},
   "outputs": [],
   "source": [
    "data_words = list(sent_to_words(data))"
   ]
  },
  {
   "cell_type": "code",
   "execution_count": 12,
   "metadata": {},
   "outputs": [
    {
     "name": "stdout",
     "output_type": "stream",
     "text": [
      "['traveling', 'to', 'have', 'business', 'meeting', 'takes', 'the', 'fun', 'out', 'of', 'the', 'trip', 'especially', 'if', 'you', 'have', 'to', 'prepare', 'presentation', 'would', 'suggest', 'holding', 'the', 'business', 'plan', 'meetings', 'here', 'then', 'take', 'trip', 'without', 'any', 'formal', 'business', 'meetings', 'would', 'even', 'try', 'and', 'get', 'some', 'honest', 'opinions', 'on', 'whether', 'trip', 'is', 'even', 'desired', 'or', 'necessary', 'as', 'far', 'as', 'the', 'business', 'meetings', 'think', 'it', 'would', 'be', 'more', 'productive', 'to', 'try', 'and', 'stimulate', 'discussions', 'across', 'the', 'different', 'groups', 'about', 'what', 'is', 'working', 'and', 'what', 'is', 'not', 'too', 'often', 'the', 'presenter', 'speaks', 'and', 'the', 'others', 'are', 'quiet', 'just', 'waiting', 'for', 'their', 'turn', 'the', 'meetings', 'might', 'be', 'better', 'if', 'held', 'in', 'round', 'table', 'discussion', 'format', 'my', 'suggestion', 'for', 'where', 'to', 'go', 'is', 'austin', 'play', 'golf', 'and', 'rent', 'ski', 'boat', 'and', 'jet', 'ski', 'flying', 'somewhere', 'takes', 'too', 'much', 'time']\n"
     ]
    }
   ],
   "source": [
    "print(data_words[1])"
   ]
  },
  {
   "cell_type": "code",
   "execution_count": 13,
   "metadata": {},
   "outputs": [],
   "source": [
    "from gensim.models.phrases import Phrases, Phraser"
   ]
  },
  {
   "cell_type": "code",
   "execution_count": 14,
   "metadata": {},
   "outputs": [],
   "source": [
    "# Build the bigram and trigram models\n",
    "bigram = Phrases(data_words, min_count=5, threshold=100) # higher threshold fewer phrases.\n",
    "trigram = Phrases(bigram[data_words], threshold=100)"
   ]
  },
  {
   "cell_type": "code",
   "execution_count": 15,
   "metadata": {},
   "outputs": [],
   "source": [
    "# Faster way to get a sentence clubbed as a trigram/bigram\n",
    "bigram_mod = Phraser(bigram)\n",
    "trigram_mod = Phraser(trigram)"
   ]
  },
  {
   "cell_type": "code",
   "execution_count": 16,
   "metadata": {},
   "outputs": [
    {
     "name": "stdout",
     "output_type": "stream",
     "text": [
      "['beth', 'here', 'are', 'our', 'addresses', 'for', 'dsl', 'lines', 'hunter_shively', 'gawain', 'houston_tx', 'phillip', 'allen', 'merlin_ct_houston_tx', 'mike_grigsby', 'meadow', 'lake', 'houston_tx', 'thanks', 'phillip']\n"
     ]
    }
   ],
   "source": [
    "# See trigram example\n",
    "print(trigram_mod[bigram_mod[data_words[200]]])"
   ]
  },
  {
   "cell_type": "code",
   "execution_count": 17,
   "metadata": {},
   "outputs": [],
   "source": [
    "# remove stop_words, make bigrams and lemmatize\n",
    "def remove_stopwords(texts):\n",
    "    return [[word for word in simple_preprocess(str(doc)) if word not in stop_words] for doc in texts]\n",
    "\n",
    "def make_bigrams(texts):\n",
    "    return [bigram_mod[doc] for doc in texts]\n",
    "\n",
    "def make_trigrams(texts):\n",
    "    return [trigram_mod[bigram_mod[doc]] for doc in texts]\n",
    "\n",
    "def lemmatization(texts, allowed_postags=['NOUN', 'ADJ', 'VERB', 'ADV']):\n",
    "    \"\"\"https://spacy.io/api/annotation\"\"\"\n",
    "    texts_out = []\n",
    "    for sent in texts:\n",
    "        doc = nlp(\" \".join(sent))\n",
    "        texts_out.append([token.lemma_ for token in doc if token.pos_ in allowed_postags])\n",
    "    return texts_out"
   ]
  },
  {
   "cell_type": "code",
   "execution_count": 18,
   "metadata": {},
   "outputs": [],
   "source": [
    "# Remove Stop Words \n",
    "data_words_nostops = remove_stopwords(data_words)"
   ]
  },
  {
   "cell_type": "code",
   "execution_count": 19,
   "metadata": {},
   "outputs": [],
   "source": [
    "# Form Bigrams\n",
    "data_words_bigrams = make_bigrams(data_words_nostops)"
   ]
  },
  {
   "cell_type": "markdown",
   "metadata": {},
   "source": [
    "#python -m spacy download en"
   ]
  },
  {
   "cell_type": "code",
   "execution_count": 20,
   "metadata": {},
   "outputs": [],
   "source": [
    "# Initialize spacy 'en' model, keeping only tagger component (for efficiency)\n",
    "#nlp = spacy.load('en', disable=['parser', 'ner']) # this is how it used to be\n",
    "nlp = spacy.load('en_core_web_sm')\n"
   ]
  },
  {
   "cell_type": "code",
   "execution_count": 21,
   "metadata": {},
   "outputs": [
    {
     "name": "stdout",
     "output_type": "stream",
     "text": [
      "['address', 'dsl', 'line', 'hunter_shively', 'gawain', 'phillip', 'allen', 'mike_grigsby', 'meadow', 'lake', 'thank', 'phillip']\n"
     ]
    }
   ],
   "source": [
    "# Do lemmatization keeping only noun, adj, vb, adv\n",
    "data_lemmatized = lemmatization(data_words_bigrams, allowed_postags=['NOUN', 'ADJ', 'VERB', 'ADV'])\n",
    "print(data_lemmatized[200])"
   ]
  },
  {
   "cell_type": "code",
   "execution_count": 22,
   "metadata": {},
   "outputs": [
    {
     "name": "stdout",
     "output_type": "stream",
     "text": [
      "['travel', 'business', 'meeting', 'take', 'fun', 'trip', 'especially', 'prepare', 'presentation', 'suggest', 'hold', 'business', 'plan', 'meeting', 'take', 'trip', 'formal', 'business', 'meeting', 'even', 'try', 'get', 'honest', 'opinion', 'trip', 'even', 'desire', 'necessary', 'far', 'business', 'meeting', 'think', 'productive', 'try', 'stimulate', 'discussion', 'different', 'group', 'work', 'often', 'presenter', 'speak', 'other', 'quiet', 'wait', 'turn', 'meeting', 'well', 'hold', 'round', 'table', 'discussion', 'format', 'suggestion', 'go', 'play', 'golf', 'rent', 'boat', 'jet', 'ski', 'fly', 'somewhere', 'take', 'much', 'time']\n"
     ]
    }
   ],
   "source": [
    "print(data_lemmatized[1])"
   ]
  },
  {
   "cell_type": "code",
   "execution_count": 23,
   "metadata": {},
   "outputs": [],
   "source": [
    "# create dictionary and corpus both are needed for (LDA) topic modeling\n",
    "\n",
    "# Create Dictionary\n",
    "id2word = corpora.Dictionary(data_lemmatized)\n",
    "\n",
    "# Create Corpus\n",
    "texts = data_lemmatized\n",
    "\n",
    "# Term Document Frequency\n",
    "corpus = [id2word.doc2bow(text) for text in texts]"
   ]
  },
  {
   "cell_type": "code",
   "execution_count": 24,
   "metadata": {},
   "outputs": [],
   "source": [
    "mallet_path = './mallet-2.0.8/bin/mallet'"
   ]
  },
  {
   "cell_type": "code",
   "execution_count": 25,
   "metadata": {},
   "outputs": [],
   "source": [
    "import warnings\n",
    "warnings.filterwarnings(\"ignore\",category=DeprecationWarning)"
   ]
  },
  {
   "cell_type": "code",
   "execution_count": 26,
   "metadata": {},
   "outputs": [],
   "source": [
    "# Build LDA model\n",
    "lda_model = gensim.models.ldamodel.LdaModel(corpus=corpus,\n",
    "                                           id2word=id2word,\n",
    "                                           num_topics=3,\n",
    "                                           random_state=100,\n",
    "                                           update_every=1,\n",
    "                                           chunksize=100,\n",
    "                                           passes=10,\n",
    "                                           alpha='auto',\n",
    "                                           per_word_topics=True)"
   ]
  },
  {
   "cell_type": "code",
   "execution_count": 27,
   "metadata": {},
   "outputs": [],
   "source": [
    "# topic modeling\n",
    "# corpus, dictionary and number of topics required for LDA\n",
    "# alpha and eta are hyperparameters that affect sparsity of the topics\n",
    "# chunksize is the number of documents to be used in each training chunk\n",
    "# update_every determines how often the model parameters should be updated\n",
    "# passes is the total number of training passes\n",
    "# Print the Keyword in the 10 topics"
   ]
  },
  {
   "cell_type": "code",
   "execution_count": 28,
   "metadata": {},
   "outputs": [
    {
     "name": "stdout",
     "output_type": "stream",
     "text": [
      "[(0, '0.022*\"font\" + 0.020*\"message\" + 0.020*\"size\" + 0.018*\"send\" + 0.017*\"align\" + 0.016*\"original\" + 0.015*\"right\" + 0.013*\"thank\" + 0.009*\"know\" + 0.008*\"email\"'), (1, '0.014*\"market\" + 0.010*\"iso\" + 0.009*\"price\" + 0.008*\"power\" + 0.007*\"say\" + 0.006*\"company\" + 0.006*\"energy\" + 0.005*\"time\" + 0.005*\"make\" + 0.005*\"new\"'), (2, '0.142*\"ect\" + 0.065*\"hou\" + 0.045*\"ee\" + 0.019*\"forward\" + 0.017*\"pm\" + 0.014*\"eric_bass\" + 0.013*\"caiso\" + 0.011*\"meeting\" + 0.011*\"mail\" + 0.010*\"attach\"')]\n"
     ]
    }
   ],
   "source": [
    "print(lda_model.print_topics())# The weights reflect how important a keyword is to that topic."
   ]
  },
  {
   "cell_type": "code",
   "execution_count": 29,
   "metadata": {},
   "outputs": [],
   "source": [
    "doc_lda = lda_model[corpus]"
   ]
  },
  {
   "cell_type": "code",
   "execution_count": 30,
   "metadata": {},
   "outputs": [
    {
     "name": "stdout",
     "output_type": "stream",
     "text": [
      "\n",
      "Perplexity:  -7.872503112892777\n"
     ]
    }
   ],
   "source": [
    "# Model perplexity and topic coherence provide a convenient\n",
    "# measure to judge how good a given topic model is.\n",
    "# Compute Perplexity\n",
    "print('\\nPerplexity: ', lda_model.log_perplexity(corpus))  # a measure of how good the model is. lower the better."
   ]
  },
  {
   "cell_type": "code",
   "execution_count": 31,
   "metadata": {},
   "outputs": [
    {
     "name": "stdout",
     "output_type": "stream",
     "text": [
      "\n",
      "Coherence Score:  0.4292246393403041\n"
     ]
    }
   ],
   "source": [
    "# Compute Coherence Score\n",
    "coherence_model_lda = CoherenceModel(model=lda_model, texts=data_lemmatized, dictionary=id2word, coherence='c_v')\n",
    "coherence_lda = coherence_model_lda.get_coherence()\n",
    "print('\\nCoherence Score: ', coherence_lda)"
   ]
  },
  {
   "cell_type": "code",
   "execution_count": 32,
   "metadata": {},
   "outputs": [
    {
     "name": "stderr",
     "output_type": "stream",
     "text": [
      "/Users/jari/DATA/Projects/Clustering-Enron_UsedCase/enron/lib/python3.9/site-packages/pyLDAvis/_prepare.py:246: FutureWarning: In a future version of pandas all arguments of DataFrame.drop except for the argument 'labels' will be keyword-only.\n",
      "  default_term_info = default_term_info.sort_values(\n",
      "/Users/jari/DATA/Projects/Clustering-Enron_UsedCase/enron/lib/python3.9/site-packages/past/builtins/misc.py:45: DeprecationWarning: the imp module is deprecated in favour of importlib; see the module's documentation for alternative uses\n",
      "  from imp import reload\n",
      "/Users/jari/DATA/Projects/Clustering-Enron_UsedCase/enron/lib/python3.9/site-packages/past/builtins/misc.py:45: DeprecationWarning: the imp module is deprecated in favour of importlib; see the module's documentation for alternative uses\n",
      "  from imp import reload\n",
      "/Users/jari/DATA/Projects/Clustering-Enron_UsedCase/enron/lib/python3.9/site-packages/past/builtins/misc.py:45: DeprecationWarning: the imp module is deprecated in favour of importlib; see the module's documentation for alternative uses\n",
      "  from imp import reload\n",
      "/Users/jari/DATA/Projects/Clustering-Enron_UsedCase/enron/lib/python3.9/site-packages/past/builtins/misc.py:45: DeprecationWarning: the imp module is deprecated in favour of importlib; see the module's documentation for alternative uses\n",
      "  from imp import reload\n",
      "/Users/jari/DATA/Projects/Clustering-Enron_UsedCase/enron/lib/python3.9/site-packages/past/builtins/misc.py:45: DeprecationWarning: the imp module is deprecated in favour of importlib; see the module's documentation for alternative uses\n",
      "  from imp import reload\n",
      "/Users/jari/DATA/Projects/Clustering-Enron_UsedCase/enron/lib/python3.9/site-packages/past/builtins/misc.py:45: DeprecationWarning: the imp module is deprecated in favour of importlib; see the module's documentation for alternative uses\n",
      "  from imp import reload\n",
      "/Users/jari/DATA/Projects/Clustering-Enron_UsedCase/enron/lib/python3.9/site-packages/past/builtins/misc.py:45: DeprecationWarning: the imp module is deprecated in favour of importlib; see the module's documentation for alternative uses\n",
      "  from imp import reload\n",
      "/Users/jari/DATA/Projects/Clustering-Enron_UsedCase/enron/lib/python3.9/site-packages/past/builtins/misc.py:45: DeprecationWarning: the imp module is deprecated in favour of importlib; see the module's documentation for alternative uses\n",
      "  from imp import reload\n",
      "/Users/jari/DATA/Projects/Clustering-Enron_UsedCase/enron/lib/python3.9/site-packages/past/builtins/misc.py:45: DeprecationWarning: the imp module is deprecated in favour of importlib; see the module's documentation for alternative uses\n",
      "  from imp import reload\n"
     ]
    }
   ],
   "source": [
    "# Visualize the topics\n",
    "pyLDAvis.enable_notebook(sort=True)\n",
    "vis = pyLDAvis.gensim_models.prepare(lda_model, corpus, id2word)"
   ]
  },
  {
   "cell_type": "code",
   "execution_count": 33,
   "metadata": {},
   "outputs": [
    {
     "data": {
      "text/html": [
       "\n",
       "<link rel=\"stylesheet\" type=\"text/css\" href=\"https://cdn.jsdelivr.net/gh/bmabey/pyLDAvis@3.3.1/pyLDAvis/js/ldavis.v1.0.0.css\">\n",
       "\n",
       "\n",
       "<div id=\"ldavis_el289781402760582380802549691261\"></div>\n",
       "<script type=\"text/javascript\">\n",
       "\n",
       "var ldavis_el289781402760582380802549691261_data = {\"mdsDat\": {\"x\": [-0.17170847542795678, -0.11952269203952262, 0.2912311674674793], \"y\": [0.15947076645339583, -0.17973133536177524, 0.020260568908379625], \"topics\": [1, 2, 3], \"cluster\": [1, 1, 1], \"Freq\": [56.89959690716056, 32.71770347776882, 10.38269961507063]}, \"tinfo\": {\"Term\": [\"ect\", \"hou\", \"ee\", \"font\", \"size\", \"message\", \"align\", \"forward\", \"pm\", \"original\", \"right\", \"send\", \"market\", \"energy\", \"thank\", \"mail\", \"eric_bass\", \"meeting\", \"caiso\", \"attach\", \"email\", \"power\", \"http\", \"iso\", \"information\", \"say\", \"tr\", \"contact\", \"sdg\", \"know\", \"market\", \"power\", \"state\", \"electricity\", \"demand\", \"transaction\", \"utility\", \"issue\", \"wholesale\", \"amount\", \"unit\", \"project\", \"increase\", \"result\", \"plant\", \"level\", \"consumer\", \"settlement\", \"supply\", \"electric\", \"structure\", \"production\", \"volume\", \"industry\", \"load\", \"development\", \"develop\", \"commission\", \"operation\", \"share\", \"say\", \"iso\", \"cap\", \"company\", \"position\", \"summer\", \"continue\", \"price\", \"management\", \"cost\", \"risk\", \"financial\", \"month\", \"counterpartie\", \"trading\", \"business\", \"system\", \"board\", \"customer\", \"trade\", \"year\", \"also\", \"energy\", \"gas\", \"provide\", \"change\", \"new\", \"time\", \"make\", \"contract\", \"take\", \"week\", \"include\", \"deal\", \"call\", \"day\", \"know\", \"see\", \"need\", \"service\", \"font\", \"align\", \"size\", \"tr\", \"span\", \"style\", \"td\", \"br\", \"click\", \"nbsp_nbsp\", \"width\", \"image\", \"text\", \"dinner\", \"href\", \"img_src\", \"travel\", \"i\", \"color\", \"password\", \"love\", \"dad\", \"d\", \"src\", \"message\", \"reservation\", \"gif_width\", \"asp\", \"guest\", \"yahoo\", \"bigplanet\", \"class_msonormal\", \"style_padde\", \"sorry\", \"special\", \"tonight\", \"mailto\", \"height\", \"right\", \"original\", \"reply\", \"send\", \"night\", \"email\", \"leave\", \"table\", \"thank\", \"link\", \"let\", \"copy\", \"know\", \"request\", \"get\", \"go\", \"fax\", \"http\", \"mail\", \"see\", \"want\", \"pm\", \"receive\", \"list\", \"day\", \"time\", \"good\", \"make\", \"ect\", \"hou\", \"ee\", \"pgn\", \"enronxgate\", \"outlook_migration\", \"migration\", \"gen_pge\", \"denver_plachy\", \"ttc_pdf\", \"jim_schwieg\", \"carrfut\", \"david_baumbach\", \"robert_badeer\", \"shanna_husser\", \"matrix\", \"tel_fax\", \"mandatory\", \"eric\", \"rsvp\", \"steve_ponder\", \"william\", \"carr_future\", \"mary_hain\", \"sf\", \"financial_instrument\", \"bryan_hull\", \"bridge\", \"shapp_caiso\", \"mike_grigsby\", \"cpuc\", \"pdf\", \"cmr_stakeholder\", \"caiso\", \"neal_winfree\", \"apse\", \"fpl\", \"cmr_recommendation\", \"session\", \"mailbox\", \"reliable\", \"doc\", \"eric_bass\", \"migrate\", \"michael_walter\", \"aol\", \"www\", \"solicitation\", \"forward\", \"meeting\", \"stakeholder\", \"training\", \"pm\", \"attend\", \"attach\", \"sdg\", \"mail\", \"phillip\", \"http\", \"energy\", \"schedule\", \"contact\", \"information\", \"thank\", \"participant\", \"question\", \"file\", \"email\", \"date\"], \"Freq\": [11231.0, 5154.0, 3564.0, 5447.0, 4857.0, 4903.0, 4335.0, 2798.0, 3237.0, 4218.0, 4112.0, 4998.0, 6030.0, 3291.0, 4646.0, 2540.0, 1396.0, 1589.0, 1098.0, 1607.0, 2384.0, 3592.0, 1676.0, 4221.0, 2563.0, 3086.0, 1468.0, 1567.0, 871.0, 4000.0, 6029.493346758879, 3590.7759230282945, 1745.0731739196572, 1365.341662327267, 1447.6204127101862, 1006.1379464104715, 916.7842168237544, 1196.2816733379898, 1019.0859463744056, 754.6338031446002, 669.7377261046363, 670.5038072963931, 578.1830227103621, 643.3297138195608, 564.2387750168957, 551.980419215667, 500.2315441353731, 518.1896164649718, 626.921919298399, 546.6353121301707, 519.119290007911, 471.16599901404834, 664.9044804144731, 440.7515592246842, 537.5293421893463, 377.0542027505997, 371.581885125642, 365.56713632579323, 439.44453131646753, 399.8944324176546, 3078.789329980812, 4179.282876081825, 1285.0242086160445, 2705.5709174958483, 725.8577022570499, 712.9579094516619, 651.54526030478, 3936.7636313335406, 1040.9817585554586, 957.9388391645244, 738.3072261118444, 950.516547008447, 1134.725157524842, 855.8271202930688, 1644.7959437454351, 1754.8534905532517, 1123.159163200057, 919.3059846143283, 1326.667947429744, 1612.917022812896, 1797.7218320917668, 1713.9220905040365, 2534.4049097179873, 1956.7851257608654, 1530.3112890101108, 1558.230178054415, 2002.3967464802668, 2359.9316291966275, 2145.351401742562, 1344.5369019328448, 1446.593167475785, 1398.1612770195736, 1454.076548870354, 1474.0509183145416, 1634.4387514692828, 1552.2206877598564, 1687.5916223017578, 1587.7601322218986, 1404.9775075707169, 1392.743758555009, 5447.305401991109, 4334.845042501827, 4856.057931880901, 1468.064083150054, 1137.6305777146601, 1125.015260729044, 790.854960242944, 759.1443903120412, 915.072916538691, 716.4987439902001, 603.692708669519, 594.2470771701189, 576.9827569672124, 562.9575656365598, 425.80013641612027, 330.96561538091026, 315.8942305048511, 303.17697641548006, 267.6167834448167, 278.30490179415744, 708.1025177928109, 331.2036615212997, 277.6895755243724, 234.1685374520339, 4890.427315454734, 239.38502333960363, 206.69038275905402, 210.1875516799276, 254.77962377555338, 227.67155892803976, 1132.1749895685382, 479.12027282279223, 436.06276935225736, 393.03605244953263, 511.41622156325116, 418.9531921612388, 750.8412761214313, 305.2691898978282, 3811.5942212204927, 3877.1987768783097, 482.0527802109443, 4358.983100532729, 611.7211742683486, 2053.69740271602, 1438.3271521198396, 584.1940475208398, 3196.5239660519965, 589.6524134024032, 1794.1927930849529, 1006.7015547227127, 2312.3316552420774, 1378.814864719136, 2002.9636852223332, 1791.7825288945508, 955.3251965607326, 1125.6734682897074, 1422.9731037278616, 1684.3210880413073, 1322.0803127599524, 1590.2713640725592, 1065.541745885545, 1073.953307497351, 1223.2085558037027, 1220.4986434025466, 1052.5846517016453, 1048.8815831411691, 11230.688329576085, 5154.082926427258, 3563.596691529989, 560.6734045113375, 210.45697773417484, 87.78666447527758, 144.8506619791786, 70.15688946874742, 108.59489749577467, 92.0790161367954, 57.32163189482497, 50.96418788993341, 313.0127646016973, 124.39433707872428, 153.39998625494684, 63.196335089564705, 71.96691843942583, 69.6693371816249, 305.6113356895535, 54.27279451951643, 46.141591265385976, 51.900203804895426, 32.99346602411199, 32.45345807846959, 35.31095889987281, 31.53054058316161, 299.6891788440798, 40.964891973093486, 40.5048771276411, 27.33992778583357, 128.05127994945386, 252.24175364706426, 65.34776773438035, 1029.5706404687955, 149.62109448030887, 73.97741796537713, 101.45009293167928, 124.14251502543861, 288.5897993204598, 161.0057560230184, 93.04312042590513, 554.1955771689946, 1065.681179151114, 144.58352400301672, 109.97571792870437, 253.48757725857533, 362.58952546007424, 120.5262309715531, 1479.5310783921632, 899.8850285068618, 254.5679374826586, 325.4524526567302, 1372.329020839537, 332.7506551869948, 772.3689886415674, 477.605017595981, 855.0693159330806, 188.64884817794243, 550.8442549079847, 756.8321785706717, 430.2077823476714, 500.72409098257236, 624.7026301382726, 701.1265142724078, 340.1905942793202, 362.136475319359, 328.9806977007013, 330.504797306629, 299.8323478305822], \"Total\": [11231.0, 5154.0, 3564.0, 5447.0, 4857.0, 4903.0, 4335.0, 2798.0, 3237.0, 4218.0, 4112.0, 4998.0, 6030.0, 3291.0, 4646.0, 2540.0, 1396.0, 1589.0, 1098.0, 1607.0, 2384.0, 3592.0, 1676.0, 4221.0, 2563.0, 3086.0, 1468.0, 1567.0, 871.0, 4000.0, 6030.430166327975, 3592.0997358789496, 1745.8054021537896, 1365.9622461661952, 1448.355607593473, 1006.8233746695678, 917.4247637518009, 1197.1338373429448, 1019.865841963504, 755.3731629163982, 670.4219933037787, 671.198265009661, 578.8302628565368, 644.0774207209936, 564.9201871311006, 552.6864638475573, 500.8765807138159, 518.8840506919906, 627.7754474599911, 547.3899160699829, 519.8410228170306, 471.8346539354113, 665.9795463729001, 441.4890148802344, 538.4419602325194, 377.7206597804424, 372.2491173416309, 366.23585941211536, 440.2494203984996, 400.64249813528573, 3086.621423597384, 4221.698408265397, 1287.6162011394379, 2750.941622608076, 728.4035833704096, 715.6693852398378, 653.4902687193634, 4080.85099100001, 1050.6795778600795, 968.1212171499868, 744.0324496009015, 963.0741458057709, 1159.3388112231, 870.7708746863439, 1725.046582027745, 1876.0268734570766, 1171.0030254049022, 946.7103045845244, 1412.807775527613, 1755.3024173839083, 1982.43277628266, 1997.5771043171658, 3291.9515735876785, 2460.016821547509, 1833.3996402172281, 1940.899842946024, 2754.3081853004264, 3655.6993655315073, 3194.6692779253362, 1658.5618613742802, 1935.9427939486004, 1820.0748982274085, 2058.9404568516193, 2133.874444564321, 2725.1055313677216, 2775.7862229524953, 4000.680333086501, 3383.1646981245444, 2228.28091039746, 2084.287510979246, 5447.902708787254, 4335.438774114616, 4857.265502490308, 1468.6567658862457, 1138.220187447917, 1125.6568676944933, 791.4455333490673, 759.7399411637546, 915.7935489702212, 717.0893061085621, 604.2877393643282, 594.8453262140861, 577.7273087170057, 563.8044534369966, 426.46686595183303, 331.58438628711184, 316.52986805520845, 303.832435466376, 268.2156967252598, 278.95128049323705, 709.8227329904917, 332.0201577344627, 278.374666080407, 234.79754587328455, 4903.662660804154, 240.09479381082375, 207.32964921490117, 210.8502730032105, 255.6388864706421, 228.4495307461811, 1142.5678532664972, 481.277153530443, 438.10027481242486, 395.1760076176151, 515.6163879983399, 421.8621381586155, 760.6413771977208, 306.49114971065006, 4112.568077424877, 4218.846087545459, 492.3804756713684, 4998.006350327593, 632.8197612359863, 2384.6616063436463, 1625.3042640305662, 621.1824489928725, 4646.87748329752, 628.0265217350362, 2518.4895958727207, 1266.4410333763967, 4000.680333086501, 1995.9124833535539, 3391.996765637241, 3081.317465716784, 1244.353138288764, 1676.8692149240433, 2540.344890960161, 3383.1646981245444, 2257.952893712886, 3237.103167171852, 1796.7760205863874, 1832.748310079571, 2775.7862229524953, 3655.6993655315073, 1938.3662982338533, 3194.6692779253362, 11231.45433386241, 5154.822430672117, 3564.3195322216307, 562.2995578227954, 211.16075289626474, 88.56549363763543, 146.16476560168397, 70.90085330749005, 109.79838686483401, 93.1990324316761, 58.02054994695014, 51.64419272679401, 317.1925020338621, 126.10280829256999, 155.52120856594428, 64.1009920558457, 73.07901165997889, 70.7779100276867, 310.50755711617853, 55.24672888310066, 46.977646562297714, 52.91425265272781, 33.6721207291116, 33.15054365839257, 36.070667046736965, 32.29185565881143, 307.0962367350769, 41.99055049966229, 41.54733940875587, 28.0518835636848, 132.63779007533415, 263.0758049213574, 67.34426783090953, 1098.9454416930364, 155.8372074681915, 76.94474493224656, 106.77530679844794, 132.42575047385856, 326.66579913807107, 177.0700838798732, 98.50810991381208, 674.842935773422, 1396.6134928193183, 159.6385257085483, 118.960524726841, 315.6340602709189, 479.5305618819853, 135.65716536336114, 2798.298337554416, 1589.1782289460075, 343.8474829173834, 475.3090718397427, 3237.103167171852, 513.5627220061035, 1607.077595708497, 871.884032177006, 2540.344890960161, 247.08698011206351, 1676.8692149240433, 3291.9515735876785, 1155.046780069824, 1567.480590563398, 2563.7557361273803, 4646.87748329752, 1156.4603328743065, 1801.7147081004166, 1656.7411869504679, 2384.6616063436463, 1795.2550214451746], \"Category\": [\"Default\", \"Default\", \"Default\", \"Default\", \"Default\", \"Default\", \"Default\", \"Default\", \"Default\", \"Default\", \"Default\", \"Default\", \"Default\", \"Default\", \"Default\", \"Default\", \"Default\", \"Default\", \"Default\", \"Default\", \"Default\", \"Default\", \"Default\", \"Default\", \"Default\", \"Default\", \"Default\", \"Default\", \"Default\", \"Default\", \"Topic1\", \"Topic1\", \"Topic1\", \"Topic1\", \"Topic1\", \"Topic1\", \"Topic1\", \"Topic1\", \"Topic1\", \"Topic1\", \"Topic1\", \"Topic1\", \"Topic1\", \"Topic1\", \"Topic1\", \"Topic1\", \"Topic1\", \"Topic1\", \"Topic1\", \"Topic1\", \"Topic1\", \"Topic1\", \"Topic1\", \"Topic1\", \"Topic1\", \"Topic1\", \"Topic1\", \"Topic1\", \"Topic1\", \"Topic1\", \"Topic1\", \"Topic1\", \"Topic1\", \"Topic1\", \"Topic1\", \"Topic1\", \"Topic1\", \"Topic1\", \"Topic1\", \"Topic1\", \"Topic1\", \"Topic1\", \"Topic1\", \"Topic1\", \"Topic1\", \"Topic1\", \"Topic1\", \"Topic1\", \"Topic1\", \"Topic1\", \"Topic1\", \"Topic1\", \"Topic1\", \"Topic1\", \"Topic1\", \"Topic1\", \"Topic1\", \"Topic1\", \"Topic1\", \"Topic1\", \"Topic1\", \"Topic1\", \"Topic1\", \"Topic1\", \"Topic1\", \"Topic1\", \"Topic1\", \"Topic1\", \"Topic1\", \"Topic1\", \"Topic2\", \"Topic2\", \"Topic2\", \"Topic2\", \"Topic2\", \"Topic2\", \"Topic2\", \"Topic2\", \"Topic2\", \"Topic2\", \"Topic2\", \"Topic2\", \"Topic2\", \"Topic2\", \"Topic2\", \"Topic2\", \"Topic2\", \"Topic2\", \"Topic2\", \"Topic2\", \"Topic2\", \"Topic2\", \"Topic2\", \"Topic2\", \"Topic2\", \"Topic2\", \"Topic2\", \"Topic2\", \"Topic2\", \"Topic2\", \"Topic2\", \"Topic2\", \"Topic2\", \"Topic2\", \"Topic2\", \"Topic2\", \"Topic2\", \"Topic2\", \"Topic2\", \"Topic2\", \"Topic2\", \"Topic2\", \"Topic2\", \"Topic2\", \"Topic2\", \"Topic2\", \"Topic2\", \"Topic2\", \"Topic2\", \"Topic2\", \"Topic2\", \"Topic2\", \"Topic2\", \"Topic2\", \"Topic2\", \"Topic2\", \"Topic2\", \"Topic2\", \"Topic2\", \"Topic2\", \"Topic2\", \"Topic2\", \"Topic2\", \"Topic2\", \"Topic2\", \"Topic2\", \"Topic3\", \"Topic3\", \"Topic3\", \"Topic3\", \"Topic3\", \"Topic3\", \"Topic3\", \"Topic3\", \"Topic3\", \"Topic3\", \"Topic3\", \"Topic3\", \"Topic3\", \"Topic3\", \"Topic3\", \"Topic3\", \"Topic3\", \"Topic3\", \"Topic3\", \"Topic3\", \"Topic3\", \"Topic3\", \"Topic3\", \"Topic3\", \"Topic3\", \"Topic3\", \"Topic3\", \"Topic3\", \"Topic3\", \"Topic3\", \"Topic3\", \"Topic3\", \"Topic3\", \"Topic3\", \"Topic3\", \"Topic3\", \"Topic3\", \"Topic3\", \"Topic3\", \"Topic3\", \"Topic3\", \"Topic3\", \"Topic3\", \"Topic3\", \"Topic3\", \"Topic3\", \"Topic3\", \"Topic3\", \"Topic3\", \"Topic3\", \"Topic3\", \"Topic3\", \"Topic3\", \"Topic3\", \"Topic3\", \"Topic3\", \"Topic3\", \"Topic3\", \"Topic3\", \"Topic3\", \"Topic3\", \"Topic3\", \"Topic3\", \"Topic3\", \"Topic3\", \"Topic3\", \"Topic3\", \"Topic3\", \"Topic3\"], \"logprob\": [30.0, 29.0, 28.0, 27.0, 26.0, 25.0, 24.0, 23.0, 22.0, 21.0, 20.0, 19.0, 18.0, 17.0, 16.0, 15.0, 14.0, 13.0, 12.0, 11.0, 10.0, 9.0, 8.0, 7.0, 6.0, 5.0, 4.0, 3.0, 2.0, 1.0, -4.2723, -4.7906, -5.5122, -5.7576, -5.6991, -6.0629, -6.1559, -5.8898, -6.0501, -6.3505, -6.4699, -6.4687, -6.6169, -6.5101, -6.6413, -6.6632, -6.7617, -6.7264, -6.5359, -6.673, -6.7246, -6.8216, -6.4771, -6.8883, -6.6898, -7.0444, -7.059, -7.0753, -6.8912, -6.9856, -4.9445, -4.6389, -5.8182, -5.0737, -6.3894, -6.4073, -6.4974, -4.6986, -6.0288, -6.112, -6.3724, -6.1198, -5.9426, -6.2247, -5.5714, -5.5066, -5.9529, -6.1531, -5.7863, -5.591, -5.4825, -5.5302, -5.139, -5.3977, -5.6435, -5.6255, -5.3747, -5.2104, -5.3057, -5.773, -5.6998, -5.7338, -5.6946, -5.681, -5.5777, -5.6293, -5.5457, -5.6067, -5.729, -5.7377, -3.8205, -4.0489, -3.9354, -5.1317, -5.3867, -5.3978, -5.7503, -5.7912, -5.6044, -5.849, -6.0203, -6.0361, -6.0656, -6.0902, -6.3694, -6.6214, -6.668, -6.7091, -6.8338, -6.7947, -5.8608, -6.6207, -6.7969, -6.9673, -3.9284, -6.9453, -7.0922, -7.0754, -6.883, -6.9955, -5.3915, -6.2514, -6.3456, -6.4495, -6.1862, -6.3856, -5.8022, -6.7022, -4.1776, -4.1605, -6.2453, -4.0434, -6.0071, -4.796, -5.1522, -6.0532, -4.3536, -6.0439, -4.9311, -5.509, -4.6774, -5.1944, -4.821, -4.9324, -5.5613, -5.3973, -5.1629, -4.9943, -5.2364, -5.0517, -5.4522, -5.4443, -5.3142, -5.3164, -5.4644, -5.4679, -1.9492, -2.7281, -3.0971, -4.9465, -5.9263, -6.8007, -6.2999, -7.0249, -6.588, -6.753, -7.2269, -7.3445, -5.5294, -6.4522, -6.2426, -7.1294, -6.9994, -7.0319, -5.5533, -7.2816, -7.4439, -7.3263, -7.7793, -7.7958, -7.7114, -7.8247, -5.5729, -7.5629, -7.5742, -7.9673, -6.4232, -5.7452, -7.0959, -4.3387, -6.2675, -6.9719, -6.656, -6.4542, -5.6106, -6.1942, -6.7426, -4.9581, -4.3042, -6.3018, -6.5754, -5.7403, -5.3823, -6.4837, -3.9761, -4.4733, -5.736, -5.4904, -4.0513, -5.4682, -4.6262, -5.1068, -4.5244, -6.0357, -4.9642, -4.6465, -5.2113, -5.0596, -4.8383, -4.7229, -5.4461, -5.3836, -5.4796, -5.475, -5.5724], \"loglift\": [30.0, 29.0, 28.0, 27.0, 26.0, 25.0, 24.0, 23.0, 22.0, 21.0, 20.0, 19.0, 18.0, 17.0, 16.0, 15.0, 14.0, 13.0, 12.0, 11.0, 10.0, 9.0, 8.0, 7.0, 6.0, 5.0, 4.0, 3.0, 2.0, 1.0, 0.5637, 0.5635, 0.5635, 0.5634, 0.5634, 0.5632, 0.5632, 0.5632, 0.5631, 0.5629, 0.5629, 0.5628, 0.5628, 0.5627, 0.5627, 0.5626, 0.5626, 0.5625, 0.5625, 0.5625, 0.5625, 0.5625, 0.5623, 0.5622, 0.5622, 0.5621, 0.5621, 0.5621, 0.5621, 0.562, 0.5613, 0.5538, 0.5619, 0.5473, 0.5604, 0.5601, 0.5609, 0.5279, 0.5546, 0.5533, 0.5562, 0.5508, 0.5424, 0.5466, 0.5162, 0.4971, 0.5222, 0.5345, 0.501, 0.4793, 0.4661, 0.4107, 0.3024, 0.335, 0.3832, 0.3443, 0.2451, 0.1262, 0.1657, 0.354, 0.2725, 0.3002, 0.2161, 0.194, 0.0527, -0.0174, -0.2993, -0.1926, 0.1027, 0.1607, 1.1171, 1.1171, 1.117, 1.1169, 1.1167, 1.1167, 1.1165, 1.1165, 1.1165, 1.1164, 1.1163, 1.1162, 1.116, 1.1158, 1.1157, 1.1154, 1.1152, 1.1151, 1.115, 1.1149, 1.1148, 1.1148, 1.1148, 1.1146, 1.1146, 1.1143, 1.1142, 1.1141, 1.1139, 1.1138, 1.1081, 1.1128, 1.1126, 1.1118, 1.1091, 1.1103, 1.1043, 1.1133, 1.0413, 1.0328, 1.0961, 0.9805, 1.0833, 0.9678, 0.995, 1.0559, 0.7431, 1.0542, 0.7781, 0.8877, 0.569, 0.7474, 0.5905, 0.5751, 0.8529, 0.7187, 0.5377, 0.4198, 0.582, 0.4065, 0.5947, 0.5828, 0.2978, 0.0202, 0.5067, 0.0035, 2.265, 2.2649, 2.2648, 2.2621, 2.2617, 2.2562, 2.256, 2.2545, 2.254, 2.2529, 2.2529, 2.2518, 2.2518, 2.2514, 2.2513, 2.2508, 2.2497, 2.2492, 2.2491, 2.2472, 2.2471, 2.2457, 2.2447, 2.2438, 2.2437, 2.2412, 2.2406, 2.2403, 2.2396, 2.2393, 2.2298, 2.223, 2.2349, 2.1998, 2.2243, 2.2257, 2.2139, 2.2004, 2.1411, 2.1699, 2.208, 2.0681, 1.9946, 2.166, 2.1865, 2.0458, 1.9855, 2.1468, 1.6277, 1.6963, 1.9644, 1.8863, 1.4069, 1.8311, 1.5323, 1.6632, 1.1762, 1.9952, 1.1518, 0.7949, 1.2774, 1.1239, 0.8531, 0.3738, 1.0414, 0.6606, 0.6484, 0.2888, 0.4754]}, \"token.table\": {\"Topic\": [2, 1, 2, 3, 1, 2, 3, 1, 3, 2, 1, 2, 3, 2, 3, 1, 2, 3, 1, 2, 3, 2, 2, 3, 1, 2, 3, 1, 2, 1, 2, 3, 1, 2, 3, 1, 3, 3, 3, 1, 2, 3, 1, 2, 3, 2, 1, 3, 1, 3, 2, 1, 1, 2, 1, 1, 2, 3, 1, 2, 1, 2, 1, 2, 3, 1, 2, 1, 2, 3, 1, 3, 1, 2, 2, 2, 1, 2, 3, 1, 2, 3, 1, 2, 1, 2, 1, 2, 3, 1, 1, 2, 2, 3, 3, 3, 1, 1, 2, 3, 1, 2, 3, 3, 2, 3, 1, 2, 3, 1, 2, 3, 1, 2, 3, 1, 2, 3, 2, 1, 2, 3, 1, 2, 3, 1, 2, 3, 3, 1, 2, 2, 1, 2, 1, 2, 1, 2, 1, 2, 3, 2, 2, 3, 2, 2, 2, 1, 2, 1, 1, 1, 2, 3, 1, 2, 3, 1, 2, 3, 1, 2, 3, 1, 2, 1, 2, 3, 1, 1, 2, 3, 1, 2, 3, 1, 3, 1, 2, 3, 1, 2, 3, 2, 3, 1, 2, 3, 1, 2, 1, 2, 3, 1, 3, 1, 2, 3, 3, 1, 2, 3, 1, 2, 1, 2, 3, 1, 3, 1, 2, 3, 3, 1, 2, 2, 1, 2, 3, 1, 2, 3, 1, 2, 3, 1, 2, 1, 1, 2, 3, 1, 2, 3, 2, 2, 3, 1, 2, 3, 1, 2, 3, 1, 1, 2, 3, 1, 3, 1, 2, 1, 2, 3, 1, 1, 1, 2, 1, 2, 3, 1, 2, 3, 1, 2, 3, 1, 2, 3, 1, 2, 3, 2, 1, 1, 2, 1, 2, 1, 3, 1, 3, 1, 2, 1, 2, 3, 1, 2, 3, 1, 2, 3, 1, 2, 3, 1, 2, 1, 2, 3, 1, 3, 1, 2, 3, 1, 3, 1, 1, 2, 1, 3, 1, 2, 2, 1, 2, 2, 1, 3, 1, 3, 1, 2, 1, 2, 3, 1, 3, 1, 1, 2, 3, 1, 2, 3, 1, 2, 3, 2, 1, 2, 3, 2, 1, 2, 3, 1, 2, 3, 2, 3, 2, 1, 2, 1, 2, 3, 1, 2, 3, 1, 2, 1, 3, 1, 1, 1, 3, 1, 2, 1, 2, 1, 2, 1, 3, 2, 3, 2, 1, 2], \"Freq\": [0.9998987936083343, 0.8580394700638595, 0.12665343402926282, 0.015518800217024297, 0.999505988649428, 0.1964300048821835, 0.8015611489547165, 0.038989017412971345, 0.9617290961866265, 0.9959674085733929, 0.2327205612216367, 0.28685609284271263, 0.4803750622008116, 0.3504927291001093, 0.6484115488352022, 0.007001772347374145, 0.9907507871534416, 0.0026256646302653046, 0.9707299007411931, 0.02218207607787275, 0.007394025359290916, 0.999026059940167, 0.02381488187462659, 0.9764101568596902, 0.0065126164399251256, 0.016281541099812814, 0.9768924659887688, 0.9354876653584111, 0.06449800997627791, 0.06278746640388128, 0.0009099632812156707, 0.9372621796521409, 0.599609806369554, 0.3291615644513402, 0.07082294530558379, 0.9979681824932595, 0.0015532578715848396, 0.9800392516254401, 0.9875263278835262, 0.8027204524037502, 0.1798135031379389, 0.0175176478701717, 0.0041556096842097255, 0.9952685193682294, 0.0020778048421048628, 0.9991334848655425, 0.060411211349557244, 0.9363737759181373, 0.029698147510069807, 0.9651897940772687, 0.9991958087170388, 0.9993559903923828, 0.9836631856384257, 0.016358035237889562, 0.9982499067683168, 0.3081377867820333, 0.37257239644038814, 0.3196211825627302, 0.9977195242367054, 0.003060489338149403, 0.8109435236172237, 0.1893206441753221, 0.19345551316101742, 0.7951416398087532, 0.011054600752058137, 0.9895455063160559, 0.010329285034614362, 0.9830370133915373, 0.01492930043702101, 0.0022968154518493863, 0.030157317893551482, 0.9650341725936474, 0.9392643663108605, 0.060871692164833464, 0.9986540941900985, 0.996927422294406, 0.31527554204770963, 0.5180322510677914, 0.16710717776380368, 0.006305319284585386, 0.006305319284585386, 0.9867824680376128, 0.5591208671499198, 0.4405958895131134, 0.6907622909842527, 0.3088279170682649, 0.9997544749427498, 0.009107601928897535, 0.9927286102498313, 0.9993307778849553, 0.9980920827024359, 0.998573169416998, 0.177819154115425, 0.8209317614995455, 0.9999595480826521, 0.999910352531881, 0.9992876813062573, 0.9992955543472041, 0.8613381431293964, 0.13880376113721044, 0.7697561593344955, 0.0003037711757436841, 0.22995478003796885, 0.9945029894033625, 0.012882134132739876, 0.9854832611546005, 0.02935672626020106, 0.20764513696239773, 0.7632748827652275, 0.15590429599975858, 0.7674670241225229, 0.07714851760812796, 0.2975721276703791, 0.5040014738433398, 0.19858261664007043, 0.9874629114919612, 0.01246009982955156, 0.9909619421721962, 0.9998343015954015, 0.3316301151831543, 0.13972777482393675, 0.528892856111065, 0.046827306330649465, 0.009365461266129893, 0.9459115878791191, 0.7955230154763416, 0.12926740874883835, 0.07560923907950923, 0.9872941824327115, 0.40949331499113445, 0.5905076385365315, 0.9984100237657785, 0.41832755447681513, 0.5815694163091177, 0.45657005118504673, 0.5432409761557675, 0.0039117679387750005, 0.9975008243876251, 0.003262736953233634, 0.9951347707362584, 0.9998404541217126, 0.9989052702821566, 0.6714894578412332, 0.32858853576422686, 0.9972602152726115, 0.9985789142541202, 0.9982375940747529, 0.7061884646355194, 0.2933547679778912, 0.998565619474629, 0.9988923509674028, 0.4590920981332992, 0.29722020286964657, 0.2437829747946576, 0.9898859643356331, 0.002131843426422756, 0.007816759230216772, 0.9990528733650521, 0.0008353284894356623, 0.982410543369836, 0.4219282370650489, 0.5779017085867257, 0.00024995748641294365, 0.11505538017617802, 0.8847574154724277, 0.287076826199658, 0.7123317098232178, 0.00039706338340201664, 0.9987579506782589, 0.055730130478098605, 0.9394507709165194, 0.0063691577689255555, 0.31482773538879916, 0.5860051781760317, 0.09930441566856403, 0.9991791868666244, 0.0018572103845104543, 0.0014088024425295425, 0.9974321293109162, 0.0014088024425295425, 0.10313560215084543, 0.5601601597734849, 0.3365684726678353, 0.09035970192940453, 0.909244500664633, 0.001314679992408644, 0.9873246742988916, 0.011832119931677796, 0.6714310037729456, 0.32835949788243357, 0.990787317024098, 0.0019035299078272777, 0.006662354677395472, 0.014128702014637376, 0.9890091410246162, 0.9997628417395561, 0.00016582564964995124, 0.9652933698388595, 0.9828241027083248, 0.36119296724867334, 0.07236444465783526, 0.5663304364526237, 0.002651079590753929, 0.9972137845220549, 0.03362459949789951, 0.04203074937237439, 0.9246764861922365, 0.09396228093076647, 0.9083020489974092, 0.006841594113899629, 0.006841594113899629, 0.9920311465154462, 0.9625022126839803, 0.9790062999810878, 0.02070145480136221, 0.9984809338261178, 0.012833905538304947, 0.032084763845762365, 0.962542915372871, 0.6305309144121282, 0.3110020809164447, 0.058789715151593445, 0.726861289773073, 0.26177172323995285, 0.011255094896586045, 0.033184804404628634, 0.9671000140777488, 0.9971620169371974, 0.08082778867109491, 0.9189716618118329, 0.9936149665698343, 0.6779307320048058, 0.028535349688977796, 0.2940005725531046, 0.996589797001272, 0.03801185746819002, 0.9578988081983885, 0.001778411499863108, 0.001778411499863108, 0.9976888514232037, 0.03642442024228938, 0.202357890234941, 0.764912825088077, 0.9983711201120751, 0.08495249789652463, 0.491179896928997, 0.4238357349601157, 0.9967002038083229, 0.0027457305890036445, 0.9996938459508891, 0.0002783887067532412, 0.9647497565293951, 0.023769552040475317, 0.011517205627859173, 0.9982310457096575, 0.9997046103662707, 0.8345152723051259, 0.16526675000552493, 0.6288453965026152, 0.17039323629859035, 0.20091971185696972, 0.2960858748695783, 0.5932848545318994, 0.11075392687790618, 0.05075724226537959, 0.010151448453075917, 0.9440847061360602, 0.002030949741937847, 0.9789177756140423, 0.018278547677440624, 0.1863809175515359, 0.6909120572676559, 0.12275087311861908, 0.9954401601407219, 0.9983271875611048, 0.07319027778586318, 0.926914747241563, 0.9918922224371568, 0.006720137008381821, 0.007930037510980002, 0.9833246513615201, 0.018100619171787537, 0.9774334352765269, 0.9975308200937382, 0.002591830646557293, 0.5237883092175946, 0.10389189604315927, 0.372279294154654, 0.4518949601774699, 0.0011469415232930708, 0.5482380481340878, 0.46938300133017674, 0.4977587998992554, 0.03280951709549724, 0.11504587223309785, 0.87214775141578, 0.012805105778988283, 0.6683338995518602, 0.33152815835630683, 0.03673479143412864, 0.07959204810727873, 0.8846962270385981, 0.9982962461636435, 0.9703175146345452, 0.006429991183973978, 0.012859982367947956, 0.9837886511480186, 0.024068929905756025, 0.9868261261359971, 0.9983963305483664, 0.00020587715443747155, 0.9997394619483618, 0.11057285444393683, 0.8919543591810903, 0.005061035997750308, 0.9944935735579356, 0.9998065510958731, 0.007757705327265275, 0.9910468555581389, 0.9966032614594917, 0.2588356885584186, 0.7416078717123229, 0.9995386644165518, 0.9791891115490163, 0.9983821538121922, 0.9994164583246059, 0.0022825824531339444, 0.9952059495663999, 0.0022825824531339444, 0.9962700860273027, 0.002794586496570274, 0.998764769372347, 0.9590069159827285, 0.02903493779466854, 0.011955562621334105, 0.057953987686495415, 0.940142466914259, 0.0016098329912915391, 0.7474394411462233, 0.2448419454756806, 0.00774816283150888, 0.9994370637898706, 0.013683819434405975, 0.013683819434405975, 0.9852349992772302, 0.9987410864848663, 0.16118350498634068, 0.6879888724183326, 0.15085398797787025, 0.6455673084750163, 0.3337254730252203, 0.020515910226960265, 0.9932154656705898, 0.00711132791649587, 0.9995528118608098, 0.9189299712832419, 0.08089774080732819, 0.9535974373899792, 0.030144113522358, 0.016231445742808156, 0.002103894201155, 0.313480235972095, 0.683765615375375, 0.999182205449056, 0.9983260093005946, 0.010729725125988798, 0.9871347115909694, 0.9993705556977641, 0.9995370042660895, 0.9985291644792471, 0.0015015476157582664, 0.41453477732251515, 0.5854860850644925, 0.7681002586000872, 0.23185859022119945, 0.9991510236661746, 0.9995238371630195, 0.01889849992898744, 0.9827219963073469, 0.2439886199136443, 0.7569903335782298, 0.9980322535804175, 0.9069664411882368, 0.09281525315830677], \"Term\": [\"align\", \"also\", \"also\", \"also\", \"amount\", \"aol\", \"aol\", \"apse\", \"apse\", \"asp\", \"attach\", \"attach\", \"attach\", \"attend\", \"attend\", \"bigplanet\", \"bigplanet\", \"bigplanet\", \"board\", \"board\", \"board\", \"br\", \"bridge\", \"bridge\", \"bryan_hull\", \"bryan_hull\", \"bryan_hull\", \"business\", \"business\", \"caiso\", \"caiso\", \"caiso\", \"call\", \"call\", \"call\", \"cap\", \"cap\", \"carr_future\", \"carrfut\", \"change\", \"change\", \"change\", \"class_msonormal\", \"class_msonormal\", \"class_msonormal\", \"click\", \"cmr_recommendation\", \"cmr_recommendation\", \"cmr_stakeholder\", \"cmr_stakeholder\", \"color\", \"commission\", \"company\", \"company\", \"consumer\", \"contact\", \"contact\", \"contact\", \"continue\", \"continue\", \"contract\", \"contract\", \"copy\", \"copy\", \"copy\", \"cost\", \"cost\", \"counterpartie\", \"counterpartie\", \"counterpartie\", \"cpuc\", \"cpuc\", \"customer\", \"customer\", \"d\", \"dad\", \"date\", \"date\", \"date\", \"david_baumbach\", \"david_baumbach\", \"david_baumbach\", \"day\", \"day\", \"deal\", \"deal\", \"demand\", \"denver_plachy\", \"denver_plachy\", \"develop\", \"development\", \"dinner\", \"doc\", \"doc\", \"ect\", \"ee\", \"electric\", \"electricity\", \"email\", \"email\", \"energy\", \"energy\", \"energy\", \"enronxgate\", \"eric\", \"eric\", \"eric_bass\", \"eric_bass\", \"eric_bass\", \"fax\", \"fax\", \"fax\", \"file\", \"file\", \"file\", \"financial\", \"financial\", \"financial_instrument\", \"font\", \"forward\", \"forward\", \"forward\", \"fpl\", \"fpl\", \"fpl\", \"gas\", \"gas\", \"gas\", \"gen_pge\", \"get\", \"get\", \"gif_width\", \"go\", \"go\", \"good\", \"good\", \"guest\", \"guest\", \"height\", \"height\", \"hou\", \"href\", \"http\", \"http\", \"i\", \"image\", \"img_src\", \"include\", \"include\", \"increase\", \"industry\", \"information\", \"information\", \"information\", \"iso\", \"iso\", \"iso\", \"issue\", \"issue\", \"jim_schwieg\", \"know\", \"know\", \"know\", \"leave\", \"leave\", \"let\", \"let\", \"let\", \"level\", \"link\", \"link\", \"link\", \"list\", \"list\", \"list\", \"load\", \"load\", \"love\", \"love\", \"love\", \"mail\", \"mail\", \"mail\", \"mailbox\", \"mailbox\", \"mailto\", \"mailto\", \"mailto\", \"make\", \"make\", \"management\", \"management\", \"management\", \"mandatory\", \"mandatory\", \"market\", \"market\", \"mary_hain\", \"matrix\", \"meeting\", \"meeting\", \"meeting\", \"message\", \"message\", \"michael_walter\", \"michael_walter\", \"michael_walter\", \"migrate\", \"migrate\", \"migration\", \"migration\", \"migration\", \"mike_grigsby\", \"month\", \"month\", \"nbsp_nbsp\", \"neal_winfree\", \"neal_winfree\", \"neal_winfree\", \"need\", \"need\", \"need\", \"new\", \"new\", \"new\", \"night\", \"night\", \"operation\", \"original\", \"original\", \"outlook_migration\", \"participant\", \"participant\", \"participant\", \"password\", \"pdf\", \"pdf\", \"pgn\", \"pgn\", \"pgn\", \"phillip\", \"phillip\", \"phillip\", \"plant\", \"pm\", \"pm\", \"pm\", \"position\", \"position\", \"power\", \"power\", \"price\", \"price\", \"price\", \"production\", \"project\", \"provide\", \"provide\", \"question\", \"question\", \"question\", \"receive\", \"receive\", \"receive\", \"reliable\", \"reliable\", \"reliable\", \"reply\", \"reply\", \"reply\", \"request\", \"request\", \"request\", \"reservation\", \"result\", \"right\", \"right\", \"risk\", \"risk\", \"robert_badeer\", \"robert_badeer\", \"rsvp\", \"rsvp\", \"say\", \"say\", \"schedule\", \"schedule\", \"schedule\", \"sdg\", \"sdg\", \"sdg\", \"see\", \"see\", \"see\", \"send\", \"send\", \"send\", \"service\", \"service\", \"session\", \"session\", \"session\", \"settlement\", \"sf\", \"shanna_husser\", \"shanna_husser\", \"shanna_husser\", \"shapp_caiso\", \"shapp_caiso\", \"share\", \"size\", \"size\", \"solicitation\", \"solicitation\", \"sorry\", \"sorry\", \"span\", \"special\", \"special\", \"src\", \"stakeholder\", \"stakeholder\", \"state\", \"steve_ponder\", \"structure\", \"style\", \"style_padde\", \"style_padde\", \"style_padde\", \"summer\", \"summer\", \"supply\", \"system\", \"system\", \"system\", \"table\", \"table\", \"table\", \"take\", \"take\", \"take\", \"td\", \"tel_fax\", \"tel_fax\", \"tel_fax\", \"text\", \"thank\", \"thank\", \"thank\", \"time\", \"time\", \"time\", \"tonight\", \"tonight\", \"tr\", \"trade\", \"trade\", \"trading\", \"trading\", \"trading\", \"training\", \"training\", \"training\", \"transaction\", \"travel\", \"ttc_pdf\", \"ttc_pdf\", \"unit\", \"utility\", \"volume\", \"volume\", \"want\", \"want\", \"week\", \"week\", \"wholesale\", \"width\", \"william\", \"william\", \"www\", \"www\", \"yahoo\", \"year\", \"year\"]}, \"R\": 30, \"lambda.step\": 0.01, \"plot.opts\": {\"xlab\": \"PC1\", \"ylab\": \"PC2\"}, \"topic.order\": [2, 1, 3]};\n",
       "\n",
       "function LDAvis_load_lib(url, callback){\n",
       "  var s = document.createElement('script');\n",
       "  s.src = url;\n",
       "  s.async = true;\n",
       "  s.onreadystatechange = s.onload = callback;\n",
       "  s.onerror = function(){console.warn(\"failed to load library \" + url);};\n",
       "  document.getElementsByTagName(\"head\")[0].appendChild(s);\n",
       "}\n",
       "\n",
       "if(typeof(LDAvis) !== \"undefined\"){\n",
       "   // already loaded: just create the visualization\n",
       "   !function(LDAvis){\n",
       "       new LDAvis(\"#\" + \"ldavis_el289781402760582380802549691261\", ldavis_el289781402760582380802549691261_data);\n",
       "   }(LDAvis);\n",
       "}else if(typeof define === \"function\" && define.amd){\n",
       "   // require.js is available: use it to load d3/LDAvis\n",
       "   require.config({paths: {d3: \"https://d3js.org/d3.v5\"}});\n",
       "   require([\"d3\"], function(d3){\n",
       "      window.d3 = d3;\n",
       "      LDAvis_load_lib(\"https://cdn.jsdelivr.net/gh/bmabey/pyLDAvis@3.3.1/pyLDAvis/js/ldavis.v3.0.0.js\", function(){\n",
       "        new LDAvis(\"#\" + \"ldavis_el289781402760582380802549691261\", ldavis_el289781402760582380802549691261_data);\n",
       "      });\n",
       "    });\n",
       "}else{\n",
       "    // require.js not available: dynamically load d3 & LDAvis\n",
       "    LDAvis_load_lib(\"https://d3js.org/d3.v5.js\", function(){\n",
       "         LDAvis_load_lib(\"https://cdn.jsdelivr.net/gh/bmabey/pyLDAvis@3.3.1/pyLDAvis/js/ldavis.v3.0.0.js\", function(){\n",
       "                 new LDAvis(\"#\" + \"ldavis_el289781402760582380802549691261\", ldavis_el289781402760582380802549691261_data);\n",
       "            })\n",
       "         });\n",
       "}\n",
       "</script>"
      ],
      "text/plain": [
       "<IPython.core.display.HTML object>"
      ]
     },
     "execution_count": 33,
     "metadata": {},
     "output_type": "execute_result"
    }
   ],
   "source": [
    "pyLDAvis.display(vis)"
   ]
  },
  {
   "cell_type": "code",
   "execution_count": 34,
   "metadata": {},
   "outputs": [
    {
     "ename": "AttributeError",
     "evalue": "module 'pyLDAvis.gensim_models' has no attribute 'wrappers'",
     "output_type": "error",
     "traceback": [
      "\u001b[0;31m---------------------------------------------------------------------------\u001b[0m",
      "\u001b[0;31mAttributeError\u001b[0m                            Traceback (most recent call last)",
      "\u001b[1;32m/Users/jari/DATA/Projects/Clustering-Enron_UsedCase/topic_modelling.ipynb Cell 36'\u001b[0m in \u001b[0;36m<cell line: 1>\u001b[0;34m()\u001b[0m\n\u001b[0;32m----> <a href='vscode-notebook-cell:/Users/jari/DATA/Projects/Clustering-Enron_UsedCase/topic_modelling.ipynb#ch0000036?line=0'>1</a>\u001b[0m ldamallet \u001b[39m=\u001b[39m pyLDAvis\u001b[39m.\u001b[39;49mgensim_models\u001b[39m.\u001b[39;49mwrappers\u001b[39m.\u001b[39mLdaMallet(mallet_path, corpus\u001b[39m=\u001b[39mcorpus, num_topics\u001b[39m=\u001b[39m\u001b[39m20\u001b[39m, id2word\u001b[39m=\u001b[39mid2word)\n",
      "\u001b[0;31mAttributeError\u001b[0m: module 'pyLDAvis.gensim_models' has no attribute 'wrappers'"
     ]
    }
   ],
   "source": [
    "ldamallet = pyLDAvis.gensim_models.wrappers.LdaMallet(mallet_path, corpus=corpus, num_topics=20, id2word=id2word)\n",
    "\n",
    "\n",
    "#ldamallet = pyLDAvis.gensim_models.wrappers.LdaMallet(mallet_path, corpus=corpus, num_topics=20, id2word=id2word)"
   ]
  }
 ],
 "metadata": {
  "interpreter": {
   "hash": "a107e33ec9895a199db06dea1e1fb8d88e4830832973b5c2e63e39182c97baa2"
  },
  "kernelspec": {
   "display_name": "Python 3.9.7 ('enron': venv)",
   "language": "python",
   "name": "python3"
  },
  "language_info": {
   "codemirror_mode": {
    "name": "ipython",
    "version": 3
   },
   "file_extension": ".py",
   "mimetype": "text/x-python",
   "name": "python",
   "nbconvert_exporter": "python",
   "pygments_lexer": "ipython3",
   "version": "3.9.7"
  },
  "orig_nbformat": 4
 },
 "nbformat": 4,
 "nbformat_minor": 2
}
