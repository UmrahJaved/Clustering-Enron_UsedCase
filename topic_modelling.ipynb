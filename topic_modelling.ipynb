{
 "cells": [
  {
   "cell_type": "markdown",
   "metadata": {},
   "source": [
    "# Topic modelling Q&D pilot\n",
    "https://medium.datadriveninvestor.com/nlp-with-lda-analyzing-topics-in-the-enron-email-dataset-20326b7ae36f\n",
    "https://github.com/shoreason/enron-topic-modeling/blob/master/enron_lda.ipynb\n"
   ]
  },
  {
   "cell_type": "code",
   "execution_count": 1,
   "metadata": {},
   "outputs": [],
   "source": [
    "import pandas as pd\n"
   ]
  },
  {
   "cell_type": "code",
   "execution_count": 98,
   "metadata": {},
   "outputs": [
    {
     "data": {
      "text/plain": [
       "\"emails_read_all = pd.read_csv('./csv/emails_df.csv')\\nenron = emails_read_all.head[:10000]\\nenron.to_csv('./csv/emails_df_10000.csv', index=False)\""
      ]
     },
     "execution_count": 98,
     "metadata": {},
     "output_type": "execute_result"
    }
   ],
   "source": [
    "# Create a small set of emails (10 000)\n",
    "\"\"\"emails_read_all = pd.read_csv('./csv/emails_df.csv')\n",
    "enron = emails_read_all.head[:10000]\n",
    "enron.to_csv('./csv/emails_df_10000.csv', index=False)\"\"\""
   ]
  },
  {
   "cell_type": "code",
   "execution_count": 100,
   "metadata": {},
   "outputs": [],
   "source": [
    "#enron = pd.read_csv('./csv/emails_df_10000.csv')\n",
    "nron = pd.read_csv('./csv/emails_df.csv')\n",
    "#enron = enron[:1000]\n",
    "#enron = pd.read_csv('./csv/emails_df.csv')"
   ]
  },
  {
   "cell_type": "code",
   "execution_count": 4,
   "metadata": {},
   "outputs": [
    {
     "data": {
      "text/plain": [
       "Index(['file', 'Message-ID', 'Date', 'From', 'To', 'Subject', 'Mime-Version',\n",
       "       'Content-Type', 'Content-Transfer-Encoding', 'X-From', 'X-To', 'X-cc',\n",
       "       'X-bcc', 'X-Folder', 'X-Origin', 'X-FileName', 'content', 'user'],\n",
       "      dtype='object')"
      ]
     },
     "execution_count": 4,
     "metadata": {},
     "output_type": "execute_result"
    }
   ],
   "source": [
    "enron.columns\n"
   ]
  },
  {
   "cell_type": "code",
   "execution_count": 96,
   "metadata": {},
   "outputs": [],
   "source": [
    "enron.drop_duplicates(subset=['content'], inplace=True)\n"
   ]
  },
  {
   "cell_type": "code",
   "execution_count": 97,
   "metadata": {},
   "outputs": [
    {
     "data": {
      "text/plain": [
       "(653, 18)"
      ]
     },
     "execution_count": 97,
     "metadata": {},
     "output_type": "execute_result"
    }
   ],
   "source": [
    "enron.shape"
   ]
  },
  {
   "cell_type": "code",
   "execution_count": 5,
   "metadata": {},
   "outputs": [
    {
     "name": "stdout",
     "output_type": "stream",
     "text": [
      "Index(['file', 'Message-ID', 'Date', 'From', 'To', 'Subject', 'Mime-Version',\n",
      "       'Content-Type', 'Content-Transfer-Encoding', 'X-From', 'X-To', 'X-cc',\n",
      "       'X-bcc', 'X-Folder', 'X-Origin', 'X-FileName', 'content', 'user'],\n",
      "      dtype='object')\n"
     ]
    }
   ],
   "source": [
    "enron.shape #10 000 rows, 18 columns\n",
    "print(enron.columns)\n",
    "enron.rename(columns={'content': 'body'}, inplace=True)\n"
   ]
  },
  {
   "cell_type": "code",
   "execution_count": 6,
   "metadata": {},
   "outputs": [
    {
     "name": "stdout",
     "output_type": "stream",
     "text": [
      "                                     From  \\\n",
      "0  frozenset({'phillip.allen@enron.com'})   \n",
      "1  frozenset({'phillip.allen@enron.com'})   \n",
      "2  frozenset({'phillip.allen@enron.com'})   \n",
      "3  frozenset({'phillip.allen@enron.com'})   \n",
      "4  frozenset({'phillip.allen@enron.com'})   \n",
      "\n",
      "                                       To    Subject  \\\n",
      "0     frozenset({'tim.belden@enron.com'})        NaN   \n",
      "1  frozenset({'john.lavorato@enron.com'})        Re:   \n",
      "2   frozenset({'leah.arsdall@enron.com'})   Re: test   \n",
      "3    frozenset({'randall.gay@enron.com'})        NaN   \n",
      "4     frozenset({'greg.piper@enron.com'})  Re: Hello   \n",
      "\n",
      "                                                body  \n",
      "0                          Here is our forecast\\n\\n   \n",
      "1  Traveling to have a business meeting takes the...  \n",
      "2                     test successful.  way to go!!!  \n",
      "3  Randy,\\n\\n Can you send me a schedule of the s...  \n",
      "4                Let's shoot for Tuesday at 11:45.    \n"
     ]
    }
   ],
   "source": [
    "enron = enron[['From', 'To', 'Subject', 'body']]\n",
    "print(enron.head())\n",
    "\n"
   ]
  },
  {
   "cell_type": "code",
   "execution_count": 7,
   "metadata": {},
   "outputs": [
    {
     "name": "stderr",
     "output_type": "stream",
     "text": [
      "/Users/jari/DATA/Projects/Clustering-Enron_UsedCase/enron/lib/python3.9/site-packages/past/builtins/misc.py:45: DeprecationWarning: the imp module is deprecated in favour of importlib; see the module's documentation for alternative uses\n",
      "  from imp import reload\n"
     ]
    }
   ],
   "source": [
    "import re\n",
    "import numpy as np\n",
    "import gensim\n",
    "import gensim.corpora as corpora\n",
    "from gensim.utils import simple_preprocess\n",
    "from gensim.models import CoherenceModel\n",
    "import spacy # for lemmatization\n",
    "# for plotting\n",
    "import pyLDAvis\n",
    "import pyLDAvis.gensim_models  # the module 'gensim' has renamed to gensim_models\n",
    "import matplotlib.pyplot as plt"
   ]
  },
  {
   "cell_type": "code",
   "execution_count": 8,
   "metadata": {},
   "outputs": [],
   "source": [
    "# prep NLTK stop words\n",
    "from nltk.corpus import stopwords\n",
    "\n",
    "# You have to install the word on your local machine , 3.84 GB!!\n",
    "# https://www.nltk.org/data.html\n",
    "stop_words = stopwords.words('english') # will cause error if not installed accordint to the instructions above\n",
    "stop_words.extend(['from', 'subject', 're', 'edu', 'use', 'send', 'com']) # if replied the mail contains thes words -> remove them\n",
    "\n"
   ]
  },
  {
   "cell_type": "code",
   "execution_count": 9,
   "metadata": {},
   "outputs": [
    {
     "name": "stdout",
     "output_type": "stream",
     "text": [
      "Traveling to have a business meeting takes the fun out of the trip.  Especially if you have to prepare a presentation.  I would suggest holding the business plan meetings here then take a trip without any formal business meetings.  I would even try and get some honest opinions on whether a trip is even desired or necessary.\n",
      "\n",
      "As far as the business meetings, I think it would be more productive to try and stimulate discussions across the different groups about what is working and what is not.  Too often the presenter speaks and the others are quiet just waiting for their turn.   The meetings might be better if held in a round table discussion format.  \n",
      "\n",
      "My suggestion for where to go is Austin.  Play golf and rent a ski boat and jet ski's.  Flying somewhere takes too much time.\n",
      "\n"
     ]
    }
   ],
   "source": [
    "print(enron.iloc[1]['body']) # displays info below"
   ]
  },
  {
   "cell_type": "code",
   "execution_count": 10,
   "metadata": {},
   "outputs": [],
   "source": [
    "# Convert email body to list\n",
    "#enron = enron[:1000]\n",
    "data = enron['body'].values.tolist()\n",
    "subject = enron['Subject'].values.tolist()\n"
   ]
  },
  {
   "cell_type": "code",
   "execution_count": 11,
   "metadata": {},
   "outputs": [],
   "source": [
    "# tokenize - break down each sentence into a list of words\n",
    "def sent_to_words(sentences):\n",
    "    for sentence in sentences:\n",
    "        yield(gensim.utils.simple_preprocess(str(sentence), deacc=True))  # deacc=True removes punctuations"
   ]
  },
  {
   "cell_type": "code",
   "execution_count": 12,
   "metadata": {},
   "outputs": [],
   "source": [
    "data_words = list(sent_to_words(data))"
   ]
  },
  {
   "cell_type": "code",
   "execution_count": 13,
   "metadata": {},
   "outputs": [
    {
     "name": "stdout",
     "output_type": "stream",
     "text": [
      "['traveling', 'to', 'have', 'business', 'meeting', 'takes', 'the', 'fun', 'out', 'of', 'the', 'trip', 'especially', 'if', 'you', 'have', 'to', 'prepare', 'presentation', 'would', 'suggest', 'holding', 'the', 'business', 'plan', 'meetings', 'here', 'then', 'take', 'trip', 'without', 'any', 'formal', 'business', 'meetings', 'would', 'even', 'try', 'and', 'get', 'some', 'honest', 'opinions', 'on', 'whether', 'trip', 'is', 'even', 'desired', 'or', 'necessary', 'as', 'far', 'as', 'the', 'business', 'meetings', 'think', 'it', 'would', 'be', 'more', 'productive', 'to', 'try', 'and', 'stimulate', 'discussions', 'across', 'the', 'different', 'groups', 'about', 'what', 'is', 'working', 'and', 'what', 'is', 'not', 'too', 'often', 'the', 'presenter', 'speaks', 'and', 'the', 'others', 'are', 'quiet', 'just', 'waiting', 'for', 'their', 'turn', 'the', 'meetings', 'might', 'be', 'better', 'if', 'held', 'in', 'round', 'table', 'discussion', 'format', 'my', 'suggestion', 'for', 'where', 'to', 'go', 'is', 'austin', 'play', 'golf', 'and', 'rent', 'ski', 'boat', 'and', 'jet', 'ski', 'flying', 'somewhere', 'takes', 'too', 'much', 'time']\n"
     ]
    }
   ],
   "source": [
    "print(data_words[1])"
   ]
  },
  {
   "cell_type": "code",
   "execution_count": 14,
   "metadata": {},
   "outputs": [],
   "source": [
    "from gensim.models.phrases import Phrases, Phraser"
   ]
  },
  {
   "cell_type": "code",
   "execution_count": 15,
   "metadata": {},
   "outputs": [],
   "source": [
    "# Build the bigram and trigram models\n",
    "bigram = Phrases(data_words, min_count=5, threshold=100) # higher threshold fewer phrases.\n",
    "trigram = Phrases(bigram[data_words], threshold=100)"
   ]
  },
  {
   "cell_type": "code",
   "execution_count": 16,
   "metadata": {},
   "outputs": [],
   "source": [
    "# Faster way to get a sentence clubbed as a trigram/bigram\n",
    "bigram_mod = Phraser(bigram)\n",
    "trigram_mod = Phraser(trigram)"
   ]
  },
  {
   "cell_type": "code",
   "execution_count": 17,
   "metadata": {},
   "outputs": [
    {
     "name": "stdout",
     "output_type": "stream",
     "text": [
      "['beth', 'here', 'are', 'our', 'addresses', 'for', 'dsl', 'lines', 'hunter_shively', 'gawain', 'houston_tx', 'phillip', 'allen', 'merlin_ct', 'houston_tx', 'mike_grigsby', 'meadow', 'lake', 'houston_tx', 'thanks', 'phillip']\n"
     ]
    }
   ],
   "source": [
    "# See trigram example\n",
    "print(trigram_mod[bigram_mod[data_words[200]]])"
   ]
  },
  {
   "cell_type": "code",
   "execution_count": 18,
   "metadata": {},
   "outputs": [],
   "source": [
    "# remove stop_words, make bigrams and lemmatize\n",
    "def remove_stopwords(texts):\n",
    "    return [[word for word in simple_preprocess(str(doc)) if word not in stop_words] for doc in texts]\n",
    "\n",
    "def make_bigrams(texts):\n",
    "    return [bigram_mod[doc] for doc in texts]\n",
    "\n",
    "def make_trigrams(texts):\n",
    "    return [trigram_mod[bigram_mod[doc]] for doc in texts]\n",
    "\n",
    "def lemmatization(texts, allowed_postags=['NOUN', 'ADJ', 'VERB', 'ADV']):\n",
    "    \"\"\"https://spacy.io/api/annotation\"\"\"\n",
    "    texts_out = []\n",
    "    for sent in texts:\n",
    "        doc = nlp(\" \".join(sent))\n",
    "        texts_out.append([token.lemma_ for token in doc if token.pos_ in allowed_postags])\n",
    "    return texts_out"
   ]
  },
  {
   "cell_type": "code",
   "execution_count": 19,
   "metadata": {},
   "outputs": [],
   "source": [
    "# Remove Stop Words \n",
    "data_words_nostops = remove_stopwords(data_words)"
   ]
  },
  {
   "cell_type": "code",
   "execution_count": 20,
   "metadata": {},
   "outputs": [],
   "source": [
    "# Form Bigrams\n",
    "data_words_bigrams = make_bigrams(data_words_nostops)"
   ]
  },
  {
   "cell_type": "markdown",
   "metadata": {},
   "source": [
    "#python -m spacy download en"
   ]
  },
  {
   "cell_type": "code",
   "execution_count": 21,
   "metadata": {},
   "outputs": [],
   "source": [
    "# Initialize spacy 'en' model, keeping only tagger component (for efficiency)\n",
    "#nlp = spacy.load('en', disable=['parser', 'ner']) # this is how it used to be\n",
    "nlp = spacy.load('en_core_web_sm')\n"
   ]
  },
  {
   "cell_type": "code",
   "execution_count": 22,
   "metadata": {},
   "outputs": [
    {
     "name": "stdout",
     "output_type": "stream",
     "text": [
      "['travel', 'business', 'meeting', 'take', 'fun', 'trip', 'especially', 'prepare', 'presentation', 'suggest', 'hold', 'business', 'plan', 'meeting', 'take', 'trip', 'formal', 'business', 'meeting', 'even', 'try', 'get', 'honest', 'opinion', 'trip', 'even', 'desire', 'necessary', 'far', 'business', 'meeting', 'think', 'productive', 'try', 'stimulate', 'discussion', 'different', 'group', 'work', 'often', 'presenter', 'speak', 'other', 'quiet', 'wait', 'turn', 'meeting', 'well', 'hold', 'round', 'table', 'discussion', 'format', 'suggestion', 'go', 'play', 'golf', 'rent', 'boat', 'jet', 'ski', 'fly', 'somewhere', 'take', 'much', 'time']\n"
     ]
    }
   ],
   "source": [
    "# Do lemmatization keeping only noun, adj, vb, adv\n",
    "data_lemmatized = lemmatization(data_words_bigrams, allowed_postags=['NOUN', 'ADJ', 'VERB', 'ADV'])\n",
    "print(data_lemmatized[1])"
   ]
  },
  {
   "cell_type": "code",
   "execution_count": 23,
   "metadata": {},
   "outputs": [],
   "source": [
    "#emails_lemmatized = pd.DataFrame(data_lemmatized, columns=['lemmatized_subject'])\n",
    "len(data_lemmatized)\n",
    "new_column = pd.Series(data_lemmatized)\n",
    "enron['body_lem'] = new_column"
   ]
  },
  {
   "cell_type": "code",
   "execution_count": 24,
   "metadata": {},
   "outputs": [
    {
     "name": "stdout",
     "output_type": "stream",
     "text": [
      "['travel', 'business', 'meeting', 'take', 'fun', 'trip', 'especially', 'prepare', 'presentation', 'suggest', 'hold', 'business', 'plan', 'meeting', 'take', 'trip', 'formal', 'business', 'meeting', 'even', 'try', 'get', 'honest', 'opinion', 'trip', 'even', 'desire', 'necessary', 'far', 'business', 'meeting', 'think', 'productive', 'try', 'stimulate', 'discussion', 'different', 'group', 'work', 'often', 'presenter', 'speak', 'other', 'quiet', 'wait', 'turn', 'meeting', 'well', 'hold', 'round', 'table', 'discussion', 'format', 'suggestion', 'go', 'play', 'golf', 'rent', 'boat', 'jet', 'ski', 'fly', 'somewhere', 'take', 'much', 'time']\n"
     ]
    }
   ],
   "source": [
    "print(data_lemmatized[1])"
   ]
  },
  {
   "cell_type": "code",
   "execution_count": 25,
   "metadata": {},
   "outputs": [],
   "source": [
    "# create dictionary and corpus both are needed for (LDA) topic modeling\n",
    "\n",
    "# Create Dictionary\n",
    "id2word = corpora.Dictionary(data_lemmatized)\n",
    "\n",
    "# Create Corpus\n",
    "texts = data_lemmatized\n",
    "\n",
    "# Term Document Frequency\n",
    "corpus = [id2word.doc2bow(text) for text in texts]"
   ]
  },
  {
   "cell_type": "code",
   "execution_count": 26,
   "metadata": {},
   "outputs": [],
   "source": [
    "mallet_path = './mallet-2.0.8/bin/mallet'"
   ]
  },
  {
   "cell_type": "code",
   "execution_count": 27,
   "metadata": {},
   "outputs": [],
   "source": [
    "import warnings\n",
    "warnings.filterwarnings(\"ignore\",category=DeprecationWarning)"
   ]
  },
  {
   "cell_type": "code",
   "execution_count": 28,
   "metadata": {},
   "outputs": [],
   "source": [
    "# Build LDA model\n",
    "lda_model = gensim.models.ldamodel.LdaModel(corpus=corpus,\n",
    "                                           id2word=id2word,\n",
    "                                           num_topics=14,\n",
    "                                           random_state=100,\n",
    "                                           update_every=1,\n",
    "                                           chunksize=100,\n",
    "                                           passes=10,\n",
    "                                           alpha='auto',\n",
    "                                           per_word_topics=True)"
   ]
  },
  {
   "cell_type": "code",
   "execution_count": 29,
   "metadata": {},
   "outputs": [
    {
     "name": "stdout",
     "output_type": "stream",
     "text": [
      "LdaModel(num_terms=4438, num_topics=14, decay=0.5, chunksize=100)\n"
     ]
    }
   ],
   "source": [
    "print((lda_model))"
   ]
  },
  {
   "cell_type": "code",
   "execution_count": 30,
   "metadata": {},
   "outputs": [],
   "source": [
    "# topic modeling\n",
    "# corpus, dictionary and number of topics required for LDA\n",
    "# alpha and eta are hyperparameters that affect sparsity of the topics\n",
    "# chunksize is the number of documents to be used in each training chunk\n",
    "# update_every determines how often the model parameters should be updated\n",
    "# passes is the total number of training passes\n",
    "# Print the Keyword in the 10 topics"
   ]
  },
  {
   "cell_type": "code",
   "execution_count": 31,
   "metadata": {},
   "outputs": [
    {
     "name": "stdout",
     "output_type": "stream",
     "text": [
      "[(0, '0.035*\"phillip\" + 0.030*\"get\" + 0.020*\"email\" + 0.020*\"new\" + 0.018*\"mail\" + 0.018*\"thank\" + 0.018*\"receive\" + 0.017*\"file\" + 0.015*\"live\" + 0.015*\"follow\"'), (1, '0.032*\"go\" + 0.031*\"need\" + 0.029*\"work\" + 0.025*\"check\" + 0.021*\"time\" + 0.020*\"phillip\" + 0.020*\"comment\" + 0.016*\"call\" + 0.016*\"see\" + 0.015*\"let\"'), (2, '0.058*\"request\" + 0.042*\"phillip\" + 0.033*\"gas\" + 0.029*\"need\" + 0.026*\"forward\" + 0.025*\"basis\" + 0.022*\"change\" + 0.020*\"trading\" + 0.020*\"point\" + 0.019*\"pm\"'), (3, '0.049*\"image_image\" + 0.046*\"buy\" + 0.035*\"socal\" + 0.025*\"physical\" + 0.020*\"downgrade\" + 0.018*\"index\" + 0.017*\"daily\" + 0.017*\"trade\" + 0.017*\"image\" + 0.015*\"market\"'), (4, '0.031*\"power\" + 0.019*\"say\" + 0.018*\"price\" + 0.017*\"gas\" + 0.016*\"utility\" + 0.015*\"market\" + 0.014*\"iso\" + 0.014*\"plant\" + 0.012*\"report\" + 0.012*\"line\"'), (5, '0.046*\"bid\" + 0.039*\"do\" + 0.034*\"pay\" + 0.030*\"spread\" + 0.029*\"ready\" + 0.024*\"deposit\" + 0.023*\"model\" + 0.018*\"way\" + 0.018*\"suggest\" + 0.015*\"print\"'), (6, '0.463*\"ect\" + 0.103*\"hou\" + 0.026*\"pdx\" + 0.023*\"pm\" + 0.022*\"forward\" + 0.013*\"phillip\" + 0.011*\"meeting\" + 0.011*\"attach\" + 0.009*\"storage\" + 0.008*\"sf\"'), (7, '0.135*\"phillip\" + 0.065*\"forward\" + 0.034*\"pm\" + 0.029*\"allen\" + 0.027*\"gas\" + 0.022*\"today\" + 0.020*\"response\" + 0.015*\"hunter_shively\" + 0.013*\"look\" + 0.013*\"start\"'), (8, '0.037*\"project\" + 0.022*\"property\" + 0.022*\"week\" + 0.015*\"feedback\" + 0.013*\"program\" + 0.012*\"know\" + 0.011*\"site\" + 0.011*\"look\" + 0.011*\"unit\" + 0.011*\"later\"'), (9, '0.031*\"email\" + 0.028*\"phillip\" + 0.026*\"information\" + 0.023*\"need\" + 0.019*\"list\" + 0.017*\"thank\" + 0.017*\"type\" + 0.016*\"i\" + 0.015*\"d\" + 0.015*\"provide\"'), (10, '0.038*\"cost\" + 0.030*\"loan\" + 0.015*\"land\" + 0.014*\"construction\" + 0.012*\"pay\" + 0.011*\"total\" + 0.011*\"unit\" + 0.011*\"cash\" + 0.010*\"fee\" + 0.010*\"project\"'), (11, '0.080*\"ee\" + 0.053*\"enronxgate\" + 0.015*\"position\" + 0.015*\"meeting\" + 0.013*\"issue\" + 0.013*\"ect\" + 0.012*\"available\" + 0.012*\"group\" + 0.012*\"analyst\" + 0.010*\"late\"'), (12, '0.005*\"fletch\" + 0.005*\"cpa\" + 0.000*\"think\" + 0.000*\"still\" + 0.000*\"good\" + 0.000*\"erm\" + 0.000*\"audit\" + 0.000*\"accurately\" + 0.000*\"dennis_benevide\" + 0.000*\"grey\"'), (13, '0.043*\"plan\" + 0.043*\"front\" + 0.026*\"exterior\" + 0.024*\"parking\" + 0.021*\"interview\" + 0.021*\"trading_track\" + 0.020*\"work\" + 0.019*\"resume\" + 0.017*\"less\" + 0.017*\"building\"')]\n"
     ]
    }
   ],
   "source": [
    "print(lda_model.print_topics())# The weights reflect how important a keyword is to that topic."
   ]
  },
  {
   "cell_type": "code",
   "execution_count": 32,
   "metadata": {},
   "outputs": [],
   "source": [
    "doc_lda = lda_model[corpus]"
   ]
  },
  {
   "cell_type": "code",
   "execution_count": 33,
   "metadata": {},
   "outputs": [
    {
     "name": "stdout",
     "output_type": "stream",
     "text": [
      "\n",
      "Perplexity:  -8.576028460689164\n"
     ]
    }
   ],
   "source": [
    "# Model perplexity and topic coherence provide a convenient\n",
    "# measure to judge how good a given topic model is.\n",
    "# Compute Perplexity\n",
    "print('\\nPerplexity: ', lda_model.log_perplexity(corpus))  # a measure of how good the model is. lower the better."
   ]
  },
  {
   "cell_type": "code",
   "execution_count": 34,
   "metadata": {},
   "outputs": [
    {
     "name": "stdout",
     "output_type": "stream",
     "text": [
      "\n",
      "Coherence Score:  0.3601152398346038\n"
     ]
    }
   ],
   "source": [
    "# Compute Coherence Score\n",
    "coherence_model_lda = CoherenceModel(model=lda_model, texts=data_lemmatized, dictionary=id2word, coherence='c_v')\n",
    "coherence_lda = coherence_model_lda.get_coherence()\n",
    "print('\\nCoherence Score: ', coherence_lda)"
   ]
  },
  {
   "cell_type": "code",
   "execution_count": 35,
   "metadata": {},
   "outputs": [
    {
     "name": "stderr",
     "output_type": "stream",
     "text": [
      "/Users/jari/DATA/Projects/Clustering-Enron_UsedCase/enron/lib/python3.9/site-packages/pyLDAvis/_prepare.py:246: FutureWarning: In a future version of pandas all arguments of DataFrame.drop except for the argument 'labels' will be keyword-only.\n",
      "  default_term_info = default_term_info.sort_values(\n",
      "/Users/jari/DATA/Projects/Clustering-Enron_UsedCase/enron/lib/python3.9/site-packages/past/builtins/misc.py:45: DeprecationWarning: the imp module is deprecated in favour of importlib; see the module's documentation for alternative uses\n",
      "  from imp import reload\n",
      "/Users/jari/DATA/Projects/Clustering-Enron_UsedCase/enron/lib/python3.9/site-packages/past/builtins/misc.py:45: DeprecationWarning: the imp module is deprecated in favour of importlib; see the module's documentation for alternative uses\n",
      "  from imp import reload\n",
      "/Users/jari/DATA/Projects/Clustering-Enron_UsedCase/enron/lib/python3.9/site-packages/past/builtins/misc.py:45: DeprecationWarning: the imp module is deprecated in favour of importlib; see the module's documentation for alternative uses\n",
      "  from imp import reload\n",
      "/Users/jari/DATA/Projects/Clustering-Enron_UsedCase/enron/lib/python3.9/site-packages/past/builtins/misc.py:45: DeprecationWarning: the imp module is deprecated in favour of importlib; see the module's documentation for alternative uses\n",
      "  from imp import reload\n",
      "/Users/jari/DATA/Projects/Clustering-Enron_UsedCase/enron/lib/python3.9/site-packages/past/builtins/misc.py:45: DeprecationWarning: the imp module is deprecated in favour of importlib; see the module's documentation for alternative uses\n",
      "  from imp import reload\n",
      "/Users/jari/DATA/Projects/Clustering-Enron_UsedCase/enron/lib/python3.9/site-packages/past/builtins/misc.py:45: DeprecationWarning: the imp module is deprecated in favour of importlib; see the module's documentation for alternative uses\n",
      "  from imp import reload\n",
      "/Users/jari/DATA/Projects/Clustering-Enron_UsedCase/enron/lib/python3.9/site-packages/past/builtins/misc.py:45: DeprecationWarning: the imp module is deprecated in favour of importlib; see the module's documentation for alternative uses\n",
      "  from imp import reload\n",
      "/Users/jari/DATA/Projects/Clustering-Enron_UsedCase/enron/lib/python3.9/site-packages/past/builtins/misc.py:45: DeprecationWarning: the imp module is deprecated in favour of importlib; see the module's documentation for alternative uses\n",
      "  from imp import reload\n",
      "/Users/jari/DATA/Projects/Clustering-Enron_UsedCase/enron/lib/python3.9/site-packages/past/builtins/misc.py:45: DeprecationWarning: the imp module is deprecated in favour of importlib; see the module's documentation for alternative uses\n",
      "  from imp import reload\n"
     ]
    }
   ],
   "source": [
    "# Visualize the topics\n",
    "pyLDAvis.enable_notebook(sort=True)\n",
    "vis = pyLDAvis.gensim_models.prepare(lda_model, corpus, id2word)"
   ]
  },
  {
   "cell_type": "code",
   "execution_count": 36,
   "metadata": {},
   "outputs": [
    {
     "name": "stdout",
     "output_type": "stream",
     "text": [
      "[('phillip', 0.035193995), ('get', 0.030468876), ('email', 0.020496476), ('new', 0.019649263), ('mail', 0.018474707), ('thank', 0.018151915), ('receive', 0.017657977), ('file', 0.016536191), ('live', 0.014699136), ('follow', 0.014656359)]\n"
     ]
    }
   ],
   "source": [
    "print(lda_model.show_topic(0))"
   ]
  },
  {
   "cell_type": "code",
   "execution_count": 37,
   "metadata": {},
   "outputs": [
    {
     "data": {
      "text/html": [
       "\n",
       "<link rel=\"stylesheet\" type=\"text/css\" href=\"https://cdn.jsdelivr.net/gh/bmabey/pyLDAvis@3.3.1/pyLDAvis/js/ldavis.v1.0.0.css\">\n",
       "\n",
       "\n",
       "<div id=\"ldavis_el383321405655616569289612369662\"></div>\n",
       "<script type=\"text/javascript\">\n",
       "\n",
       "var ldavis_el383321405655616569289612369662_data = {\"mdsDat\": {\"x\": [-0.17482181729961513, -0.07669114215244202, 0.14680089859559256, -0.0038827893561295865, 0.21372313143067095, 0.2029540223128011, 0.07234423790960938, -0.0963391198974603, 0.0781192815138053, 0.1421285632790313, -0.07285998225898412, -0.16491772861230677, -0.13642252532720472, -0.1301350301373691], \"y\": [0.1091277221630674, 0.12634198577144434, 0.11995924933232956, -0.09124023178506148, -0.2508447278656512, 0.01049742144979828, 0.1487992641629525, 0.12219912858576538, -0.001663537706019255, 0.07582380110653336, -0.02962881046756455, -0.16927424494800608, -0.06902696838419609, -0.10107005141539278], \"topics\": [1, 2, 3, 4, 5, 6, 7, 8, 9, 10, 11, 12, 13, 14], \"cluster\": [1, 1, 1, 1, 1, 1, 1, 1, 1, 1, 1, 1, 1, 1], \"Freq\": [15.039832821463953, 13.829214979862206, 11.108756286042993, 10.152099885779913, 9.80216517367163, 7.985886674951384, 7.422862411021628, 5.980675197014359, 5.334426551904108, 5.125818669506031, 4.8860238470230515, 1.70099695663669, 1.6037913117278586, 0.02744923339419671]}, \"tinfo\": {\"Term\": [\"ect\", \"hou\", \"phillip\", \"ee\", \"forward\", \"enronxgate\", \"cost\", \"request\", \"gas\", \"pm\", \"plan\", \"need\", \"loan\", \"project\", \"pay\", \"email\", \"image_image\", \"get\", \"power\", \"buy\", \"information\", \"pdx\", \"go\", \"work\", \"thank\", \"socal\", \"market\", \"allen\", \"bid\", \"check\", \"design\", \"early\", \"engineer\", \"investor\", \"partnership\", \"spec\", \"bond\", \"fund\", \"appraisal\", \"consider\", \"structure\", \"cost\", \"financing\", \"assume\", \"accord\", \"per_lot\", \"professional\", \"decision\", \"mind\", \"legislature\", \"reserve\", \"bond_issuance\", \"asset\", \"equipment\", \"own\", \"bank\", \"sub\", \"extension\", \"cover\", \"learn\", \"loan\", \"fee\", \"cash\", \"construction\", \"total\", \"land\", \"return\", \"investment\", \"equity\", \"improvement\", \"amount\", \"estimate\", \"contract\", \"purchase\", \"state\", \"pay\", \"unit\", \"payment\", \"profit\", \"due\", \"buyer\", \"project\", \"value\", \"plan\", \"include\", \"name\", \"iso\", \"plant\", \"detail\", \"demand\", \"load\", \"increase\", \"reduction\", \"pass\", \"natural\", \"customer\", \"account\", \"region\", \"save\", \"supply\", \"dynegy\", \"wscc\", \"stock\", \"online\", \"electricity\", \"spokesman\", \"forecast\", \"research\", \"rentroll\", \"consumer\", \"dj_calif\", \"dow_jone\", \"authorize\", \"public\", \"style\", \"go_ahead\", \"utility\", \"source\", \"power\", \"say\", \"http\", \"price\", \"line\", \"energy\", \"service\", \"market\", \"report\", \"information\", \"generation\", \"gas\", \"company\", \"year\", \"rate\", \"come\", \"number\", \"also\", \"forward\", \"live\", \"free\", \"instruction\", \"page\", \"holiday\", \"password\", \"notice\", \"shockwave\", \"job\", \"news\", \"productid_lc\", \"info\", \"unsubscribe\", \"privacy\", \"wish\", \"kitchen\", \"tenant\", \"asp\", \"stay\", \"chance\", \"kid\", \"apartment\", \"miss\", \"download\", \"shockmachine\", \"language\", \"stuff\", \"photo\", \"hotmail\", \"car\", \"find\", \"file\", \"mail\", \"get\", \"click\", \"set\", \"email\", \"receive\", \"good\", \"follow\", \"new\", \"day\", \"thank\", \"right\", \"see\", \"want\", \"phillip\", \"help\", \"call\", \"try\", \"make\", \"question\", \"send\", \"go\", \"site\", \"let\", \"look\", \"ee\", \"available\", \"group\", \"analyst\", \"late\", \"grid\", \"option\", \"discussion\", \"commission\", \"price_cap\", \"garage\", \"center\", \"result\", \"stop\", \"turn\", \"governor\", \"james_steffe\", \"ferc\", \"configure\", \"tds\", \"conference_call\", \"rule\", \"travel\", \"brief\", \"focus\", \"suggestion\", \"solution\", \"scope\", \"erika_dupre\", \"connect\", \"enronxgate\", \"position\", \"ability\", \"currently\", \"trader\", \"issue\", \"order\", \"desk\", \"meeting\", \"team\", \"business\", \"system\", \"make\", \"contact\", \"list\", \"discuss\", \"ect\", \"time\", \"use\", \"mail\", \"hou\", \"gas\", \"project\", \"pdx\", \"storage\", \"sf\", \"write\", \"tim_heizenrad\", \"capacity\", \"ect\", \"stage\", \"strategy\", \"employee\", \"select\", \"robert_badeer\", \"happy\", \"doc\", \"feel_free\", \"var\", \"chart\", \"basic\", \"topic\", \"version\", \"fyi\", \"mark_fischer\", \"hou\", \"slide\", \"progress\", \"frank_vicker\", \"ena\", \"diana_scholte\", \"gain\", \"various\", \"activity\", \"scott_neal\", \"attach\", \"pm\", \"forward\", \"meeting\", \"update\", \"end\", \"summer\", \"date\", \"phillip\", \"hunter_shively\", \"call\", \"question\", \"new\", \"report\", \"response\", \"house\", \"weekend\", \"understand\", \"fine\", \"space\", \"sheet\", \"column\", \"story\", \"status\", \"invite\", \"suppose\", \"picture\", \"exclusive\", \"living\", \"similar\", \"broker\", \"meeting_repeat\", \"oil\", \"serve\", \"physical_financail\", \"positions_room\", \"executive\", \"family\", \"fast\", \"listen\", \"complex\", \"database\", \"good_idea\", \"ever\", \"move\", \"mention\", \"scott_mill\", \"copy\", \"accept\", \"today\", \"phillip\", \"allen\", \"hunter_shively\", \"forward\", \"fill\", \"net\", \"bring\", \"start\", \"pm\", \"visit\", \"gas\", \"review\", \"look\", \"give\", \"send\", \"tomorrow\", \"meeting\", \"opportunity\", \"also\", \"thank\", \"long\", \"think\", \"comment\", \"item\", \"check\", \"special\", \"cap\", \"member\", \"yahoo\", \"central\", \"apply\", \"western\", \"policy\", \"statement\", \"matter\", \"agree\", \"draft\", \"planning\", \"attorney\", \"night\", \"choice\", \"together\", \"insurance\", \"commercial\", \"never\", \"potential\", \"course\", \"agenda\", \"participate\", \"title\", \"guess\", \"general\", \"go\", \"work\", \"already\", \"like\", \"begin\", \"close\", \"need\", \"manager\", \"support\", \"let\", \"time\", \"see\", \"schedule\", \"think\", \"call\", \"want\", \"state\", \"know\", \"phillip\", \"get\", \"issue\", \"last\", \"try\", \"feedback\", \"study\", \"package\", \"develop\", \"improve\", \"evening\", \"westgate\", \"san_marcos\", \"important\", \"preferred\", \"participant\", \"property\", \"participation\", \"north\", \"concerned\", \"example\", \"rotation\", \"shut\", \"glad\", \"janie_tholt\", \"detention_retention\", \"sensitive\", \"south\", \"student\", \"investigate\", \"introduce\", \"frank_ermis\", \"steve_south\", \"unique\", \"enable_u\", \"later\", \"program\", \"project\", \"process\", \"week\", \"assessment\", \"city\", \"rental\", \"risk\", \"lot\", \"enough\", \"site\", \"development\", \"discuss\", \"look\", \"unit\", \"know\", \"less\", \"plan\", \"sell\", \"back\", \"require\", \"price\", \"take\", \"get\", \"market\", \"visit\", \"i\", \"architect\", \"application\", \"migration\", \"finish\", \"permission\", \"outlook_migration\", \"person\", \"mailing\", \"responsible\", \"minute\", \"christi\", \"touch\", \"normal\", \"thought\", \"history\", \"appreciate\", \"critical\", \"team_selection\", \"love\", \"reminder\", \"assistance\", \"ensure\", \"location_eb\", \"street\", \"attention\", \"claudia\", \"ina_rangel\", \"address_book\", \"distribution_group\", \"d\", \"calendar\", \"floor\", \"speak\", \"type\", \"else\", \"form\", \"information\", \"email\", \"survey\", \"window\", \"approve\", \"provide\", \"access\", \"note\", \"date\", \"address\", \"list\", \"need\", \"thank\", \"phillip\", \"send\", \"plan\", \"receive\", \"also\", \"time\", \"complete\", \"know\", \"trading\", \"quote\", \"curve\", \"alan_comne\", \"director\", \"reflect\", \"stone\", \"briefing\", \"nwpl\", \"remember\", \"hopefully\", \"mid\", \"submit\", \"map\", \"pricing\", \"george_rahal\", \"phillip_k_allen\", \"ago\", \"dollar\", \"break\", \"sr_specialist\", \"execute\", \"maybe\", \"sitara\", \"opal\", \"request\", \"cell\", \"acnpower\", \"pende\", \"advise\", \"basis\", \"transport\", \"possible\", \"point\", \"change\", \"desk\", \"need\", \"gas\", \"financial\", \"phillip\", \"forward\", \"approval\", \"get\", \"pm\", \"also\", \"know\", \"show\", \"see\", \"thank\", \"want\", \"market\", \"attach\", \"list\", \"allen\", \"help\", \"image_image\", \"socal\", \"buy\", \"physical\", \"downgrade\", \"image\", \"san_juan\", \"upgrade\", \"attractive\", \"strong_buy\", \"idea\", \"index\", \"finance\", \"top\", \"relationship\", \"color\", \"mix\", \"local\", \"rest\", \"monthly_index\", \"fha\", \"swap\", \"border\", \"lehman_brother\", \"outperform\", \"earning\", \"revise\", \"individual\", \"match\", \"portfolio\", \"trade\", \"firm\", \"short\", \"daily\", \"risk\", \"offer\", \"financial\", \"sell\", \"list\", \"market\", \"hold\", \"change\", \"add\", \"gas\", \"price\", \"position\", \"exterior\", \"parking\", \"interview\", \"trading_track\", \"resume\", \"roof\", \"dimension\", \"stain\", \"concrete\", \"upstairs\", \"front_porch\", \"fa_pdf\", \"confirm\", \"attached\", \"acres_near\", \"avoid_leak\", \"cabinets_maybe\", \"detailed_sketch\", \"different_shape\", \"dormers_metal\", \"double_porch\", \"enlarge\", \"finishing\", \"ft_thought\", \"island\", \"might_consider\", \"obvious\", \"place_gable\", \"reagan_allowe\", \"roof_bath\", \"front\", \"plan\", \"building\", \"less\", \"builder\", \"work\", \"area\", \"use\", \"hear\", \"ready\", \"model\", \"injection\", \"bidweek\", \"fuel\", \"assumption\", \"attachment\", \"mmbtu\", \"exactly\", \"winter\", \"monitor\", \"wide\", \"withdrawal\", \"ned\", \"vs_actual\", \"do\", \"variable\", \"premium\", \"cherry\", \"reject\", \"suggest\", \"variety\", \"deposit\", \"cycling\", \"undiscounted\", \"justify\", \"competition\", \"anticipate\", \"print\", \"similiar\", \"bid\", \"spread\", \"seem\", \"pay\", \"monthly\", \"way\", \"charge\", \"actual\", \"make\", \"think\", \"value\", \"daily\", \"base\", \"time\", \"sure\", \"year\", \"cpa\", \"fletch\", \"zone\", \"shoot\", \"static\", \"misplace\", \"imam\", \"buckner\", \"burnertip\", \"correspond\", \"degen\", \"hurdle\", \"instal\", \"interruptible\", \"kwh\", \"mba\", \"national\", \"parallon\", \"therein\", \"vary\", \"rsweb\", \"betwee\", \"igrate\", \"onfigure\", \"thin\", \"aircard\", \"ailbox\", \"followin\", \"somehow\", \"embedded\", \"think\", \"still\", \"good\", \"forecast\", \"boat\", \"business\", \"desire\", \"different\", \"discussion\", \"especially\", \"even\", \"far\", \"fly\", \"formal\", \"format\", \"fun\", \"get\", \"go\", \"golf\", \"group\", \"hold\", \"honest\", \"jet\", \"meeting\", \"much\", \"necessary\", \"often\", \"opinion\"], \"Freq\": [2345.0, 543.0, 1101.0, 407.0, 519.0, 292.0, 293.0, 163.0, 377.0, 354.0, 199.0, 295.0, 246.0, 217.0, 156.0, 201.0, 120.0, 293.0, 247.0, 114.0, 154.0, 129.0, 198.0, 203.0, 232.0, 87.0, 202.0, 187.0, 71.0, 95.0, 65.53819562214255, 42.651301840743905, 41.648211888161576, 39.498708774819484, 38.90435629161438, 37.02425264916128, 36.437965638922556, 35.87326635466806, 33.59431433649228, 33.374986983456154, 33.23956378459193, 286.31729154618534, 32.73968048583902, 32.26060336134684, 31.11023315492395, 30.53613060646465, 29.59518457741031, 27.3633879401373, 27.0665250233248, 26.6194140684244, 25.710318032354294, 25.56888357417532, 25.039417486536973, 24.710100810431314, 24.597330289787177, 24.58902190209592, 24.004646525126837, 23.960596228098513, 23.641608708554784, 23.439383960350906, 230.4524108928422, 78.89853365409998, 82.85467806838948, 107.17207554153671, 86.2417683358931, 109.91484330257688, 42.88835492768914, 51.83007763473762, 49.02910187281303, 49.74259522730945, 71.53242978313637, 58.48756756872181, 64.08315754318195, 45.5215998323416, 71.51456674960016, 88.38194563610207, 85.74156819184687, 46.922284861486396, 47.861614979544854, 52.374083400835666, 38.26921877815368, 73.24123981901921, 43.634300281227084, 56.59017473476372, 46.98487940943154, 39.73744818282578, 100.08603856731835, 96.32657280826352, 70.80387390050558, 68.7123425039951, 59.38630620941835, 48.90237673246244, 45.55529137441311, 45.112637394346265, 43.135794046655754, 39.87352456168023, 38.95463791938193, 35.82521350899145, 34.89970694911612, 33.6934349558867, 33.140903292535086, 32.94266184881004, 32.18046816999168, 32.13999441475173, 31.183210767527093, 30.6861892981173, 30.566765337602856, 28.771608784009537, 28.62860885297502, 28.38546526904896, 27.284888595529967, 27.284888595529967, 27.178791872504355, 25.072500811352075, 23.538319536537188, 23.440874026090857, 113.19089214529006, 60.53850205442068, 214.95973642055569, 129.5544867436119, 51.74492725743631, 126.4384446018099, 83.56707498903202, 52.560747124313934, 55.73930459533241, 104.52881577951077, 86.52579940251672, 83.0453089475152, 42.29450772912847, 118.48775849849004, 54.7803261783683, 68.52837677494719, 50.05362733739999, 44.54314320380458, 48.03500243657167, 52.46863477484959, 46.62686342128651, 82.0821742440615, 63.07703741325293, 42.20159016296918, 40.35588659344068, 37.2256420088317, 36.24215070797779, 35.61372821685846, 35.356717561143654, 35.30837756954388, 34.625332708142416, 33.594208703354965, 32.20394638442984, 32.07176420083699, 31.733558481232837, 28.72034140183891, 25.95559812004133, 24.4516315078035, 32.812497212515, 23.220040855764776, 23.16882750802096, 22.440110585701884, 22.296590996870993, 22.172711642389384, 21.906857290524453, 21.870881831472122, 21.781229219294545, 21.030559075938296, 20.547687025367942, 20.440529043451278, 20.23465762629467, 81.6877261533809, 92.34056534146406, 103.16553026402572, 170.14275989463198, 61.17189567653843, 60.19901109035562, 114.45539120908192, 98.60478337286351, 79.79622050681967, 81.84330343672755, 109.72442722001111, 76.61948996041245, 101.36300764664922, 37.89067183732283, 74.3510467935543, 77.19427560340223, 196.52853193346525, 60.67197851327651, 72.95809574136861, 46.793013056331624, 55.26914844838181, 49.20854605454172, 42.582651794437545, 43.74836328094749, 40.54519265737048, 39.99868291909592, 39.06122772428195, 406.25427842184934, 63.271893128066324, 61.942559855301056, 60.15224504260655, 53.01397498380968, 46.48843794535694, 40.9464695080486, 38.72847350142776, 36.387038318843516, 33.807923788070234, 33.64112025658974, 31.13276272305021, 27.187131553072813, 26.287475641410246, 26.148625579567383, 22.2973537072948, 21.739465380121384, 20.96007854083498, 19.46010267935895, 19.367019502813317, 19.363610572081768, 18.64517931155421, 18.31136312631759, 18.120977493676747, 17.250627217274857, 17.08950563307852, 17.02696619072081, 16.768356792048603, 16.226499588413017, 15.903202491279007, 271.19337913540164, 76.4114021636639, 30.236326819154282, 30.84386505206086, 35.895888514266666, 65.89881586271362, 43.92867673063645, 47.80630751519507, 76.3446778994043, 36.93736735103119, 31.70847872422019, 26.08967210895865, 40.585676549257066, 33.080496705106796, 39.89838668487559, 30.76124987124368, 65.68054924031476, 37.96670996664129, 33.52119100791145, 33.56917031182915, 36.86497539782441, 35.86411143393049, 32.98511555991884, 128.45916386550996, 44.66036624492043, 38.647110370515584, 36.42576498189433, 34.68837991536878, 32.36512761361502, 2279.0201951009076, 27.323399301658096, 25.654775129732325, 24.95405554065713, 21.841266729477713, 20.834720855050957, 20.659383786089684, 18.834128271084406, 15.417426768590271, 15.118088117698164, 13.5284249390422, 13.435954063651348, 13.28608454506415, 13.088109016193348, 12.842765151478806, 12.238265613641236, 506.29465363305724, 11.714695730564616, 11.698330371490506, 10.944174701451141, 10.784278317227228, 10.726156913693224, 10.171281182848338, 10.011622277021084, 30.79334873798088, 31.007311037177498, 52.466847878986, 112.41528858958993, 107.56077126642724, 54.049876576637715, 38.6443019303464, 27.102670589014647, 17.379508846184603, 26.809250542220916, 63.15010380406539, 25.097150615127077, 30.94562860493224, 27.080923533521563, 26.366962516165025, 18.957737497403368, 80.91976502301807, 43.72612844511428, 35.40647559805301, 35.23037393843849, 32.3990714006801, 32.285936094614776, 26.470132333111454, 21.099581296508063, 19.06775928218317, 18.328859853210613, 18.30763740303118, 17.099109247190945, 16.90022238144262, 16.630194602589505, 16.449251390436913, 14.598414648083962, 14.329624362582276, 13.686970885550918, 11.323797875766177, 10.864041990493028, 10.662436191089634, 10.662436191089634, 10.573322649846896, 10.319404716466021, 10.10926918569922, 9.265937094615389, 8.79727667825533, 8.683168388369129, 8.592802399172525, 8.408856115918615, 33.79616774658906, 40.3631860521695, 22.769528102479594, 25.17116995770101, 29.60439642293367, 90.26965164772314, 541.0887412792047, 117.35807454117534, 60.596875305159095, 259.52821230247395, 27.214940699370825, 32.43840948238326, 41.982537699455534, 50.44721280362245, 138.33291389080384, 33.177035989861395, 106.66686476033965, 45.59556590890742, 52.70020217199732, 41.71043496951467, 45.62894084288994, 32.24923750024125, 47.48936442006587, 26.33933564157134, 42.301609096991605, 39.78612159208924, 28.684424798362528, 29.98723424524917, 73.27283141008445, 51.37857312895454, 94.04423655556886, 41.36843491767197, 34.79453998796872, 34.56765983149282, 33.369321296402255, 28.628603991754694, 27.99082499533848, 26.64507586721965, 26.61257009305479, 25.96806510498836, 23.958274163663607, 22.908828337560397, 22.325430660355853, 22.14357694346239, 21.141378124580207, 20.778636759343406, 20.019817713757174, 18.793524004380828, 17.8934365462064, 17.691934802038173, 17.394882623142873, 17.300423359368093, 16.229656261361043, 15.209084764692927, 15.127804691480499, 14.139087393965921, 14.071567716225944, 13.94518822702981, 120.88300395448768, 107.43601780001528, 25.71369717070146, 43.342637700644964, 35.038090039534296, 42.091638004372626, 114.5570272352259, 36.2597219468963, 33.02476843041486, 57.01481860423064, 80.14655509699791, 60.77409366355672, 34.192290073769904, 50.503593027883085, 60.94502524572705, 52.0022920053931, 40.62564982996437, 44.78542285451669, 74.77297601535292, 46.29222221256747, 35.407159501281065, 32.45547257398869, 31.50817633432724, 45.46807123182646, 25.04512606238566, 22.017756331629908, 20.00587120897006, 18.662157551481705, 18.443652240260832, 17.843689050108747, 15.056893413616553, 14.388420959587275, 13.211099542477106, 13.096571182166317, 67.0305210183056, 12.558792290033335, 11.320530428858223, 11.189323785955512, 11.382695827576956, 10.859831283334438, 10.17226913598049, 10.113952894771012, 9.794703812951978, 9.773127811667157, 9.622786677098151, 8.556316656415136, 8.347128700278038, 8.037222872584028, 7.6100237869321035, 7.607132893949158, 7.607132893949158, 7.173610242387323, 7.008729946038956, 33.34116295401523, 39.10490078802411, 110.98651382528587, 27.40406393760923, 65.37580467372753, 14.373311318926293, 19.597065342425363, 15.585480246027492, 25.945046348520712, 27.780980384658278, 21.05091572279715, 34.4762885331598, 24.649128321700996, 25.90075198823965, 34.46842922410109, 33.730754531847616, 34.641219227642495, 21.05213787755459, 31.488698329818284, 24.167571348306556, 22.99214966087089, 21.04589550863887, 27.671274845812984, 25.331712253341937, 29.045984755860854, 23.52462274941774, 19.247270091385325, 44.233804045583774, 32.66124973486806, 31.716824246576, 25.227184591153925, 23.593457934078554, 22.76156804834041, 22.513176585440018, 20.992534948000845, 20.55319108080243, 17.778074160111537, 17.38868354376938, 17.381743407079988, 16.01822256842204, 14.998357120031704, 14.359458725171969, 14.037887404261781, 12.817113864307407, 11.204095236533377, 11.129264629926357, 11.079100352963495, 11.070511965027254, 10.807080209499349, 10.443819994458115, 9.570642663661554, 9.252102501767828, 8.76658699651701, 8.602996811591895, 8.451462585597344, 8.317992319195644, 8.317992319195644, 41.23173416627823, 29.630240559428408, 40.33560743421964, 36.95416256224693, 45.318742952669844, 27.494384149401483, 26.032460213956178, 71.03900440166952, 82.36324966204718, 23.92847748675282, 16.96894762303255, 23.68355983822268, 40.51166564088703, 39.538011163817494, 37.10208811695103, 36.75861003855997, 22.87215322025222, 51.527555558533805, 61.36748564001274, 46.24613900876149, 76.32720874975841, 35.30016990688642, 38.04422353495011, 31.933072312812428, 33.05078644620709, 29.432927403727767, 25.803865247470608, 26.504559328660186, 51.725931745462404, 33.812579083525186, 31.98588535853937, 30.101762274370927, 24.4398302608618, 21.855141945213457, 19.580305083756155, 16.34114356472838, 16.253096572510017, 16.019747206349326, 15.697488159744209, 14.88773587505149, 14.6095807141399, 13.865162364475857, 13.783088198390102, 13.696379032836637, 13.696379032836637, 11.927498617287053, 11.327065212257667, 11.313907717004517, 11.293980698842535, 10.79481417320087, 10.699673700047196, 10.361323538282495, 10.137010201371435, 150.26341436664262, 9.568071515738355, 9.154008763652278, 8.85213087636848, 8.44479085325408, 65.10452955152657, 23.227704109616123, 39.36014911430965, 50.7238935742318, 56.69786675822205, 35.202682975139325, 74.59282820301169, 84.11968985809305, 21.854383643462594, 107.16146605740205, 67.37599364997487, 18.667628934362508, 45.05959066790668, 48.497802797003, 37.38210699873181, 33.815768270319175, 22.63024391936307, 29.299414230350028, 31.28413708034056, 29.148795345239844, 29.20841322086801, 22.529917718096677, 24.922863676784896, 23.115098699301697, 22.105453513671595, 119.35468636780182, 86.15492842087508, 112.63039092521792, 60.81950143548748, 49.80872715689537, 42.11840994772184, 27.909489630454146, 27.54621413464491, 26.187242076528193, 21.802518233499157, 21.561267840007343, 44.87626509730799, 19.683257916975833, 27.260338319919814, 15.777646037230738, 15.421203087078572, 14.95522553195094, 13.538716668616566, 13.479870311209861, 12.310544284340722, 11.924842850258322, 11.525432863741095, 11.291717256119517, 11.244603113870202, 10.936095492405546, 10.725955255327863, 10.205031406518101, 10.069655734154644, 9.834397256748769, 9.833401082114134, 42.20765164047879, 21.546250879097173, 22.883593023677474, 42.498786250806695, 28.257723003651765, 34.935949658310186, 22.050589735511018, 30.462302074933415, 36.66843802472583, 36.684799992949806, 21.192006146680676, 25.307062885572503, 19.18603867835832, 31.59843524273668, 24.122859430864867, 20.340310001765115, 21.866034398358632, 20.554714338950898, 18.196471451612542, 17.636877973771742, 15.913552207362684, 12.828477732856602, 12.640264185218776, 11.793581937758534, 11.523225738746095, 10.789276518031567, 10.589266078095426, 10.3042477769501, 8.717348363636946, 8.614833098811017, 8.253163665751671, 8.253163665751671, 8.253163665751671, 8.253163665751671, 8.253163665751671, 8.253163665751671, 8.253163665751671, 8.253163665751671, 8.253163665751671, 8.253163665751671, 8.253163665751671, 8.253163665751671, 8.253163665751671, 8.253163665751671, 8.253163665751671, 8.253163665751671, 36.89521944303, 37.1897037667722, 14.439544291266913, 14.890004968504881, 12.260806242630622, 16.934011262857933, 10.88066699647924, 12.532244659587802, 9.015150214941906, 23.28554300691603, 18.84732796150218, 11.566402687382954, 11.353809917259444, 11.179928259965148, 10.710054277100454, 9.90759343574742, 9.633087512206458, 9.101653264380607, 8.192855868747921, 6.955423965337419, 6.891706575833838, 6.77817184787224, 5.033134677353927, 4.514033881075636, 31.69690365367018, 4.135398082346627, 3.804084250193716, 3.5478553207961476, 3.54141285398923, 14.196604989359633, 3.0569912322203407, 19.302512023840407, 2.699792093264959, 2.699792093264959, 2.4293637207538503, 2.0795003444370432, 3.4301366121479298, 11.752427461706361, 1.1712355663547522, 37.198903203069094, 23.849314601389178, 10.92064534376761, 27.681897973148093, 8.323573261225143, 14.497522736788127, 7.020359195428473, 7.38819585656831, 11.387229204897219, 9.931771550789245, 7.951300717107011, 8.310165001538884, 7.485294992384527, 7.557770022216281, 7.111011734892007, 7.11370720203691, 0.06281437792566628, 0.06281437792566628, 0.0030821800304406447, 0.0030821800304406447, 0.0030821800304406447, 0.0030821800304406447, 0.0030821800304406447, 0.0030821800304406447, 0.0030821800304406447, 0.0030821800304406447, 0.0030821800304406447, 0.0030821800304406447, 0.0030821800304406447, 0.0030821800304406447, 0.0030821800304406447, 0.0030821800304406447, 0.0030821800304406447, 0.0030821800304406447, 0.0030821800304406447, 0.0030821800304406447, 0.0030821800304406447, 0.0030821800304406447, 0.0030821800304406447, 0.0030821800304406447, 0.0030821800304406447, 0.0030821800304406447, 0.0030821800304406447, 0.0030821800304406447, 0.0030821800304406447, 0.0030821800304406447, 0.003082814727490027, 0.003082220590011659, 0.0030821868572991325, 0.0030821800304406447, 0.0030821800304406447, 0.0030821800304406447, 0.0030821800304406447, 0.0030821800304406447, 0.0030821800304406447, 0.0030821800304406447, 0.0030821800304406447, 0.0030821800304406447, 0.0030821800304406447, 0.0030821800304406447, 0.0030821800304406447, 0.0030821800304406447, 0.0030821800304406447, 0.0030821800304406447, 0.0030821800304406447, 0.0030821800304406447, 0.0030821800304406447, 0.0030821800304406447, 0.0030821800304406447, 0.0030821800304406447, 0.0030821800304406447, 0.0030821800304406447, 0.0030821800304406447, 0.0030821800304406447], \"Total\": [2345.0, 543.0, 1101.0, 407.0, 519.0, 292.0, 293.0, 163.0, 377.0, 354.0, 199.0, 295.0, 246.0, 217.0, 156.0, 201.0, 120.0, 293.0, 247.0, 114.0, 154.0, 129.0, 198.0, 203.0, 232.0, 87.0, 202.0, 187.0, 71.0, 95.0, 66.4083122293937, 43.521411901204964, 42.518320506439665, 40.368816935291655, 39.7744632968108, 37.89439000233986, 37.30807655975101, 36.743372309129114, 34.46442151728394, 34.24509750879201, 34.1096705427277, 293.91123617646093, 33.60978754334541, 33.1307190697467, 31.98034836315512, 31.40623588289568, 30.46529482147296, 28.233511007372595, 27.93666041499507, 27.48952168644473, 26.580431591632685, 26.438990896514206, 25.909538581821064, 25.580208278507317, 25.467443730467462, 25.459128934631718, 24.874752255093025, 24.830704115385682, 24.51171570741325, 24.30950681291811, 246.88351455837716, 83.23067448043562, 88.09885151262176, 115.87603849166925, 93.181684233759, 125.00614500258284, 46.27109936281243, 57.902784177779985, 55.18232688950563, 57.93482063755173, 94.58530625207288, 76.41525790518855, 89.80834395344043, 57.34295395423993, 112.93736821091898, 156.8907932564052, 160.03391892164217, 60.885581578914014, 62.932336532414446, 76.86456184605976, 46.591513244801234, 217.91676586181143, 74.17788181052386, 199.10977456695755, 117.90147000619673, 87.44533568886224, 100.96332598460268, 97.20386079981928, 71.68116563499524, 69.58963888826773, 60.263593724025334, 49.77966693163013, 46.43258029484852, 45.9899277714173, 44.01308421969162, 40.750812797092756, 39.83195030418998, 36.702506882800144, 35.776999210147466, 34.57072405495041, 34.018191369966196, 33.81994998170632, 33.05776025863036, 33.01729867066101, 32.06049867522829, 31.563476725844918, 31.44405482276099, 29.64890170872012, 29.505902067651782, 29.262754686246353, 28.162176043796798, 28.162176043796798, 28.056081770262846, 25.94978916074935, 24.415647144087306, 24.318199485909414, 120.4718559056779, 63.963180289275364, 247.4456545112078, 149.60822030673395, 56.73050449956596, 205.40954057775915, 125.39257044748648, 67.20298035977417, 75.66983824267294, 202.85376784558872, 154.02132076262308, 154.89029570004894, 53.68090919288872, 377.3119024695305, 89.34472121956895, 146.12064743586248, 81.57524974073132, 68.08019351439937, 99.5944850514263, 197.70845652612226, 519.7901339936327, 82.9630269368558, 63.95789258758685, 43.082441684317224, 41.23674103228136, 38.10649654722199, 37.12300330883893, 36.49458203043405, 36.237568728126, 36.18924015897448, 35.50618755601014, 34.47506029719907, 33.08480774538966, 32.95261648791275, 32.61442022079755, 29.601195772379292, 26.836466252580365, 25.332484029783604, 34.017512827181235, 24.100904484234956, 24.049698961125895, 23.32096449295357, 23.177449016060702, 23.05356716553218, 22.787709156798083, 22.751732982627534, 22.662099294916686, 21.911416436043726, 21.428541047192102, 21.321381477739017, 21.11551646146393, 93.82264225163105, 120.1055553989471, 154.215360984461, 293.0998358307934, 82.99115122302801, 84.65300199223731, 201.6685671367658, 167.51967307219846, 132.95599691038203, 151.4387432096139, 236.03523801301785, 143.74080186568094, 232.01444706906437, 51.10626316910656, 167.21061137755532, 185.12156096515176, 1101.4340554149007, 127.36193694760676, 228.03195123632779, 95.05773031103503, 158.07219862687498, 166.25244434429973, 139.19173335842234, 198.32673204854822, 116.279076655684, 131.28989495095155, 144.33811584285647, 407.1265852833169, 64.14420320051043, 62.81486984213437, 61.02455675675225, 53.886288949764605, 47.36075540886678, 41.818777336592774, 39.60078424200807, 37.25935422226126, 34.68023932940032, 34.51345073236883, 32.005074996499765, 28.05944553735465, 27.159791722930294, 27.02093576376438, 23.169663055799756, 22.611775625239826, 21.832389049815287, 20.332409389530003, 20.23932542076672, 20.235919650175425, 19.517498608433737, 19.183674556221515, 18.993298306344094, 18.12293590291622, 17.961818742619293, 17.899273470468643, 17.640663540954833, 17.098805451145022, 16.775510670745252, 292.06026814327305, 97.55321662333021, 38.281279601741566, 41.216596872510294, 51.89128264076623, 134.733507400544, 73.20697117005894, 83.81076885281229, 178.60020544333858, 71.42551142997671, 64.31049046035481, 41.25717409145142, 158.07219862687498, 85.41248552941502, 202.39272754473544, 77.0044669819372, 2345.4950493537963, 237.45195867459543, 121.99217060679753, 154.215360984461, 543.9543768107267, 377.3119024695305, 217.91676586181143, 129.33636075249333, 45.5375727900148, 39.524311134438854, 37.302979496281665, 35.56557643501982, 33.24233010718293, 2345.4950493537963, 28.200608763786832, 26.53198656296328, 25.831259136390393, 22.718506587596043, 21.711917460891264, 21.536603890284105, 19.711341201909956, 16.294637930867964, 15.99529492410679, 14.405621800481287, 14.313369466275894, 14.163283147657221, 13.965326495356061, 13.719967383609264, 13.115464556686785, 543.9543768107267, 12.59189186761214, 12.575537381477776, 11.821370082141573, 11.661474620375783, 11.60335564872179, 11.048494951434883, 10.888823476423598, 39.940716168508764, 44.7851400789353, 111.29233097952816, 354.3560355838663, 519.7901339936327, 178.60020544333858, 104.27724084343886, 60.77765107817456, 26.406215513757676, 94.43281713932268, 1101.4340554149007, 88.33539170749361, 228.03195123632779, 166.25244434429973, 236.03523801301785, 154.02132076262308, 81.7969678797437, 44.60333489256605, 36.2836787373257, 36.108932593354695, 33.276279385239405, 33.16314624108029, 27.34733336898691, 21.97678288069184, 19.944966356707138, 19.206064940415995, 19.184839407215257, 17.976313283491084, 17.77742688497368, 17.507399594425586, 17.326462405946454, 15.475627057145573, 15.206833299489672, 14.564170730719894, 12.201028084728087, 11.741264511994615, 11.53963605339174, 11.53963605339174, 11.450538105256646, 11.204213188039855, 10.986470629793091, 10.147081348460294, 9.674478515031025, 9.56037196592477, 9.470013288248447, 9.28606232473749, 39.3457910595631, 48.93284676432748, 26.849635396443176, 30.524639383282945, 36.83038861806263, 133.73365642607965, 1101.4340554149007, 187.2250952018107, 88.33539170749361, 519.7901339936327, 35.32076617610623, 44.086311393872876, 64.94385377031571, 84.60419015195382, 354.3560355838663, 53.21821215854498, 377.3119024695305, 97.50171593338148, 144.33811584285647, 103.99322095026137, 139.19173335842234, 65.45906205289754, 178.60020544333858, 42.47920803010173, 197.70845652612226, 232.01444706906437, 56.01823281079313, 144.76154492704197, 74.15508780732551, 52.26082607466924, 95.78226984180591, 42.25069188274051, 35.67679545955693, 35.44991423822144, 34.25158007960146, 29.510857221215886, 28.873078810344495, 27.527338129755663, 27.49483983331372, 26.85031708853334, 24.8405280648864, 23.79108161966263, 23.20768290140424, 23.02741095935879, 22.02362989746707, 21.66089232344014, 20.902071658326737, 19.6757777424964, 18.77568955374024, 18.574186426007333, 18.27713642913216, 18.182680332438764, 17.111908463727687, 16.091336132557085, 16.010294724535115, 15.02134095841894, 14.95382167112344, 14.827442295346117, 198.32673204854822, 203.3966984094766, 32.56818713822737, 66.16667987925732, 49.895975395081855, 65.28083897400997, 295.02903038408067, 58.8856522258296, 50.7093951647072, 131.28989495095155, 237.45195867459543, 167.21061137755532, 59.6874217160781, 144.76154492704197, 228.03195123632779, 185.12156096515176, 112.93736821091898, 190.9122776296587, 1101.4340554149007, 293.0998358307934, 134.733507400544, 100.11253883847547, 95.05773031103503, 46.33997080612136, 25.917026446227446, 22.889657862119506, 20.89043051493231, 19.53406540806658, 19.31555127393739, 18.715587988138434, 15.928789614251773, 15.260318230790977, 14.08299855317164, 13.968466911831818, 71.67822056781769, 13.430692725928106, 12.19242731836276, 12.061237911698408, 12.271509835019733, 11.73172823607668, 11.044170340074329, 10.985863582399015, 10.666604729064863, 10.645023279090866, 10.494689188533144, 9.428218536539827, 9.21902524098935, 8.909119196514249, 8.481919790563442, 8.479032843354696, 8.479032843354696, 8.045511600059804, 7.880625960343145, 38.09028715282083, 53.88209349663232, 217.91676586181143, 40.76930804777241, 131.9004029515705, 19.145631218299698, 31.557175817208496, 23.746283632925216, 55.003864316580675, 61.66665251361978, 42.29108070381472, 116.279076655684, 62.55396055566781, 77.0044669819372, 144.33811584285647, 160.03391892164217, 190.9122776296587, 55.770149275588224, 199.10977456695755, 96.67325676887177, 91.60079246809562, 70.46238323870416, 205.40954057775915, 153.2606829915285, 293.0998358307934, 202.85376784558872, 53.21821215854498, 45.11770828471289, 33.5451590923506, 32.60072784903645, 26.111095096067242, 24.47736455043675, 23.64547288957575, 23.400057058801647, 21.876459972402966, 21.437101766998005, 18.661976450147357, 18.272596265315954, 18.265661222161892, 16.902133136129432, 15.882264443616528, 15.243370401004908, 14.921803624623287, 13.701020216202927, 12.088035947278835, 12.013166529432345, 11.9633067531715, 11.958843783201257, 11.690984201822511, 11.327729508083832, 10.454545207370225, 10.136010501299765, 9.650494487653235, 9.486900317680227, 9.335365966803952, 9.201894197344961, 9.201894197344961, 45.85456396890561, 34.933834527041334, 48.994024585128855, 46.70400970793251, 68.16258027592674, 39.820364671856225, 37.52158384550847, 154.89029570004894, 201.6685671367658, 36.11912890652128, 22.08421064387515, 36.14347767141782, 91.13418496500749, 94.70317420989957, 86.20044727283735, 94.43281713932268, 37.92261841544841, 202.39272754473544, 295.02903038408067, 232.01444706906437, 1101.4340554149007, 139.19173335842234, 199.10977456695755, 167.51967307219846, 197.70845652612226, 237.45195867459543, 81.39397782135198, 190.9122776296587, 52.61061288789659, 34.697265665218545, 32.870565399388255, 30.986444429479054, 25.32451106883931, 22.739826261635685, 20.465017060651693, 17.225832830051985, 17.137776040881803, 16.904439465914212, 16.582170638834235, 15.772417019306756, 15.49426452022885, 14.749847925870874, 14.667769780662473, 14.581058023823838, 14.581058023823838, 12.812216445993034, 12.211750299535048, 12.19859491542262, 12.178660450849145, 11.679497558192677, 11.584361356406694, 11.24600333912019, 11.02169006105102, 163.4984373783843, 10.452751472839621, 10.038687766505474, 9.736834507725822, 9.329495698651378, 72.39730157283792, 27.32334815774642, 54.17147120280196, 99.11273240974204, 115.83670113329703, 83.81076885281229, 295.02903038408067, 377.3119024695305, 44.71885208672504, 1101.4340554149007, 519.7901339936327, 35.74098177863483, 293.0998358307934, 354.3560355838663, 197.70845652612226, 190.9122776296587, 68.0949783261004, 167.21061137755532, 232.01444706906437, 185.12156096515176, 202.85376784558872, 111.29233097952816, 202.39272754473544, 187.2250952018107, 127.36193694760676, 120.23909484371163, 87.03939940047562, 114.25967721818205, 61.7039102173264, 50.693135012416484, 43.00281963836536, 28.793898790206065, 28.430621771105297, 27.071688289217896, 22.686925387526365, 22.445681804759133, 46.72998252458931, 20.56767000436731, 28.785819577199415, 16.662059090634894, 16.305614063714746, 15.839644079224904, 14.423133207093013, 14.364286957231728, 13.194951596720076, 12.809262303449346, 12.419364574071395, 12.176126183315409, 12.129013195359649, 11.820502672751289, 11.610367043615305, 11.089449679500825, 10.95406981741398, 10.718807338773242, 10.717811310201407, 50.960041772558455, 30.73316051495871, 34.83656227815764, 95.39376977533752, 55.003864316580675, 95.79680241071654, 44.71885208672504, 96.67325676887177, 202.39272754473544, 202.85376784558872, 57.04735690125923, 115.83670113329703, 51.84549764637945, 377.3119024695305, 205.40954057775915, 97.55321662333021, 22.77182348656996, 21.460511262377814, 19.102264910715792, 18.54266827462518, 16.819341991028505, 13.734267191112982, 13.54605412411798, 12.70118127877332, 12.429024424999026, 11.695070023296172, 11.495055093562081, 11.210036704964342, 9.623140787075277, 9.520630560262255, 9.158952578638774, 9.158952578638774, 9.158952578638774, 9.158952578638774, 9.158952578638774, 9.158952578638774, 9.158952578638774, 9.158952578638774, 9.158952578638774, 9.158952578638774, 9.158952578638774, 9.158952578638774, 9.158952578638774, 9.158952578638774, 9.158952578638774, 9.158952578638774, 46.845286630035865, 199.10977456695755, 31.79492864427411, 55.770149275588224, 33.589251200205034, 203.3966984094766, 30.696633106234852, 121.99217060679753, 23.435335910795285, 24.18328193639935, 19.74506147798979, 12.464135410451885, 12.251542455774418, 12.07766955271099, 11.607789992395901, 10.805327795213381, 10.53082035196134, 9.99939683705553, 9.090605007135931, 7.853173086710578, 7.789446295817341, 7.6759042957900165, 5.930941949166686, 5.411765812449425, 38.14082629698153, 5.033130360648824, 4.701817225975021, 4.445603200317426, 4.439150871643081, 18.20362867548211, 3.954727167640737, 25.57362044971258, 3.5975237196734273, 3.5975237196734273, 3.327098602446957, 2.977240726648043, 5.4402086727624, 19.286805288588013, 2.068967548163876, 71.39701232421965, 46.07556937957684, 32.59569838989666, 156.8907932564052, 23.2907613556949, 64.94688779645378, 19.56658965798724, 28.258730258739416, 158.07219862687498, 144.76154492704197, 74.17788181052386, 95.39376977533752, 65.72692542325484, 237.45195867459543, 54.086744800718535, 146.12064743586248, 1.0149416546516536, 1.0149416546516536, 0.9552846246707537, 0.9553021753013787, 0.9553718371888279, 0.9553886519703169, 0.9554046800514515, 0.9554461067505928, 0.9554461067505928, 0.9554461067505928, 0.9554461067505928, 0.9554461067505928, 0.9554461067505928, 0.9554461067505928, 0.9554461067505928, 0.9554461067505928, 0.9554461067505928, 0.9554461067505928, 0.9554461067505928, 0.9554461067505928, 0.9554730297645272, 0.955513461050819, 0.955513461050819, 0.955513461050819, 0.955513461050819, 0.955562462590509, 0.955572397654964, 0.955572397654964, 0.9556166773591219, 0.9556263260298469, 144.76154492704197, 95.06174043847734, 132.95599691038203, 31.44405482276099, 3.9110322383512175, 64.31049046035481, 21.09801817424316, 49.199124550987186, 39.60078424200807, 8.882031899206067, 48.912697766508586, 35.22491983141454, 3.9110322383512175, 8.260162520217623, 16.507442599985943, 10.23831720452372, 293.0998358307934, 198.32673204854822, 10.94512243778627, 62.81486984213437, 57.04735690125923, 3.9110322383512175, 3.9110322383512175, 178.60020544333858, 73.3544842814871, 23.499233696989492, 11.115380133615337, 11.862388735760161], \"Category\": [\"Default\", \"Default\", \"Default\", \"Default\", \"Default\", \"Default\", \"Default\", \"Default\", \"Default\", \"Default\", \"Default\", \"Default\", \"Default\", \"Default\", \"Default\", \"Default\", \"Default\", \"Default\", \"Default\", \"Default\", \"Default\", \"Default\", \"Default\", \"Default\", \"Default\", \"Default\", \"Default\", \"Default\", \"Default\", \"Default\", \"Topic1\", \"Topic1\", \"Topic1\", \"Topic1\", \"Topic1\", \"Topic1\", \"Topic1\", \"Topic1\", \"Topic1\", \"Topic1\", \"Topic1\", \"Topic1\", \"Topic1\", \"Topic1\", \"Topic1\", \"Topic1\", \"Topic1\", \"Topic1\", \"Topic1\", \"Topic1\", \"Topic1\", \"Topic1\", \"Topic1\", \"Topic1\", \"Topic1\", \"Topic1\", \"Topic1\", \"Topic1\", \"Topic1\", \"Topic1\", \"Topic1\", \"Topic1\", \"Topic1\", \"Topic1\", \"Topic1\", \"Topic1\", \"Topic1\", \"Topic1\", \"Topic1\", \"Topic1\", \"Topic1\", \"Topic1\", \"Topic1\", \"Topic1\", \"Topic1\", \"Topic1\", \"Topic1\", \"Topic1\", \"Topic1\", \"Topic1\", \"Topic1\", \"Topic1\", \"Topic1\", \"Topic1\", \"Topic1\", \"Topic1\", \"Topic2\", \"Topic2\", \"Topic2\", \"Topic2\", \"Topic2\", \"Topic2\", \"Topic2\", \"Topic2\", \"Topic2\", \"Topic2\", \"Topic2\", \"Topic2\", \"Topic2\", \"Topic2\", \"Topic2\", \"Topic2\", \"Topic2\", \"Topic2\", \"Topic2\", \"Topic2\", \"Topic2\", \"Topic2\", \"Topic2\", \"Topic2\", \"Topic2\", \"Topic2\", \"Topic2\", \"Topic2\", \"Topic2\", \"Topic2\", \"Topic2\", \"Topic2\", \"Topic2\", \"Topic2\", \"Topic2\", \"Topic2\", \"Topic2\", \"Topic2\", \"Topic2\", \"Topic2\", \"Topic2\", \"Topic2\", \"Topic2\", \"Topic2\", \"Topic2\", \"Topic2\", \"Topic2\", \"Topic2\", \"Topic2\", \"Topic2\", \"Topic2\", \"Topic3\", \"Topic3\", \"Topic3\", \"Topic3\", \"Topic3\", \"Topic3\", \"Topic3\", \"Topic3\", \"Topic3\", \"Topic3\", \"Topic3\", \"Topic3\", \"Topic3\", \"Topic3\", \"Topic3\", \"Topic3\", \"Topic3\", \"Topic3\", \"Topic3\", \"Topic3\", \"Topic3\", \"Topic3\", \"Topic3\", \"Topic3\", \"Topic3\", \"Topic3\", \"Topic3\", \"Topic3\", \"Topic3\", \"Topic3\", \"Topic3\", \"Topic3\", \"Topic3\", \"Topic3\", \"Topic3\", \"Topic3\", \"Topic3\", \"Topic3\", \"Topic3\", \"Topic3\", \"Topic3\", \"Topic3\", \"Topic3\", \"Topic3\", \"Topic3\", \"Topic3\", \"Topic3\", \"Topic3\", \"Topic3\", \"Topic3\", \"Topic3\", \"Topic3\", \"Topic3\", \"Topic3\", \"Topic3\", \"Topic3\", \"Topic3\", \"Topic4\", \"Topic4\", \"Topic4\", \"Topic4\", \"Topic4\", \"Topic4\", \"Topic4\", \"Topic4\", \"Topic4\", \"Topic4\", \"Topic4\", \"Topic4\", \"Topic4\", \"Topic4\", \"Topic4\", \"Topic4\", \"Topic4\", \"Topic4\", \"Topic4\", \"Topic4\", \"Topic4\", \"Topic4\", \"Topic4\", \"Topic4\", \"Topic4\", \"Topic4\", \"Topic4\", \"Topic4\", \"Topic4\", \"Topic4\", \"Topic4\", \"Topic4\", \"Topic4\", \"Topic4\", \"Topic4\", \"Topic4\", \"Topic4\", \"Topic4\", \"Topic4\", \"Topic4\", \"Topic4\", \"Topic4\", \"Topic4\", \"Topic4\", \"Topic4\", \"Topic4\", \"Topic4\", \"Topic4\", \"Topic4\", \"Topic4\", \"Topic4\", \"Topic4\", \"Topic4\", \"Topic5\", \"Topic5\", \"Topic5\", \"Topic5\", \"Topic5\", \"Topic5\", \"Topic5\", \"Topic5\", \"Topic5\", \"Topic5\", \"Topic5\", \"Topic5\", \"Topic5\", \"Topic5\", \"Topic5\", \"Topic5\", \"Topic5\", \"Topic5\", \"Topic5\", \"Topic5\", \"Topic5\", \"Topic5\", \"Topic5\", \"Topic5\", \"Topic5\", \"Topic5\", \"Topic5\", \"Topic5\", \"Topic5\", \"Topic5\", \"Topic5\", \"Topic5\", \"Topic5\", \"Topic5\", \"Topic5\", \"Topic5\", \"Topic5\", \"Topic5\", \"Topic5\", \"Topic5\", \"Topic5\", \"Topic5\", \"Topic5\", \"Topic5\", \"Topic5\", \"Topic5\", \"Topic6\", \"Topic6\", \"Topic6\", \"Topic6\", \"Topic6\", \"Topic6\", \"Topic6\", \"Topic6\", \"Topic6\", \"Topic6\", \"Topic6\", \"Topic6\", \"Topic6\", \"Topic6\", \"Topic6\", \"Topic6\", \"Topic6\", \"Topic6\", \"Topic6\", \"Topic6\", \"Topic6\", \"Topic6\", \"Topic6\", \"Topic6\", \"Topic6\", \"Topic6\", \"Topic6\", \"Topic6\", \"Topic6\", \"Topic6\", \"Topic6\", \"Topic6\", \"Topic6\", \"Topic6\", \"Topic6\", \"Topic6\", \"Topic6\", \"Topic6\", \"Topic6\", \"Topic6\", \"Topic6\", \"Topic6\", \"Topic6\", \"Topic6\", \"Topic6\", \"Topic6\", \"Topic6\", \"Topic6\", \"Topic6\", \"Topic6\", \"Topic6\", \"Topic6\", \"Topic6\", \"Topic6\", \"Topic6\", \"Topic6\", \"Topic6\", \"Topic6\", \"Topic7\", \"Topic7\", \"Topic7\", \"Topic7\", \"Topic7\", \"Topic7\", \"Topic7\", \"Topic7\", \"Topic7\", \"Topic7\", \"Topic7\", \"Topic7\", \"Topic7\", \"Topic7\", \"Topic7\", \"Topic7\", \"Topic7\", \"Topic7\", \"Topic7\", \"Topic7\", \"Topic7\", \"Topic7\", \"Topic7\", \"Topic7\", \"Topic7\", \"Topic7\", \"Topic7\", \"Topic7\", \"Topic7\", \"Topic7\", \"Topic7\", \"Topic7\", \"Topic7\", \"Topic7\", \"Topic7\", \"Topic7\", \"Topic7\", \"Topic7\", \"Topic7\", \"Topic7\", \"Topic7\", \"Topic7\", \"Topic7\", \"Topic7\", \"Topic7\", \"Topic7\", \"Topic7\", \"Topic7\", \"Topic7\", \"Topic7\", \"Topic7\", \"Topic7\", \"Topic7\", \"Topic8\", \"Topic8\", \"Topic8\", \"Topic8\", \"Topic8\", \"Topic8\", \"Topic8\", \"Topic8\", \"Topic8\", \"Topic8\", \"Topic8\", \"Topic8\", \"Topic8\", \"Topic8\", \"Topic8\", \"Topic8\", \"Topic8\", \"Topic8\", \"Topic8\", \"Topic8\", \"Topic8\", \"Topic8\", \"Topic8\", \"Topic8\", \"Topic8\", \"Topic8\", \"Topic8\", \"Topic8\", \"Topic8\", \"Topic8\", \"Topic8\", \"Topic8\", \"Topic8\", \"Topic8\", \"Topic8\", \"Topic8\", \"Topic8\", \"Topic8\", \"Topic8\", \"Topic8\", \"Topic8\", \"Topic8\", \"Topic8\", \"Topic8\", \"Topic8\", \"Topic8\", \"Topic8\", \"Topic8\", \"Topic8\", \"Topic8\", \"Topic8\", \"Topic8\", \"Topic8\", \"Topic8\", \"Topic8\", \"Topic8\", \"Topic8\", \"Topic9\", \"Topic9\", \"Topic9\", \"Topic9\", \"Topic9\", \"Topic9\", \"Topic9\", \"Topic9\", \"Topic9\", \"Topic9\", \"Topic9\", \"Topic9\", \"Topic9\", \"Topic9\", \"Topic9\", \"Topic9\", \"Topic9\", \"Topic9\", \"Topic9\", \"Topic9\", \"Topic9\", \"Topic9\", \"Topic9\", \"Topic9\", \"Topic9\", \"Topic9\", \"Topic9\", \"Topic9\", \"Topic9\", \"Topic9\", \"Topic9\", \"Topic9\", \"Topic9\", \"Topic9\", \"Topic9\", \"Topic9\", \"Topic9\", \"Topic9\", \"Topic9\", \"Topic9\", \"Topic9\", \"Topic9\", \"Topic9\", \"Topic9\", \"Topic9\", \"Topic9\", \"Topic9\", \"Topic9\", \"Topic9\", \"Topic9\", \"Topic9\", \"Topic9\", \"Topic9\", \"Topic9\", \"Topic9\", \"Topic9\", \"Topic9\", \"Topic9\", \"Topic10\", \"Topic10\", \"Topic10\", \"Topic10\", \"Topic10\", \"Topic10\", \"Topic10\", \"Topic10\", \"Topic10\", \"Topic10\", \"Topic10\", \"Topic10\", \"Topic10\", \"Topic10\", \"Topic10\", \"Topic10\", \"Topic10\", \"Topic10\", \"Topic10\", \"Topic10\", \"Topic10\", \"Topic10\", \"Topic10\", \"Topic10\", \"Topic10\", \"Topic10\", \"Topic10\", \"Topic10\", \"Topic10\", \"Topic10\", \"Topic10\", \"Topic10\", \"Topic10\", \"Topic10\", \"Topic10\", \"Topic10\", \"Topic10\", \"Topic10\", \"Topic10\", \"Topic10\", \"Topic10\", \"Topic10\", \"Topic10\", \"Topic10\", \"Topic10\", \"Topic10\", \"Topic10\", \"Topic10\", \"Topic10\", \"Topic10\", \"Topic10\", \"Topic10\", \"Topic10\", \"Topic10\", \"Topic10\", \"Topic11\", \"Topic11\", \"Topic11\", \"Topic11\", \"Topic11\", \"Topic11\", \"Topic11\", \"Topic11\", \"Topic11\", \"Topic11\", \"Topic11\", \"Topic11\", \"Topic11\", \"Topic11\", \"Topic11\", \"Topic11\", \"Topic11\", \"Topic11\", \"Topic11\", \"Topic11\", \"Topic11\", \"Topic11\", \"Topic11\", \"Topic11\", \"Topic11\", \"Topic11\", \"Topic11\", \"Topic11\", \"Topic11\", \"Topic11\", \"Topic11\", \"Topic11\", \"Topic11\", \"Topic11\", \"Topic11\", \"Topic11\", \"Topic11\", \"Topic11\", \"Topic11\", \"Topic11\", \"Topic11\", \"Topic11\", \"Topic11\", \"Topic11\", \"Topic11\", \"Topic11\", \"Topic12\", \"Topic12\", \"Topic12\", \"Topic12\", \"Topic12\", \"Topic12\", \"Topic12\", \"Topic12\", \"Topic12\", \"Topic12\", \"Topic12\", \"Topic12\", \"Topic12\", \"Topic12\", \"Topic12\", \"Topic12\", \"Topic12\", \"Topic12\", \"Topic12\", \"Topic12\", \"Topic12\", \"Topic12\", \"Topic12\", \"Topic12\", \"Topic12\", \"Topic12\", \"Topic12\", \"Topic12\", \"Topic12\", \"Topic12\", \"Topic12\", \"Topic12\", \"Topic12\", \"Topic12\", \"Topic12\", \"Topic12\", \"Topic12\", \"Topic12\", \"Topic12\", \"Topic13\", \"Topic13\", \"Topic13\", \"Topic13\", \"Topic13\", \"Topic13\", \"Topic13\", \"Topic13\", \"Topic13\", \"Topic13\", \"Topic13\", \"Topic13\", \"Topic13\", \"Topic13\", \"Topic13\", \"Topic13\", \"Topic13\", \"Topic13\", \"Topic13\", \"Topic13\", \"Topic13\", \"Topic13\", \"Topic13\", \"Topic13\", \"Topic13\", \"Topic13\", \"Topic13\", \"Topic13\", \"Topic13\", \"Topic13\", \"Topic13\", \"Topic13\", \"Topic13\", \"Topic13\", \"Topic13\", \"Topic13\", \"Topic13\", \"Topic13\", \"Topic13\", \"Topic13\", \"Topic13\", \"Topic13\", \"Topic13\", \"Topic13\", \"Topic13\", \"Topic13\", \"Topic14\", \"Topic14\", \"Topic14\", \"Topic14\", \"Topic14\", \"Topic14\", \"Topic14\", \"Topic14\", \"Topic14\", \"Topic14\", \"Topic14\", \"Topic14\", \"Topic14\", \"Topic14\", \"Topic14\", \"Topic14\", \"Topic14\", \"Topic14\", \"Topic14\", \"Topic14\", \"Topic14\", \"Topic14\", \"Topic14\", \"Topic14\", \"Topic14\", \"Topic14\", \"Topic14\", \"Topic14\", \"Topic14\", \"Topic14\", \"Topic14\", \"Topic14\", \"Topic14\", \"Topic14\", \"Topic14\", \"Topic14\", \"Topic14\", \"Topic14\", \"Topic14\", \"Topic14\", \"Topic14\", \"Topic14\", \"Topic14\", \"Topic14\", \"Topic14\", \"Topic14\", \"Topic14\", \"Topic14\", \"Topic14\", \"Topic14\", \"Topic14\", \"Topic14\", \"Topic14\", \"Topic14\", \"Topic14\", \"Topic14\", \"Topic14\", \"Topic14\"], \"logprob\": [30.0, 29.0, 28.0, 27.0, 26.0, 25.0, 24.0, 23.0, 22.0, 21.0, 20.0, 19.0, 18.0, 17.0, 16.0, 15.0, 14.0, 13.0, 12.0, 11.0, 10.0, 9.0, 8.0, 7.0, 6.0, 5.0, 4.0, 3.0, 2.0, 1.0, -4.748, -5.1776, -5.2014, -5.2544, -5.2695, -5.3191, -5.335, -5.3507, -5.4163, -5.4228, -5.4269, -3.2736, -5.4421, -5.4568, -5.4931, -5.5117, -5.543, -5.6215, -5.6324, -5.649, -5.6838, -5.6893, -5.7102, -5.7234, -5.728, -5.7284, -5.7524, -5.7542, -5.7676, -5.7762, -3.4906, -4.5625, -4.5136, -4.2562, -4.4735, -4.231, -5.1721, -4.9827, -5.0382, -5.0238, -4.6605, -4.8618, -4.7705, -5.1125, -4.6608, -4.449, -4.4793, -5.0822, -5.0623, -4.9722, -5.286, -4.6369, -5.1548, -4.8948, -5.0808, -5.2484, -4.2407, -4.279, -4.5868, -4.6168, -4.7627, -4.9569, -5.0278, -5.0376, -5.0824, -5.161, -5.1843, -5.2681, -5.2943, -5.3294, -5.346, -5.352, -5.3754, -5.3766, -5.4069, -5.4229, -5.4268, -5.4873, -5.4923, -5.5009, -5.5404, -5.5404, -5.5443, -5.625, -5.6881, -5.6923, -4.1177, -4.7435, -3.4763, -3.9826, -4.9004, -4.007, -4.4211, -4.8848, -4.8261, -4.1973, -4.3863, -4.4274, -5.1021, -4.0719, -4.8434, -4.6195, -4.9336, -5.0503, -4.9748, -4.8865, -5.0046, -4.22, -4.4833, -4.8852, -4.93, -5.0107, -5.0375, -5.055, -5.0622, -5.0636, -5.0831, -5.1133, -5.1556, -5.1597, -5.1703, -5.2701, -5.3713, -5.431, -5.1369, -5.4827, -5.4849, -5.5168, -5.5233, -5.5288, -5.5409, -5.5425, -5.5466, -5.5817, -5.6049, -5.6102, -5.6203, -4.2248, -4.1022, -3.9914, -3.491, -4.514, -4.53, -3.8875, -4.0366, -4.2482, -4.2229, -3.9297, -4.2888, -4.009, -4.993, -4.3189, -4.2814, -3.3469, -4.5222, -4.3378, -4.782, -4.6155, -4.7316, -4.8762, -4.8492, -4.9253, -4.9388, -4.9626, -2.5307, -4.3902, -4.4114, -4.4408, -4.5671, -4.6984, -4.8254, -4.8811, -4.9434, -5.0169, -5.0219, -5.0994, -5.2349, -5.2685, -5.2738, -5.4332, -5.4585, -5.495, -5.5693, -5.5741, -5.5742, -5.612, -5.6301, -5.6406, -5.6898, -5.6992, -5.7028, -5.7181, -5.751, -5.7711, -2.9348, -4.2015, -5.1286, -5.1087, -4.957, -4.3495, -4.7551, -4.6705, -4.2024, -4.9284, -5.0811, -5.2761, -4.8342, -5.0387, -4.8513, -5.1114, -4.3528, -4.9009, -5.0255, -5.024, -4.9304, -4.9579, -5.0416, -3.6469, -4.7035, -4.8481, -4.9073, -4.9562, -5.0255, -0.7711, -5.1948, -5.2578, -5.2855, -5.4188, -5.4659, -5.4744, -5.5669, -5.7671, -5.7867, -5.8978, -5.9046, -5.9158, -5.9309, -5.9498, -5.998, -2.2754, -6.0417, -6.0431, -6.1097, -6.1245, -6.1299, -6.183, -6.1988, -5.0753, -5.0683, -4.5424, -3.7804, -3.8245, -4.5126, -4.8482, -5.2029, -5.6473, -5.2138, -4.357, -5.2798, -5.0703, -5.2037, -5.2304, -5.5603, -3.9042, -4.5197, -4.7307, -4.7357, -4.8195, -4.823, -5.0216, -5.2484, -5.3496, -5.3892, -5.3903, -5.4586, -5.4703, -5.4864, -5.4973, -5.6167, -5.6353, -5.6812, -5.8707, -5.9122, -5.9309, -5.9309, -5.9393, -5.9636, -5.9842, -6.0713, -6.1232, -6.1362, -6.1467, -6.1683, -4.7773, -4.5997, -5.1722, -5.0719, -4.9097, -3.7948, -2.004, -3.5324, -4.1934, -2.7388, -4.9939, -4.8183, -4.5604, -4.3767, -3.368, -4.7958, -3.6279, -4.4778, -4.333, -4.5669, -4.4771, -4.8241, -4.4371, -5.0266, -4.5528, -4.6141, -4.9413, -4.8969, -3.9303, -4.2853, -3.6808, -4.502, -4.6751, -4.6816, -4.7169, -4.8701, -4.8926, -4.9419, -4.9431, -4.9677, -5.0482, -5.093, -5.1188, -5.127, -5.1733, -5.1906, -5.2278, -5.291, -5.3401, -5.3514, -5.3683, -5.3738, -5.4377, -5.5026, -5.508, -5.5756, -5.5804, -5.5894, -3.4297, -3.5476, -4.9775, -4.4554, -4.6681, -4.4847, -3.4834, -4.6338, -4.7273, -4.1812, -3.8407, -4.1174, -4.6925, -4.3025, -4.1145, -4.2732, -4.5201, -4.4226, -3.9101, -4.3895, -4.6576, -4.7446, -4.7743, -4.1915, -4.7878, -4.9166, -5.0125, -5.082, -5.0938, -5.1268, -5.2967, -5.3421, -5.4274, -5.4361, -3.8033, -5.4781, -5.5819, -5.5935, -5.5764, -5.6234, -5.6888, -5.6946, -5.7266, -5.7289, -5.7444, -5.8618, -5.8866, -5.9244, -5.979, -5.9794, -5.9794, -6.0381, -6.0613, -4.5017, -4.3422, -3.2991, -4.6978, -3.8283, -5.3431, -5.0331, -5.2621, -4.7525, -4.6841, -4.9615, -4.4682, -4.8037, -4.7542, -4.4684, -4.4901, -4.4634, -4.9615, -4.5589, -4.8235, -4.8733, -4.9618, -4.6881, -4.7764, -4.6396, -4.8504, -5.0511, -4.1046, -4.4079, -4.4373, -4.6662, -4.7332, -4.7691, -4.78, -4.85, -4.8711, -5.0162, -5.0383, -5.0387, -5.1204, -5.1862, -5.2297, -5.2524, -5.3434, -5.4779, -5.4846, -5.4891, -5.4899, -5.5139, -5.5481, -5.6354, -5.6693, -5.7232, -5.742, -5.7598, -5.7757, -5.7757, -4.1749, -4.5053, -4.1969, -4.2845, -4.0804, -4.5802, -4.6348, -3.6309, -3.483, -4.7191, -5.0628, -4.7294, -4.1925, -4.2169, -4.2805, -4.2898, -4.7642, -3.952, -3.7773, -4.0602, -3.5591, -4.3302, -4.2554, -4.4305, -4.3961, -4.512, -4.6436, -4.6168, -3.9083, -4.3334, -4.3889, -4.4497, -4.658, -4.7698, -4.8797, -5.0606, -5.066, -5.0804, -5.1007, -5.1537, -5.1726, -5.2249, -5.2308, -5.2371, -5.2371, -5.3754, -5.427, -5.4282, -5.43, -5.4752, -5.484, -5.5162, -5.5381, -2.8419, -5.5958, -5.6401, -5.6736, -5.7207, -3.6782, -4.7089, -4.1815, -3.9278, -3.8165, -4.2931, -3.5422, -3.422, -4.7698, -3.1799, -3.644, -4.9275, -4.0463, -3.9727, -4.2331, -4.3333, -4.735, -4.4767, -4.4111, -4.4818, -4.4798, -4.7394, -4.6385, -4.7138, -4.7584, -3.0242, -3.3502, -3.0822, -3.6984, -3.8981, -4.0658, -4.4774, -4.4905, -4.5411, -4.7243, -4.7354, -4.0024, -4.8266, -4.5009, -5.0477, -5.0706, -5.1013, -5.2008, -5.2051, -5.2959, -5.3277, -5.3618, -5.3823, -5.3864, -5.4143, -5.4337, -5.4835, -5.4968, -5.5204, -5.5205, -4.0637, -4.7361, -4.6759, -4.0569, -4.465, -4.2528, -4.713, -4.3898, -4.2044, -4.204, -4.7527, -4.5752, -4.8521, -4.3532, -4.6232, -4.7937, -3.6662, -3.7281, -3.8499, -3.8812, -3.984, -4.1995, -4.2143, -4.2836, -4.3068, -4.3726, -4.3913, -4.4186, -4.5859, -4.5977, -4.6406, -4.6406, -4.6406, -4.6406, -4.6406, -4.6406, -4.6406, -4.6406, -4.6406, -4.6406, -4.6406, -4.6406, -4.6406, -4.6406, -4.6406, -4.6406, -3.1431, -3.1351, -4.0812, -4.0505, -4.2448, -3.9218, -4.3642, -4.2229, -4.5523, -3.5445, -3.756, -4.2442, -4.2628, -4.2782, -4.3211, -4.399, -4.4271, -4.4839, -4.5891, -4.7528, -4.762, -4.7786, -5.0763, -5.1851, -3.2361, -5.2727, -5.3562, -5.426, -5.4278, -4.0393, -5.5749, -3.7321, -5.6991, -5.6991, -5.8047, -5.9602, -5.4597, -4.2283, -6.5343, -3.076, -3.5206, -4.3017, -3.3715, -4.5732, -4.0183, -4.7435, -4.6924, -4.2598, -4.3966, -4.619, -4.5748, -4.6794, -4.6697, -4.7307, -4.7303, -5.3921, -5.3921, -8.4067, -8.4067, -8.4067, -8.4067, -8.4067, -8.4067, -8.4067, -8.4067, -8.4067, -8.4067, -8.4067, -8.4067, -8.4067, -8.4067, -8.4067, -8.4067, -8.4067, -8.4067, -8.4067, -8.4067, -8.4067, -8.4067, -8.4067, -8.4067, -8.4067, -8.4067, -8.4067, -8.4067, -8.4064, -8.4066, -8.4067, -8.4067, -8.4067, -8.4067, -8.4067, -8.4067, -8.4067, -8.4067, -8.4067, -8.4067, -8.4067, -8.4067, -8.4067, -8.4067, -8.4067, -8.4067, -8.4067, -8.4067, -8.4067, -8.4067, -8.4067, -8.4067, -8.4067, -8.4067, -8.4067, -8.4067], \"loglift\": [30.0, 29.0, 28.0, 27.0, 26.0, 25.0, 24.0, 23.0, 22.0, 21.0, 20.0, 19.0, 18.0, 17.0, 16.0, 15.0, 14.0, 13.0, 12.0, 11.0, 10.0, 9.0, 8.0, 7.0, 6.0, 5.0, 4.0, 3.0, 2.0, 1.0, 1.8813, 1.8743, 1.8738, 1.8727, 1.8723, 1.8712, 1.8709, 1.8705, 1.8689, 1.8687, 1.8686, 1.8683, 1.8682, 1.8679, 1.8669, 1.8664, 1.8655, 1.8632, 1.8628, 1.8623, 1.8612, 1.861, 1.8603, 1.8599, 1.8597, 1.8597, 1.8589, 1.8588, 1.8583, 1.858, 1.8256, 1.841, 1.8331, 1.8164, 1.8171, 1.7658, 1.8186, 1.7837, 1.7762, 1.742, 1.6151, 1.6271, 1.557, 1.6636, 1.4375, 1.3206, 1.2704, 1.634, 1.6207, 1.5108, 1.6977, 0.8041, 1.3638, 0.6364, 0.9744, 1.1057, 1.9697, 1.9693, 1.9661, 1.9657, 1.9637, 1.9606, 1.9593, 1.9591, 1.9583, 1.9566, 1.9561, 1.9542, 1.9536, 1.9527, 1.9523, 1.9521, 1.9515, 1.9515, 1.9506, 1.9502, 1.9501, 1.9484, 1.9482, 1.9479, 1.9467, 1.9467, 1.9466, 1.944, 1.9418, 1.9416, 1.916, 1.9234, 1.8376, 1.8345, 1.8864, 1.4931, 1.5726, 1.7326, 1.6727, 1.3154, 1.4017, 1.3551, 1.74, 0.8201, 1.4892, 1.2212, 1.49, 1.5542, 1.2492, 0.6518, -0.4329, 2.1868, 2.1836, 2.1768, 2.1758, 2.174, 2.1734, 2.173, 2.1728, 2.1728, 2.1723, 2.1716, 2.1705, 2.1703, 2.1701, 2.1672, 2.1641, 2.162, 2.1614, 2.1602, 2.1601, 2.1589, 2.1587, 2.1585, 2.158, 2.158, 2.1578, 2.1564, 2.1555, 2.1552, 2.1548, 2.0589, 1.9345, 1.7954, 1.6536, 1.8924, 1.8565, 1.631, 1.6675, 1.6869, 1.5821, 1.4314, 1.5683, 1.3693, 1.8982, 1.387, 1.3227, 0.4739, 1.4559, 1.0578, 1.4887, 1.1466, 0.98, 1.013, 0.686, 1.1439, 1.0089, 0.8904, 2.2853, 2.2738, 2.2735, 2.2731, 2.2712, 2.2689, 2.2664, 2.2652, 2.2638, 2.262, 2.2619, 2.2599, 2.2559, 2.2548, 2.2547, 2.2491, 2.2481, 2.2467, 2.2436, 2.2434, 2.2434, 2.2418, 2.241, 2.2405, 2.2382, 2.2377, 2.2375, 2.2368, 2.2351, 2.2341, 2.2134, 2.0432, 2.0516, 1.9976, 1.919, 1.5723, 1.7768, 1.7261, 1.4376, 1.6281, 1.5804, 1.8292, 0.9279, 1.3389, 0.6636, 1.3699, -1.288, 0.4542, 0.9957, 0.7627, -0.4041, -0.0658, 0.3994, 2.3158, 2.3031, 2.3001, 2.2988, 2.2976, 2.2958, 2.2938, 2.291, 2.2889, 2.288, 2.2832, 2.2813, 2.281, 2.277, 2.2672, 2.2662, 2.2597, 2.2593, 2.2586, 2.2577, 2.2565, 2.2533, 2.2508, 2.2504, 2.2503, 2.2455, 2.2444, 2.244, 2.2398, 2.2386, 2.0625, 1.9549, 1.5706, 1.1745, 0.7472, 1.1273, 1.3299, 1.515, 1.9043, 1.0634, -0.5363, 1.0642, 0.3253, 0.5079, 0.1307, 0.2277, 2.5167, 2.5076, 2.503, 2.5029, 2.5008, 2.5007, 2.4949, 2.4868, 2.4825, 2.4807, 2.4807, 2.4775, 2.4769, 2.4761, 2.4755, 2.4691, 2.4681, 2.4654, 2.4529, 2.4498, 2.4484, 2.4484, 2.4478, 2.4452, 2.4443, 2.4367, 2.4324, 2.4313, 2.4303, 2.4283, 2.3755, 2.335, 2.3627, 2.3347, 2.3091, 2.1344, 1.8167, 2.0604, 2.1506, 1.8329, 2.2668, 2.2207, 2.0912, 2.0104, 1.5869, 2.055, 1.2641, 1.7674, 1.52, 1.6139, 1.4122, 1.8196, 1.2029, 2.0495, 0.9855, 0.7642, 1.8582, 0.9532, 2.5886, 2.5836, 2.5823, 2.5795, 2.5756, 2.5754, 2.5745, 2.5703, 2.5696, 2.568, 2.568, 2.5672, 2.5644, 2.5628, 2.5618, 2.5615, 2.5597, 2.559, 2.5575, 2.5547, 2.5525, 2.5519, 2.5511, 2.5509, 2.5477, 2.5442, 2.5439, 2.5401, 2.5398, 2.5393, 2.1055, 1.9623, 2.3643, 2.1776, 2.2471, 2.1618, 1.6546, 2.1157, 2.1718, 1.7665, 1.5145, 1.5885, 2.0435, 1.5476, 1.2811, 1.3309, 1.5782, 1.1507, -0.0893, 0.7551, 1.2642, 1.4742, 1.4964, 2.7976, 2.7824, 2.7778, 2.7734, 2.771, 2.7704, 2.7689, 2.7603, 2.7578, 2.7527, 2.7522, 2.7496, 2.7495, 2.7424, 2.7416, 2.7415, 2.7394, 2.7344, 2.7339, 2.7314, 2.7312, 2.7299, 2.7196, 2.7173, 2.7136, 2.7082, 2.7081, 2.7081, 2.7019, 2.6994, 2.6835, 2.4961, 2.1419, 2.4194, 2.1147, 2.5299, 2.3402, 2.3956, 2.0652, 2.0192, 2.119, 1.6009, 1.8853, 1.727, 1.3845, 1.2597, 1.1099, 1.8424, 0.9724, 1.4303, 1.4343, 1.6083, 0.812, 1.0166, 0.505, 0.6622, 1.7996, 2.9112, 2.9043, 2.9035, 2.8966, 2.8942, 2.8929, 2.8924, 2.8897, 2.8889, 2.8825, 2.8814, 2.8814, 2.8773, 2.8737, 2.8713, 2.8699, 2.8643, 2.8551, 2.8546, 2.8542, 2.8538, 2.8524, 2.8497, 2.8427, 2.8397, 2.8349, 2.8332, 2.8315, 2.83, 2.83, 2.8247, 2.7663, 2.7365, 2.6968, 2.5228, 2.5606, 2.5654, 2.1515, 2.0355, 2.5192, 2.6675, 2.5083, 2.1202, 2.0575, 2.088, 1.9875, 2.4254, 1.5629, 1.3608, 1.3182, 0.2616, 1.559, 1.2759, 1.2735, 1.1422, 0.8431, 1.7822, 0.9565, 2.9539, 2.9451, 2.9436, 2.9419, 2.9353, 2.9312, 2.9267, 2.9182, 2.9179, 2.9171, 2.9161, 2.9132, 2.9121, 2.909, 2.9087, 2.9083, 2.9083, 2.8993, 2.8957, 2.8956, 2.8955, 2.8921, 2.8914, 2.8889, 2.8872, 2.8865, 2.8824, 2.8786, 2.8756, 2.8712, 2.8647, 2.8085, 2.6515, 2.301, 2.2564, 2.1034, 1.5959, 1.47, 2.2549, 0.6408, 0.9277, 2.3214, 1.0984, 0.9821, 1.3053, 1.24, 1.8693, 1.2292, 0.9672, 1.1223, 1.0329, 1.3736, 0.8765, 0.8791, 1.2197, 3.0114, 3.0086, 3.0044, 3.0044, 3.0012, 2.998, 2.9876, 2.9872, 2.9856, 2.979, 2.9786, 2.9783, 2.9748, 2.9643, 2.9643, 2.963, 2.9613, 2.9555, 2.9552, 2.9494, 2.9472, 2.9441, 2.9434, 2.9431, 2.941, 2.9396, 2.9357, 2.9346, 2.9327, 2.9327, 2.8304, 2.6637, 2.5985, 2.2103, 2.3528, 2.0101, 2.3117, 1.8639, 1.3105, 1.3087, 2.0285, 1.4977, 2.0247, 0.5388, 0.8769, 1.451, 4.0334, 4.0308, 4.0254, 4.0239, 4.0186, 4.0057, 4.0047, 3.9998, 3.9983, 3.9933, 3.9919, 3.9897, 3.9751, 3.974, 3.9698, 3.9698, 3.9698, 3.9698, 3.9698, 3.9698, 3.9698, 3.9698, 3.9698, 3.9698, 3.9698, 3.9698, 3.9698, 3.9698, 3.9698, 3.9698, 3.8352, 2.3961, 3.2846, 2.7534, 3.0662, 1.5881, 3.0368, 1.7983, 3.1186, 4.095, 4.0863, 4.058, 4.0567, 4.0556, 4.0523, 4.0461, 4.0437, 4.0387, 4.0288, 4.0114, 4.0103, 4.0084, 3.9687, 3.9514, 3.9477, 3.9363, 3.9209, 3.9072, 3.9069, 3.8842, 3.8753, 3.8515, 3.8457, 3.8457, 3.8183, 3.7739, 3.6716, 3.6374, 3.5638, 3.4808, 3.4743, 3.0393, 2.398, 3.1038, 2.6332, 3.1078, 2.7913, 1.5022, 1.4535, 1.8997, 1.6923, 1.9602, 0.6854, 2.1039, 1.1104, 5.4182, 5.4182, 2.4642, 2.4642, 2.4641, 2.4641, 2.4641, 2.464, 2.464, 2.464, 2.464, 2.464, 2.464, 2.464, 2.464, 2.464, 2.464, 2.464, 2.464, 2.464, 2.464, 2.464, 2.464, 2.464, 2.464, 2.4639, 2.4639, 2.4639, 2.4639, 2.4639, -2.5564, -2.136, -2.4715, -1.0297, 1.0547, -1.7453, -0.6307, -1.4774, -1.2604, 0.2344, -1.4716, -1.1433, 1.0547, 0.307, -0.3853, 0.0923, -3.262, -2.8714, 0.0256, -1.7217, -1.6254, 1.0547, 1.0547, -2.7667, -1.8768, -0.7385, 0.0101, -0.0549]}, \"token.table\": {\"Topic\": [1, 4, 9, 1, 6, 2, 3, 4, 9, 1, 2, 10, 12, 1, 5, 2, 13, 4, 6, 11, 3, 9, 9, 10, 7, 10, 7, 10, 2, 3, 5, 6, 7, 8, 9, 10, 12, 7, 10, 1, 2, 3, 6, 8, 9, 10, 13, 1, 2, 6, 11, 4, 5, 13, 3, 9, 7, 1, 9, 1, 2, 10, 1, 8, 9, 9, 2, 7, 12, 3, 1, 8, 1, 9, 1, 13, 3, 5, 10, 13, 12, 13, 9, 7, 11, 2, 4, 12, 2, 3, 6, 7, 8, 1, 1, 2, 8, 9, 11, 13, 5, 3, 5, 10, 7, 10, 1, 11, 13, 13, 4, 1, 1, 11, 10, 4, 10, 2, 6, 10, 6, 1, 12, 4, 5, 11, 12, 2, 4, 11, 2, 11, 1, 11, 12, 5, 9, 1, 2, 3, 5, 6, 7, 8, 13, 7, 5, 3, 1, 10, 10, 4, 7, 3, 4, 6, 10, 11, 1, 13, 5, 2, 7, 13, 7, 9, 1, 8, 9, 3, 9, 1, 7, 8, 11, 6, 2, 4, 6, 7, 7, 4, 2, 5, 7, 9, 11, 13, 1, 7, 8, 9, 11, 6, 8, 12, 4, 4, 12, 4, 1, 1, 8, 2, 2, 4, 7, 11, 1, 2, 7, 8, 13, 6, 11, 1, 8, 7, 1, 9, 4, 9, 10, 2, 13, 3, 9, 2, 3, 4, 11, 13, 6, 2, 5, 8, 9, 1, 2, 3, 4, 8, 13, 1, 2, 1, 13, 1, 1, 4, 11, 4, 10, 2, 12, 8, 8, 1, 8, 5, 1, 2, 3, 4, 10, 12, 12, 10, 1, 3, 4, 6, 8, 11, 4, 9, 2, 4, 13, 5, 10, 12, 12, 2, 11, 3, 7, 1, 2, 2, 1, 11, 4, 5, 4, 2, 4, 9, 3, 9, 13, 5, 5, 8, 3, 5, 6, 7, 13, 2, 4, 1, 12, 1, 2, 8, 4, 9, 9, 1, 1, 8, 4, 2, 6, 1, 2, 7, 12, 1, 2, 3, 4, 7, 8, 6, 13, 8, 6, 10, 6, 1, 12, 12, 6, 2, 4, 7, 8, 6, 1, 13, 8, 5, 4, 11, 1, 2, 3, 5, 6, 11, 11, 10, 11, 1, 3, 7, 6, 9, 12, 2, 11, 6, 9, 4, 4, 1, 2, 3, 4, 5, 7, 9, 11, 13, 2, 1, 9, 1, 4, 3, 1, 2, 3, 4, 5, 6, 8, 9, 10, 8, 5, 3, 1, 12, 12, 12, 13, 4, 1, 5, 5, 4, 2, 4, 6, 10, 11, 7, 2, 5, 10, 2, 3, 7, 8, 10, 1, 6, 7, 10, 11, 8, 3, 4, 6, 7, 8, 2, 4, 1, 2, 3, 4, 6, 8, 9, 6, 4, 4, 4, 7, 5, 7, 12, 3, 4, 7, 9, 10, 9, 4, 5, 6, 7, 11, 3, 4, 10, 3, 4, 5, 6, 2, 4, 5, 6, 8, 9, 11, 11, 11, 8, 8, 1, 8, 9, 1, 2, 4, 8, 11, 2, 3, 11, 11, 3, 2, 9, 13, 3, 7, 12, 8, 8, 1, 8, 1, 6, 12, 2, 2, 4, 7, 7, 4, 8, 4, 3, 13, 3, 3, 1, 2, 3, 7, 8, 9, 10, 13, 1, 8, 3, 2, 3, 4, 7, 12, 4, 5, 8, 1, 1, 11, 2, 8, 12, 3, 7, 8, 10, 13, 1, 4, 7, 10, 2, 3, 6, 8, 1, 3, 4, 9, 10, 11, 6, 3, 6, 2, 1, 8, 11, 9, 6, 8, 11, 2, 3, 6, 7, 8, 13, 1, 2, 8, 9, 3, 4, 6, 9, 9, 1, 2, 3, 4, 13, 2, 7, 8, 9, 10, 5, 1, 2, 8, 10, 11, 11, 7, 10, 4, 5, 6, 6, 7, 6, 9, 10, 12, 9, 1, 9, 3, 11, 13, 13, 13, 1, 4, 13, 11, 5, 6, 1, 2, 4, 10, 11, 13, 1, 4, 9, 10, 2, 1, 2, 4, 9, 13, 2, 3, 6, 7, 8, 9, 10, 4, 6, 7, 1, 2, 3, 4, 5, 7, 8, 3, 7, 9, 8, 2, 3, 4, 6, 9, 3, 2, 3, 8, 9, 11, 10, 12, 3, 4, 8, 11, 1, 4, 6, 2, 10, 4, 6, 4, 6, 8, 4, 3, 4, 11, 9, 11, 1, 8, 3, 12, 8, 7, 8, 1, 2, 3, 1, 2, 6, 13, 1, 7, 5, 10, 1, 9, 9, 1, 3, 5, 6, 7, 8, 9, 10, 11, 10, 3, 11, 6, 6, 12, 1, 2, 4, 6, 8, 9, 12, 7, 2, 3, 5, 6, 9, 10, 1, 7, 10, 11, 7, 11, 4, 11, 6, 1, 10, 7, 2, 4, 7, 10, 8, 13, 1, 2, 8, 10, 11, 4, 10, 4, 13, 3, 1, 5, 8, 3, 1, 1, 8, 1, 2, 8, 5, 1, 4, 8, 1, 8, 1, 2, 9, 2, 1, 2, 1, 2, 3, 4, 5, 7, 8, 13, 10, 1, 2, 13, 12, 1, 3, 5, 9, 2, 10, 2, 13, 11, 10, 9, 1, 8, 2, 1, 2, 5, 7, 11, 2, 10, 1, 2, 4, 7, 8, 2, 1, 6, 9, 11, 4, 12, 1, 5, 1, 6, 7, 8, 10, 11, 2, 3, 7, 8, 11, 5, 12, 12, 8, 4, 11, 8, 2, 1, 2, 7, 6, 7, 4, 4, 6, 5, 6, 3, 7, 10, 11, 7, 13, 5, 1, 2, 8, 11, 3, 5, 6, 9, 8, 6, 2, 9, 3, 4, 11, 5, 6, 3, 3, 7, 11, 1, 2, 4, 10, 13, 8, 6, 13, 10, 1, 2, 3, 8, 12, 5, 11, 4, 1, 2, 8, 6, 4, 9, 1, 7, 2, 1, 11, 13, 10, 5, 12, 1, 5, 6, 8, 1, 7, 7, 6, 3, 8, 1, 2, 3, 9, 11, 2, 10, 4, 5, 6, 5, 9, 11, 1, 8, 8, 3, 2, 1, 10, 4, 13, 4, 5, 7, 2, 1, 2, 7, 6, 1, 3, 4, 6, 8, 13, 1, 9, 11, 4, 5, 1, 2, 3, 4, 5, 7, 8, 9, 4, 3, 4, 9, 9, 3, 3, 5, 6, 9, 10, 1, 2, 4, 6, 7, 10, 13, 9, 5, 1, 2, 4, 5, 6, 7, 8, 9, 11, 13, 7, 3, 6, 8, 11, 7, 4, 6, 7, 7, 11, 5, 1, 2, 9, 8, 10, 11, 4, 10, 10, 12, 3, 10, 4, 3, 4, 7, 4, 1, 4, 9, 6, 13, 8, 1, 2, 7, 8, 11, 3, 3, 5, 6, 10, 11, 11, 12, 1, 2, 3, 4, 8, 12, 1, 2, 1, 6, 11, 13, 5, 13, 13, 5, 5, 6, 8, 13, 1, 3, 7, 8, 10, 11, 1, 2, 3, 6, 10, 13, 2, 3, 4, 6, 8, 6, 7, 8, 13, 7, 9, 13, 3, 13, 1, 3, 4, 6, 7, 8, 9, 11, 12, 5, 2, 7, 1, 2, 3, 7, 8, 10, 13], \"Freq\": [0.07836728633970527, 0.7836728633970528, 0.10448971511960703, 0.16290895168717923, 0.8145447584358961, 0.05279654078878104, 0.27454201210166146, 0.25342339578614903, 0.42237232631024835, 0.9693452881743906, 0.9791134931170451, 0.8965315197897576, 0.8734623234820788, 0.20029685913112383, 0.7761503291331049, 0.7077458830201585, 0.24771105905705548, 0.11572846770463975, 0.5014900267201056, 0.3664734810646925, 0.36917282046898076, 0.6064982050561827, 0.8693862185796761, 0.8574954379534616, 0.9321786504509704, 0.9366060939247517, 0.966748816539353, 0.9681652913833316, 0.02670582164538616, 0.03204698597446339, 0.03738815030354062, 0.624916226502036, 0.021364657316308926, 0.07477630060708124, 0.02670582164538616, 0.12284677956877632, 0.03204698597446339, 0.7983250614978852, 0.1842288603456658, 0.0859851940513929, 0.2630135347454371, 0.005057952591258406, 0.21243400883285304, 0.05057952591258406, 0.1669124355115274, 0.18714424587656103, 0.020231810365033624, 0.761217601898097, 0.15858700039543688, 0.05286233346514563, 0.02114493338605825, 0.9832107464403848, 0.18381647840214654, 0.5514494352064396, 0.9491985069088149, 0.981573176776352, 0.9697614924934264, 0.9865246101098482, 0.9488344513663373, 0.36372811694196694, 0.08393725775583852, 0.531602632453644, 0.1383375458624998, 0.1936725642074997, 0.6640202201399991, 0.9837485018076747, 0.5212298021293484, 0.09773058789925285, 0.3583454889639271, 0.9700885590210403, 0.20892494764950537, 0.7312373167732688, 0.9648956086597689, 0.9408959767720161, 0.965870977102359, 0.9476394737676977, 0.31448707823756633, 0.46723794481009856, 0.2066629371275436, 0.008985345092501896, 0.9453155379817706, 0.9254693785809875, 0.9325946988016549, 0.9535212904397382, 0.9604129495815477, 0.9623581874721292, 0.9821620170893115, 0.8734623234820788, 0.07641855284645148, 0.31659114750672757, 0.17467097793474626, 0.1637540418138246, 0.2510895307811977, 0.9819660391441292, 0.3347182278545496, 0.19778804373223383, 0.13693018412231572, 0.0608578596099181, 0.15214464902479524, 0.10650125431735667, 0.9082417686925249, 0.027625339018855943, 0.05525067803771189, 0.8978235181128181, 0.7014593806988665, 0.2805837522795466, 0.2801237663724411, 0.19608663646070876, 0.518228967789016, 0.8978461315959005, 0.767060923349667, 0.9649385151856851, 0.9833960797432673, 0.9034071948985696, 0.9017431988083118, 0.9477026954285073, 0.9288375289516678, 0.23096873882861788, 0.64671246872013, 0.107785411453355, 0.9206387499802361, 0.6252000044547529, 0.3572571454027159, 0.3459671233444007, 0.09435467000301838, 0.09435467000301838, 0.4403217933474191, 0.41983819135455924, 0.4975860045683665, 0.07774781321380726, 0.008751993917245819, 0.9889753126487776, 0.8155991800553958, 0.17170509053797806, 0.8734623234820788, 0.11450217401424137, 0.8587663051068102, 0.039468153261875916, 0.09647770797347446, 0.320130576457438, 0.13594586123535038, 0.04823885398673723, 0.2675063721082701, 0.07455095616132117, 0.01754140144972263, 0.9810298136130489, 0.9626280677925616, 0.9471707706747424, 0.9421235189213419, 0.045403543080546595, 0.9566859047576087, 0.9685963867727326, 0.9826891771599023, 0.9563529272103307, 0.25035243335036594, 0.04316421264661481, 0.4920720241714089, 0.21582106323307407, 0.6132903183310487, 0.35775268569311175, 0.9718428120563505, 0.010440345605210661, 0.9813924868898022, 0.8997654130972352, 0.9568429544653589, 0.9307081628872951, 0.34857365132153467, 0.633770275130063, 0.9486765643808002, 0.7350181206195149, 0.2530390251313084, 0.22977645869367422, 0.6433740843422878, 0.12254744463662626, 0.9199285559799825, 0.9555538731035099, 0.6609851952092679, 0.2203283984030893, 0.11750847914831429, 0.984423350555167, 0.9690868599658629, 0.9662003207369376, 0.615593168227979, 0.03357780917607158, 0.2014668550564295, 0.06715561835214316, 0.0783482214108337, 0.6717629455014611, 0.24571842457309445, 0.14743105474385668, 0.2088606608871303, 0.3194339519450228, 0.07371552737192834, 0.930282700614498, 0.9120125214784882, 0.9654820515006703, 0.938924463452062, 0.9344686916339529, 0.9352455917602068, 0.9537712630055631, 0.9636415837778723, 0.9234005700642987, 0.06903929495807841, 0.9568477164988212, 0.33952881502333465, 0.3863603757162084, 0.05853945086609218, 0.19903413294471342, 0.7126286621338846, 0.11134822845841948, 0.04453929138336779, 0.07794375992089363, 0.04453929138336779, 0.8190104946396661, 0.16380209892793324, 0.9730829066646804, 0.023816714498785887, 0.9350213644442633, 0.9791236275125985, 0.9099906757372139, 0.7521242012262219, 0.2426207100729748, 0.9735153506241649, 0.9815755135773311, 0.8339069409311167, 0.08723232005242566, 0.894131280537363, 0.031448594673062186, 0.31448594673062186, 0.11531151380122802, 0.4402803254228706, 0.08386291912816583, 0.9413859661609343, 0.2223803190051757, 0.28591755300665445, 0.10589539000246462, 0.39181294300911906, 0.041741801368317955, 0.25740777510462737, 0.5356864508934137, 0.09044056963135556, 0.041741801368317955, 0.03478483447359829, 0.9563103927439103, 0.9915269155338707, 0.19551396759922568, 0.7429530768770576, 0.9938514891331183, 0.3791825342991952, 0.4265803510865946, 0.1421934503621982, 0.5727187646291274, 0.41760743254207205, 0.990497285738017, 0.8734623234820788, 0.9394061185044252, 0.9573761529569323, 0.5914893265163137, 0.39965495034886056, 0.9480016241001581, 0.22358121410473927, 0.1016278245930633, 0.22358121410473927, 0.28455790886057725, 0.14227895443028862, 0.8734623234820788, 0.9596890637587397, 0.9476984544641787, 0.09090381732844119, 0.11687633656513867, 0.402574048168811, 0.01298625961834874, 0.3376427500770673, 0.03895877885504622, 0.9848289812056105, 0.8693862185796761, 0.9587327327977275, 0.1573117465594824, 0.8389959816505728, 0.9639120851988991, 0.900771775559382, 0.8734623234820788, 0.8734623234820788, 0.9587327327977275, 0.9863268465789952, 0.9654327185160211, 0.9479619354273766, 0.6765146219676998, 0.3122375178312461, 0.9700692091800879, 0.9880194166864672, 0.9474291345551428, 0.02813904894754886, 0.9716498871433916, 0.9972328378346187, 0.9669219532119228, 0.3013533426649209, 0.678045020996072, 0.5652839290651006, 0.40660773845033554, 0.019834523826845637, 0.9678196431694908, 0.9432769317852816, 0.8882543132011813, 0.09872049830097199, 0.444242242354374, 0.23034782936893466, 0.18098758021844866, 0.049360249150485994, 0.7886554988523146, 0.20832409403646046, 0.9878094783550737, 0.8734623234820788, 0.09458259125639212, 0.3783303650255685, 0.4965586040960587, 0.9278906772319276, 0.06847901676988395, 0.8827894409787661, 0.9773180784069373, 0.8879654549202897, 0.09060871988982547, 0.9357378821412673, 0.33776055232003377, 0.562934253866723, 0.7590107210259357, 0.05234556696730591, 0.17012309264374423, 0.013086391741826478, 0.28622424522218964, 0.14311212261109482, 0.28622424522218964, 0.16355671155553692, 0.1226675336666527, 0.9318916009551085, 0.8615061713174701, 0.9000542879394496, 0.8963852164799501, 0.9710179920387981, 0.9418213365080899, 0.9606535429937729, 0.9665452855655849, 0.9661062063376191, 0.8920577392553515, 0.8925213963863777, 0.25550093635624277, 0.22711194342777136, 0.1703339575708285, 0.3122789222131856, 0.9102104157892179, 0.9491692875632037, 0.04805920443357994, 0.9710839091434138, 0.9205482235100512, 0.961873661745583, 0.9368220991749522, 0.07493408585560646, 0.07493408585560646, 0.7659928776350883, 0.07493408585560646, 0.7644228289211048, 0.1981836963869531, 0.9723998875785749, 0.4919625386925077, 0.4919625386925077, 0.9818568462368591, 0.8739894553393318, 0.11724248791137377, 0.9616459709793898, 0.9804977145536596, 0.8734623234820788, 0.26030515137244575, 0.7158391662742258, 0.1632852183045244, 0.8164260915226219, 0.767060923349667, 0.9380378593771044, 0.09904995037655426, 0.07263663027613979, 0.5414730620584965, 0.0396199801506217, 0.0792399603012434, 0.02641332010041447, 0.0396199801506217, 0.05282664020082894, 0.04622331017572532, 0.985877940193656, 0.29316459681690005, 0.6929345015672184, 0.4842519732765035, 0.3631889799573776, 0.9692597689246925, 0.01923853368121546, 0.09042110830171267, 0.007695413472486184, 0.02885780052182319, 0.20777616375712696, 0.500201875711602, 0.007695413472486184, 0.011543120208729276, 0.12889817566414358, 0.9435038344343565, 0.9305181991229249, 0.9850230745755879, 0.19212178315991893, 0.7898339974352223, 0.9569332126264152, 0.8734623234820788, 0.910771730588614, 0.8790507092340742, 0.9797685334139997, 0.9475241184268862, 0.9051006534334604, 0.9851231701996321, 0.3127386102258701, 0.09541177939094342, 0.28358501096752625, 0.22262748524553463, 0.08481047056972749, 0.9441952105518681, 0.7824010552631228, 0.20491456209272263, 0.9601498037471319, 0.0068236135115224035, 0.5800071484794043, 0.15694311076501527, 0.09894239591707485, 0.15353130400925408, 0.23078427401992763, 0.4038724795348734, 0.24040028543742462, 0.05769606850498191, 0.0673120799224789, 0.9102607114129366, 0.221856123708171, 0.09075932333516087, 0.04537966166758044, 0.6101043401974703, 0.030253107778386957, 0.9457937053821269, 0.9136489844532586, 0.0977767103560026, 0.0601702832960016, 0.601702832960016, 0.0676915687080018, 0.037606427060001, 0.0977767103560026, 0.037606427060001, 0.9503682546220186, 0.9495174766683985, 0.9712682917086237, 0.9870274372265311, 0.9362155245594966, 0.9750840990056846, 0.5973884928848415, 0.38403545971168385, 0.4789500023471984, 0.10992295135837342, 0.20414262395126492, 0.03140655753096383, 0.17273606642030107, 0.9382243830697404, 0.15776366318912383, 0.05258788772970795, 0.1051757754594159, 0.28046873455844235, 0.3681152141079556, 0.9709630470528613, 0.767060923349667, 0.9648917713178735, 0.9380255224494422, 0.0680204104927617, 0.9302250732253355, 0.986473323261158, 0.916614446825479, 0.07050880360195992, 0.2830122730737743, 0.6905499463000093, 0.022640981845901943, 0.9752268382591676, 0.9801439845474137, 0.9766801422139612, 0.98969474241866, 0.9174120610245196, 0.9726597921676847, 0.8630388331191517, 0.12082543663668126, 0.8569562273667214, 0.39863794741091646, 0.2968580459442995, 0.09329824301106555, 0.08481658455551415, 0.1187432183777198, 0.9843376426623953, 0.021399537213047323, 0.9629791745871294, 0.9129027080056337, 0.9672113027303044, 0.5358631386483548, 0.45838894992811074, 0.9627623260525009, 0.9748751082343773, 0.9586864944949137, 0.9422966378140084, 0.9431826989097915, 0.8979563325553049, 0.898056988768337, 0.08635163353541701, 0.9660922206988188, 0.938240848303914, 0.8734623234820788, 0.9904586544152717, 0.2449279369080446, 0.4898558738160892, 0.2597720542964109, 0.9758743561981245, 0.9729443792747994, 0.9375054437661435, 0.767060923349667, 0.9671382943175844, 0.6011243545740047, 0.9433572100608145, 0.9688309837551754, 0.07333210924840522, 0.08904613265877777, 0.0942841404622353, 0.23571035115558822, 0.18333027312101308, 0.14142621069335293, 0.17809226531755554, 0.010476015606915032, 0.879956741308415, 0.11199449434834373, 0.9707838498852045, 0.3496065568416963, 0.22974145163882898, 0.04994379383452804, 0.3196402805409794, 0.04994379383452804, 0.9835526074064805, 0.10501364780873737, 0.8663625944220833, 0.946131905390107, 0.9821924261895719, 0.9069163189803776, 0.34068404418484677, 0.3765455225200938, 0.2689610875143527, 0.304669297015917, 0.4341537482476817, 0.0914007891047751, 0.15995138093335642, 0.007616732425397925, 0.0906800826480784, 0.0453400413240392, 0.6498739256445619, 0.19647351240416988, 0.669896148553543, 0.08772449564391634, 0.1993738537361735, 0.0398747707472347, 0.10375866887488984, 0.13834489183318646, 0.19763555976169492, 0.2569262276902034, 0.12352222485105933, 0.1828128927795678, 0.8869545528346089, 0.988392094979987, 0.9234429755556327, 0.9790322208494251, 0.9316134388779331, 0.06480789140020404, 0.9706628787921806, 0.9565217617453334, 0.5176885907477703, 0.33917528359336674, 0.14281064572352284, 0.1039226535029096, 0.27019889910756495, 0.3671933757102806, 0.013856353800387947, 0.23555801460659512, 0.0069281769001939735, 0.45405415826351014, 0.09729731962789502, 0.45405415826351014, 0.9194782201069847, 0.6678971494310378, 0.22047090369568242, 0.07132882178389725, 0.03890663006394395, 0.9796100344277455, 0.21509158659996913, 0.10121957016469135, 0.3479422724411265, 0.2593751485470216, 0.0695884544882253, 0.06792826178879344, 0.6113543560991409, 0.2037847853663803, 0.11887445813038851, 0.9491623283413207, 0.9149504348957219, 0.03943727585128988, 0.5176142455481797, 0.11831182755386965, 0.14296012496092583, 0.1823974008122157, 0.9329396157562144, 0.9661630355566178, 0.9495560144898696, 0.42553142540539357, 0.3023512759459375, 0.2631575920270197, 0.961263106485706, 0.9873084534084331, 0.8174468203873311, 0.16348936407746623, 0.9510273524748138, 0.8734623234820788, 0.9574473957534401, 0.9664719976875863, 0.9303549289417877, 0.9542991694965373, 0.9469909756162911, 0.9495936371317476, 0.962265932733594, 0.8913594444831034, 0.3005483544782621, 0.3005483544782621, 0.3434838336894424, 0.9094387282923334, 0.12707839556283967, 0.8641330898273097, 0.23175133962860384, 0.43623781577148957, 0.1363243174285905, 0.0817945904571543, 0.0817945904571543, 0.027264863485718098, 0.4574286288101554, 0.0800500100417772, 0.25158574584558546, 0.20584288296456993, 0.9769822034139938, 0.25532747481755824, 0.25532747481755824, 0.2127728956812985, 0.25532747481755824, 0.8430364085257172, 0.044063460409560634, 0.06101094518246857, 0.013557987818326348, 0.38979214977688253, 0.030505472591234286, 0.20675931422947683, 0.25421227159361903, 0.24951055446042106, 0.7258488857030431, 0.9301238225099356, 0.029656588816683104, 0.10591638863101109, 0.4660321099764488, 0.12709966635721331, 0.11015304417625153, 0.08896976645004931, 0.07202314426908754, 0.9857436804441017, 0.9694891459884614, 0.9444497069829906, 0.9021993498729436, 0.16241215031852327, 0.12760954667883972, 0.1740130181984178, 0.08120607515926163, 0.42923211155609725, 0.9864477957297441, 0.48195439712565274, 0.26105863177639527, 0.10040716606784432, 0.09036644946105989, 0.05020358303392216, 0.933610053126633, 0.8734623234820788, 0.22965275924010295, 0.2609690445910261, 0.13570390318733358, 0.36535666242743653, 0.4498271709915622, 0.4498271709915622, 0.9015633702022698, 0.9691889187904709, 0.9073018697321641, 0.5058003184394471, 0.42150026536620594, 0.11770464262085316, 0.6120641416284365, 0.23540928524170632, 0.9804208207714309, 0.25953812453001535, 0.6010356568063514, 0.12293911161948096, 0.9829035861837281, 0.9305864821939664, 0.9816454397459512, 0.9611327584065021, 0.9700087591472566, 0.9785414589266971, 0.9306676303172906, 0.9368971813500173, 0.9679322031471506, 0.980528629864054, 0.9784751179358768, 0.9697491256433031, 0.5608997072006794, 0.16572036803656437, 0.08923404432738082, 0.17846808865476163, 0.7719397397737449, 0.21351524717146136, 0.9896675556300004, 0.9243250455637126, 0.9870651203025281, 0.972702051991512, 0.959935932344236, 0.011802794671264284, 0.17885773463377413, 0.05719815879151153, 0.4911778397810752, 0.06809304618037086, 0.010894887388859338, 0.06900095346277581, 0.09714607921732911, 0.015434423800884063, 0.9601498037471319, 0.9800013894437178, 0.9885921294963776, 0.9532363021766939, 0.9562688745675114, 0.8734623234820788, 0.2862742430599849, 0.035156485989822704, 0.14062594395929082, 0.005022355141403243, 0.15569300938350053, 0.19084949537332324, 0.18582714023192, 0.9553831318174643, 0.9876150927554359, 0.11005879986138906, 0.31606629703783523, 0.3894388302787613, 0.04515232814826218, 0.13545698444478654, 0.28250658940816176, 0.08071616840233194, 0.5145655735648661, 0.1210742526034979, 0.9820024471386753, 0.933026315781639, 0.779061958494399, 0.2050163048669471, 0.9532363021766939, 0.2584386151815619, 0.7199361422914939, 0.9349556660065784, 0.86887765487214, 0.004041291418009954, 0.06466066268815926, 0.0606193712701493, 0.9230988664038642, 0.8507348983925073, 0.04868323044719743, 0.6134087036346876, 0.1363130452521528, 0.08276149176023563, 0.11683975307327384, 0.9803853911462587, 0.9544736663686364, 0.36294243112112995, 0.62218702477908, 0.9811610871314602, 0.1962260431456381, 0.12264127696602381, 0.6622628956165286, 0.9862201750162662, 0.9847270533832154, 0.7627239451895566, 0.22246115068028732, 0.14847233061759205, 0.11135424796319403, 0.7238026117607612, 0.9542335755507775, 0.334990287283778, 0.1514339654844476, 0.5093687929931419, 0.055804956768080435, 0.9347330258653472, 0.3401577576175501, 0.20848378692688557, 0.44988606652643726, 0.9633989642510866, 0.80219097252486, 0.19182827603855349, 0.1984933221893496, 0.03608969494351811, 0.2947325087053979, 0.12029898314506036, 0.1624036272458315, 0.1323288814595664, 0.03608969494351811, 0.018044847471759055, 0.979904305084262, 0.38001722456905207, 0.6129310073694388, 0.951070250121083, 0.8734623234820788, 0.17908344405060087, 0.5909753653669828, 0.03581668881012017, 0.19102234032064092, 0.9906836903721132, 0.9674656150348939, 0.9808594305276362, 0.9010732267631768, 0.960265469769759, 0.9464969265773109, 0.9198213639559238, 0.29478296933563986, 0.6737896441957482, 0.9828542077279373, 0.11686693706348301, 0.5648568624735012, 0.12335954467812095, 0.09089650660493123, 0.10388172183420712, 0.07339519687413532, 0.9174399609266914, 0.5392948443323025, 0.09934378711384519, 0.02838393917538434, 0.02838393917538434, 0.29803136134153557, 0.9781138028283431, 0.9781631991327259, 0.9902567552269738, 0.9645280631493814, 0.9050222986150471, 0.9622428199465223, 0.9512857285697892, 0.9293057781669788, 0.06483528684885899, 0.14358721655284065, 0.4717865686736193, 0.14358721655284065, 0.11281852729151766, 0.12307475704529199, 0.901758003238456, 0.05870122004563782, 0.7435487872447457, 0.1956707334854594, 0.47269406110003825, 0.5090551427231181, 0.9672107513224656, 0.9465375778047987, 0.8734623234820788, 0.9376282657292968, 0.9734854030828459, 0.972428228771989, 0.9416911368192867, 0.9782821581658228, 0.11363011982326762, 0.868936210413223, 0.020052374086458994, 0.4188487168857841, 0.5696342549646665, 0.9636825712668087, 0.11173336083354844, 0.8566224330572048, 0.6921938827334573, 0.29027485404951436, 0.44255564518516566, 0.36480938319317713, 0.17343396905905142, 0.011960963383382857, 0.6442567896170356, 0.337467842180352, 0.96837351148828, 0.010344122391478118, 0.4137648956591247, 0.24825893739547483, 0.31032367174434355, 0.3089263921246952, 0.10776502050861461, 0.33047939622641814, 0.25145171452010073, 0.9528629024027069, 0.9368667223843432, 0.7400570861590607, 0.25109079708968135, 0.7087758093387168, 0.16538102217903392, 0.10631637140080752, 0.9867344649561266, 0.9507325503804022, 0.9669593088490652, 0.9658484613741359, 0.3157602036667363, 0.6602258803940849, 0.2643366727249652, 0.1321683363624826, 0.17622444848331012, 0.33776352625967776, 0.08811222424165506, 0.905455067431774, 0.9692660558832761, 0.4833328588877381, 0.8892047866653339, 0.15479999082982154, 0.17199998981091283, 0.35259997911237134, 0.29239998267855183, 0.025799998471636925, 0.9529942066025394, 0.9880582884574691, 0.9497592194480786, 0.04690198308515011, 0.9536736560647189, 0.9545811825553012, 0.9649265412688901, 0.19270294041737027, 0.7922231994936333, 0.9763978255809201, 0.9703983100155711, 0.9821478245017435, 0.19533128122317425, 0.2604417082975657, 0.5208834165951314, 0.903219204147615, 0.9574261401999036, 0.9447940106212672, 0.24821465653512947, 0.10637770994362691, 0.590987277464594, 0.04727898219716752, 0.6375214965655532, 0.36303307443316224, 0.9683312086881657, 0.9372039538469938, 0.9543210303598736, 0.9435038344343565, 0.3892207299102197, 0.1683116669882031, 0.13675322942791504, 0.2103895837352539, 0.08415583349410155, 0.968002664114118, 0.9772774652826561, 0.9572974736050309, 0.9881949617188934, 0.952621311071334, 0.9799492374345653, 0.887923310541747, 0.9697215300975051, 0.9674675678459672, 0.8677707014436454, 0.9646168341059461, 0.9584044948119159, 0.9829761979424755, 0.9648337299554844, 0.968100162509582, 0.1648023069181039, 0.7690774322844849, 0.9464520404975963, 0.6437878230276116, 0.3029589755424055, 0.9834911165284465, 0.039440423091300504, 0.29580317318475374, 0.6507669810064582, 0.9456889036091899, 0.12942172848063516, 0.3512875487331526, 0.036977636708752905, 0.22186582025251744, 0.11093291012625872, 0.12942172848063516, 0.3045477654920398, 0.6644678519826324, 0.9662330088169788, 0.6301934287202492, 0.33933492315705727, 0.05872347574294364, 0.20226974978125034, 0.25446839488608913, 0.09134762893346789, 0.05872347574294364, 0.13049661276209698, 0.16312076595262123, 0.039148983828629094, 0.9387664660258341, 0.19600839699587105, 0.5180221920605164, 0.2800119957083872, 0.9156619924521915, 0.9474001827765097, 0.43531771954672743, 0.05603099360502432, 0.17240305724622867, 0.19826351583316298, 0.13361236936582724, 0.10361867861772141, 0.1105265905255695, 0.05526329526278475, 0.20723735723544282, 0.3523035073002528, 0.09671076670987332, 0.06907911907848094, 0.9184320548346093, 0.9840976446409309, 0.06738205104438169, 0.04632516009301241, 0.1600323712304065, 0.033691025522190846, 0.10528445475684639, 0.33691025522190843, 0.0379024037124647, 0.1221299675179418, 0.05474791647356012, 0.033691025522190846, 0.9320073380102252, 0.1794611815856978, 0.6729794309463667, 0.05982039386189927, 0.08225304156011148, 0.9656543313641507, 0.0763836181453302, 0.4888551561301133, 0.4124715379847831, 0.03473932702586926, 0.93796182969847, 0.917866278917848, 0.9229281559695491, 0.06439033646299179, 0.9466260779711253, 0.11773930694128568, 0.03924643564709523, 0.8241751485889998, 0.6937581452596067, 0.28906589385816944, 0.988393731713453, 0.9707340784730644, 0.10979620735643529, 0.8417709230660039, 0.9382978191820068, 0.49443637930563844, 0.16831876742319607, 0.33663753484639214, 0.9622168613000636, 0.13203725509755337, 0.19072047958535487, 0.6601862754877669, 0.9692892446906952, 0.8339069409311167, 0.8700503271846588, 0.5373860777733526, 0.13747085710481113, 0.09373012984418941, 0.21245496098016264, 0.01874602596883788, 0.9710913247734918, 0.31646406956189005, 0.37400299130041553, 0.04794910144877122, 0.20138622608483914, 0.05753892173852547, 0.9848535929121695, 0.9405672627943555, 0.27870641067276397, 0.09016972110001188, 0.18033944220002376, 0.27870641067276397, 0.07377522635455518, 0.10656421584546859, 0.04980416342799295, 0.9379784112272006, 0.5931687307058905, 0.06740553758021484, 0.22917882777273044, 0.10784886012834373, 0.9377757691352872, 0.7947340349603736, 0.7585858323040028, 0.9183728638499769, 0.9308769117802534, 0.6200884746313553, 0.35702063690896213, 0.9239128545617802, 0.048616703279064324, 0.4159429058319948, 0.28089650783459386, 0.04321484735916829, 0.15665382167698505, 0.048616703279064324, 0.13857476940552363, 0.030794393201227475, 0.35413552181411595, 0.15397196600613738, 0.09238317960368243, 0.21556075240859232, 0.1592110374955451, 0.1743739934475018, 0.10614069166369675, 0.06065182380782671, 0.492796068438592, 0.9646210422427438, 0.9808431121356541, 0.9617651345716758, 0.8986518083780556, 0.18112487987472456, 0.7697807394675794, 0.8800294362938628, 0.9796901524856552, 0.9119446687003735, 0.039332005202436786, 0.08849701170548277, 0.06883100910426437, 0.05408150715335058, 0.526065569582592, 0.029499003901827588, 0.08358051105517816, 0.024582503251522992, 0.08358051105517816, 0.9650703639795972, 0.9757554348202808, 0.9634592016866738, 0.06159293815030773, 0.47221252581902595, 0.06843659794478638, 0.1300295360950941, 0.11634221650613683, 0.09581123712270091, 0.047905618561350456], \"Term\": [\"ability\", \"ability\", \"ability\", \"accept\", \"accept\", \"access\", \"access\", \"access\", \"access\", \"accord\", \"account\", \"acnpower\", \"acres_near\", \"activity\", \"activity\", \"actual\", \"actual\", \"add\", \"add\", \"add\", \"address\", \"address\", \"address_book\", \"advise\", \"agenda\", \"ago\", \"agree\", \"alan_comne\", \"allen\", \"allen\", \"allen\", \"allen\", \"allen\", \"allen\", \"allen\", \"allen\", \"allen\", \"already\", \"already\", \"also\", \"also\", \"also\", \"also\", \"also\", \"also\", \"also\", \"also\", \"amount\", \"amount\", \"amount\", \"amount\", \"analyst\", \"anticipate\", \"anticipate\", \"apartment\", \"application\", \"apply\", \"appraisal\", \"appreciate\", \"approval\", \"approval\", \"approval\", \"approve\", \"approve\", \"approve\", \"architect\", \"area\", \"area\", \"area\", \"asp\", \"assessment\", \"assessment\", \"asset\", \"assistance\", \"assume\", \"assumption\", \"attach\", \"attach\", \"attach\", \"attach\", \"attached\", \"attachment\", \"attention\", \"attorney\", \"attractive\", \"authorize\", \"available\", \"avoid_leak\", \"back\", \"back\", \"back\", \"back\", \"back\", \"bank\", \"base\", \"base\", \"base\", \"base\", \"base\", \"base\", \"basic\", \"basis\", \"basis\", \"basis\", \"begin\", \"begin\", \"bid\", \"bid\", \"bid\", \"bidweek\", \"boat\", \"bond\", \"bond_issuance\", \"border\", \"break\", \"brief\", \"briefing\", \"bring\", \"bring\", \"bring\", \"broker\", \"builder\", \"builder\", \"building\", \"building\", \"building\", \"building\", \"business\", \"business\", \"business\", \"buy\", \"buy\", \"buyer\", \"buyer\", \"cabinets_maybe\", \"calendar\", \"calendar\", \"call\", \"call\", \"call\", \"call\", \"call\", \"call\", \"call\", \"call\", \"cap\", \"capacity\", \"car\", \"cash\", \"cash\", \"cell\", \"center\", \"central\", \"chance\", \"change\", \"change\", \"change\", \"change\", \"charge\", \"charge\", \"chart\", \"check\", \"check\", \"cherry\", \"choice\", \"christi\", \"city\", \"city\", \"claudia\", \"click\", \"click\", \"close\", \"close\", \"close\", \"color\", \"column\", \"come\", \"come\", \"come\", \"comment\", \"commercial\", \"commission\", \"company\", \"company\", \"company\", \"company\", \"company\", \"competition\", \"complete\", \"complete\", \"complete\", \"complete\", \"complete\", \"complex\", \"concerned\", \"concrete\", \"conference_call\", \"configure\", \"confirm\", \"connect\", \"consider\", \"construction\", \"construction\", \"consumer\", \"contact\", \"contact\", \"contact\", \"contact\", \"contract\", \"contract\", \"contract\", \"contract\", \"contract\", \"copy\", \"copy\", \"cost\", \"cost\", \"course\", \"cover\", \"critical\", \"currently\", \"currently\", \"curve\", \"customer\", \"cycling\", \"d\", \"d\", \"daily\", \"daily\", \"daily\", \"daily\", \"daily\", \"database\", \"date\", \"date\", \"date\", \"date\", \"day\", \"day\", \"day\", \"day\", \"day\", \"day\", \"decision\", \"demand\", \"deposit\", \"deposit\", \"design\", \"desire\", \"desire\", \"desire\", \"desk\", \"desk\", \"detail\", \"detailed_sketch\", \"detention_retention\", \"develop\", \"development\", \"development\", \"diana_scholte\", \"different\", \"different\", \"different\", \"different\", \"different\", \"different_shape\", \"dimension\", \"director\", \"discuss\", \"discuss\", \"discuss\", \"discuss\", \"discuss\", \"discuss\", \"discussion\", \"distribution_group\", \"dj_calif\", \"do\", \"do\", \"doc\", \"dollar\", \"dormers_metal\", \"double_porch\", \"dow_jone\", \"downgrade\", \"download\", \"draft\", \"due\", \"due\", \"dynegy\", \"early\", \"earning\", \"ect\", \"ect\", \"ee\", \"electricity\", \"else\", \"else\", \"email\", \"email\", \"email\", \"employee\", \"ena\", \"enable_u\", \"end\", \"end\", \"end\", \"end\", \"end\", \"energy\", \"energy\", \"engineer\", \"enlarge\", \"enough\", \"enough\", \"enough\", \"enronxgate\", \"enronxgate\", \"ensure\", \"equipment\", \"equity\", \"equity\", \"erika_dupre\", \"especially\", \"especially\", \"estimate\", \"estimate\", \"estimate\", \"estimate\", \"even\", \"even\", \"even\", \"even\", \"even\", \"evening\", \"ever\", \"exactly\", \"example\", \"exclusive\", \"execute\", \"executive\", \"extension\", \"exterior\", \"fa_pdf\", \"family\", \"far\", \"far\", \"far\", \"far\", \"fast\", \"fee\", \"fee\", \"feedback\", \"feel_free\", \"ferc\", \"fha\", \"file\", \"file\", \"file\", \"file\", \"fill\", \"fill\", \"finance\", \"financial\", \"financial\", \"financing\", \"find\", \"find\", \"fine\", \"finish\", \"finishing\", \"firm\", \"firm\", \"floor\", \"floor\", \"fly\", \"focus\", \"follow\", \"follow\", \"follow\", \"follow\", \"follow\", \"follow\", \"follow\", \"follow\", \"follow\", \"forecast\", \"form\", \"form\", \"formal\", \"formal\", \"format\", \"forward\", \"forward\", \"forward\", \"forward\", \"forward\", \"forward\", \"forward\", \"forward\", \"forward\", \"frank_ermis\", \"frank_vicker\", \"free\", \"front\", \"front\", \"front_porch\", \"ft_thought\", \"fuel\", \"fun\", \"fund\", \"fyi\", \"gain\", \"garage\", \"gas\", \"gas\", \"gas\", \"gas\", \"gas\", \"general\", \"generation\", \"generation\", \"george_rahal\", \"get\", \"get\", \"get\", \"get\", \"get\", \"give\", \"give\", \"give\", \"give\", \"give\", \"glad\", \"go\", \"go\", \"go\", \"go\", \"go\", \"go_ahead\", \"golf\", \"good\", \"good\", \"good\", \"good\", \"good\", \"good\", \"good\", \"good_idea\", \"governor\", \"grid\", \"group\", \"guess\", \"happy\", \"hear\", \"hear\", \"help\", \"help\", \"help\", \"help\", \"help\", \"history\", \"hold\", \"hold\", \"hold\", \"hold\", \"hold\", \"holiday\", \"honest\", \"hopefully\", \"hotmail\", \"hou\", \"hou\", \"house\", \"http\", \"http\", \"hunter_shively\", \"hunter_shively\", \"hunter_shively\", \"i\", \"idea\", \"image\", \"image_image\", \"important\", \"improve\", \"improvement\", \"improvement\", \"ina_rangel\", \"include\", \"include\", \"include\", \"include\", \"include\", \"increase\", \"index\", \"index\", \"individual\", \"info\", \"information\", \"information\", \"injection\", \"instruction\", \"insurance\", \"interview\", \"introduce\", \"investigate\", \"investment\", \"investment\", \"investor\", \"invite\", \"island\", \"iso\", \"issue\", \"issue\", \"issue\", \"item\", \"james_steffe\", \"janie_tholt\", \"jet\", \"job\", \"justify\", \"kid\", \"kitchen\", \"know\", \"know\", \"know\", \"know\", \"know\", \"know\", \"know\", \"know\", \"land\", \"land\", \"language\", \"last\", \"last\", \"last\", \"last\", \"last\", \"late\", \"later\", \"later\", \"learn\", \"legislature\", \"lehman_brother\", \"less\", \"less\", \"less\", \"let\", \"let\", \"let\", \"let\", \"let\", \"like\", \"like\", \"like\", \"like\", \"line\", \"line\", \"line\", \"line\", \"list\", \"list\", \"list\", \"list\", \"list\", \"list\", \"listen\", \"live\", \"living\", \"load\", \"loan\", \"loan\", \"local\", \"location_eb\", \"long\", \"long\", \"long\", \"look\", \"look\", \"look\", \"look\", \"look\", \"look\", \"lot\", \"lot\", \"lot\", \"love\", \"mail\", \"mail\", \"mail\", \"mail\", \"mailing\", \"make\", \"make\", \"make\", \"make\", \"make\", \"manager\", \"manager\", \"manager\", \"manager\", \"map\", \"mark_fischer\", \"market\", \"market\", \"market\", \"market\", \"market\", \"match\", \"matter\", \"maybe\", \"meeting\", \"meeting\", \"meeting\", \"meeting_repeat\", \"member\", \"mention\", \"mention\", \"mid\", \"might_consider\", \"migration\", \"mind\", \"minute\", \"miss\", \"mix\", \"mmbtu\", \"model\", \"monitor\", \"monthly\", \"monthly\", \"monthly\", \"monthly_index\", \"move\", \"move\", \"much\", \"much\", \"much\", \"much\", \"much\", \"much\", \"name\", \"name\", \"name\", \"name\", \"natural\", \"necessary\", \"necessary\", \"necessary\", \"necessary\", \"ned\", \"need\", \"need\", \"need\", \"need\", \"need\", \"need\", \"need\", \"net\", \"net\", \"never\", \"new\", \"new\", \"new\", \"new\", \"new\", \"new\", \"new\", \"news\", \"night\", \"normal\", \"north\", \"note\", \"note\", \"note\", \"note\", \"note\", \"notice\", \"number\", \"number\", \"number\", \"number\", \"number\", \"nwpl\", \"obvious\", \"offer\", \"offer\", \"offer\", \"offer\", \"often\", \"often\", \"oil\", \"online\", \"opal\", \"opinion\", \"opinion\", \"opportunity\", \"opportunity\", \"opportunity\", \"option\", \"order\", \"order\", \"order\", \"outlook_migration\", \"outperform\", \"own\", \"package\", \"page\", \"parking\", \"participant\", \"participate\", \"participation\", \"partnership\", \"pass\", \"password\", \"pay\", \"pay\", \"pay\", \"pay\", \"payment\", \"payment\", \"pdx\", \"pende\", \"per_lot\", \"permission\", \"person\", \"phillip\", \"phillip\", \"phillip\", \"phillip\", \"phillip\", \"phillip\", \"phillip\", \"phillip\", \"phillip\", \"phillip_k_allen\", \"photo\", \"physical\", \"physical_financail\", \"picture\", \"place_gable\", \"plan\", \"plan\", \"plan\", \"plan\", \"plan\", \"plan\", \"plan\", \"planning\", \"plant\", \"pm\", \"pm\", \"pm\", \"pm\", \"pm\", \"point\", \"point\", \"point\", \"point\", \"policy\", \"portfolio\", \"position\", \"position\", \"positions_room\", \"possible\", \"possible\", \"potential\", \"power\", \"power\", \"power\", \"power\", \"preferred\", \"premium\", \"price\", \"price\", \"price\", \"price\", \"price\", \"price_cap\", \"pricing\", \"print\", \"print\", \"privacy\", \"process\", \"process\", \"process\", \"productid_lc\", \"professional\", \"profit\", \"profit\", \"program\", \"program\", \"program\", \"progress\", \"project\", \"project\", \"project\", \"property\", \"property\", \"provide\", \"provide\", \"provide\", \"public\", \"purchase\", \"purchase\", \"question\", \"question\", \"question\", \"question\", \"question\", \"question\", \"question\", \"question\", \"quote\", \"rate\", \"rate\", \"ready\", \"reagan_allowe\", \"receive\", \"receive\", \"receive\", \"receive\", \"reduction\", \"reflect\", \"region\", \"reject\", \"relationship\", \"remember\", \"reminder\", \"rental\", \"rental\", \"rentroll\", \"report\", \"report\", \"report\", \"report\", \"report\", \"request\", \"request\", \"require\", \"require\", \"require\", \"require\", \"require\", \"research\", \"reserve\", \"response\", \"responsible\", \"rest\", \"result\", \"resume\", \"return\", \"return\", \"review\", \"review\", \"review\", \"review\", \"review\", \"revise\", \"right\", \"right\", \"right\", \"risk\", \"risk\", \"robert_badeer\", \"roof\", \"roof_bath\", \"rotation\", \"rule\", \"san_juan\", \"san_marcos\", \"save\", \"say\", \"say\", \"say\", \"schedule\", \"schedule\", \"scope\", \"scott_mill\", \"scott_mill\", \"scott_neal\", \"scott_neal\", \"see\", \"see\", \"see\", \"see\", \"seem\", \"seem\", \"select\", \"sell\", \"sell\", \"sell\", \"sell\", \"send\", \"send\", \"send\", \"send\", \"sensitive\", \"serve\", \"service\", \"service\", \"set\", \"set\", \"set\", \"sf\", \"sheet\", \"shockmachine\", \"shockwave\", \"short\", \"short\", \"show\", \"show\", \"show\", \"show\", \"show\", \"shut\", \"similar\", \"similiar\", \"sitara\", \"site\", \"site\", \"site\", \"site\", \"site\", \"slide\", \"socal\", \"solution\", \"source\", \"source\", \"south\", \"space\", \"speak\", \"speak\", \"spec\", \"special\", \"spokesman\", \"spread\", \"spread\", \"spread\", \"sr_specialist\", \"stage\", \"stain\", \"start\", \"start\", \"start\", \"start\", \"state\", \"state\", \"statement\", \"status\", \"stay\", \"steve_south\", \"still\", \"still\", \"still\", \"still\", \"still\", \"stock\", \"stone\", \"stop\", \"storage\", \"story\", \"strategy\", \"street\", \"strong_buy\", \"structure\", \"student\", \"study\", \"stuff\", \"style\", \"sub\", \"submit\", \"suggest\", \"suggest\", \"suggestion\", \"summer\", \"summer\", \"supply\", \"support\", \"support\", \"support\", \"suppose\", \"sure\", \"sure\", \"sure\", \"sure\", \"sure\", \"sure\", \"survey\", \"survey\", \"swap\", \"system\", \"system\", \"take\", \"take\", \"take\", \"take\", \"take\", \"take\", \"take\", \"take\", \"tds\", \"team\", \"team\", \"team\", \"team_selection\", \"tenant\", \"thank\", \"thank\", \"thank\", \"thank\", \"thank\", \"think\", \"think\", \"think\", \"think\", \"think\", \"think\", \"think\", \"thought\", \"tim_heizenrad\", \"time\", \"time\", \"time\", \"time\", \"time\", \"time\", \"time\", \"time\", \"time\", \"time\", \"title\", \"today\", \"today\", \"today\", \"today\", \"together\", \"tomorrow\", \"tomorrow\", \"tomorrow\", \"top\", \"top\", \"topic\", \"total\", \"total\", \"touch\", \"trade\", \"trade\", \"trade\", \"trader\", \"trader\", \"trading\", \"trading_track\", \"transport\", \"transport\", \"travel\", \"try\", \"try\", \"try\", \"turn\", \"type\", \"type\", \"type\", \"understand\", \"undiscounted\", \"unique\", \"unit\", \"unit\", \"unit\", \"unit\", \"unit\", \"unsubscribe\", \"update\", \"update\", \"update\", \"update\", \"update\", \"upgrade\", \"upstairs\", \"use\", \"use\", \"use\", \"use\", \"use\", \"use\", \"utility\", \"utility\", \"value\", \"value\", \"value\", \"value\", \"var\", \"variable\", \"variety\", \"various\", \"version\", \"visit\", \"visit\", \"vs_actual\", \"want\", \"want\", \"want\", \"want\", \"want\", \"want\", \"way\", \"way\", \"way\", \"way\", \"way\", \"way\", \"week\", \"week\", \"week\", \"week\", \"week\", \"weekend\", \"western\", \"westgate\", \"wide\", \"window\", \"window\", \"winter\", \"wish\", \"withdrawal\", \"work\", \"work\", \"work\", \"work\", \"work\", \"work\", \"work\", \"work\", \"work\", \"write\", \"wscc\", \"yahoo\", \"year\", \"year\", \"year\", \"year\", \"year\", \"year\", \"year\"]}, \"R\": 30, \"lambda.step\": 0.01, \"plot.opts\": {\"xlab\": \"PC1\", \"ylab\": \"PC2\"}, \"topic.order\": [11, 5, 1, 12, 7, 8, 2, 9, 10, 3, 4, 14, 6, 13]};\n",
       "\n",
       "function LDAvis_load_lib(url, callback){\n",
       "  var s = document.createElement('script');\n",
       "  s.src = url;\n",
       "  s.async = true;\n",
       "  s.onreadystatechange = s.onload = callback;\n",
       "  s.onerror = function(){console.warn(\"failed to load library \" + url);};\n",
       "  document.getElementsByTagName(\"head\")[0].appendChild(s);\n",
       "}\n",
       "\n",
       "if(typeof(LDAvis) !== \"undefined\"){\n",
       "   // already loaded: just create the visualization\n",
       "   !function(LDAvis){\n",
       "       new LDAvis(\"#\" + \"ldavis_el383321405655616569289612369662\", ldavis_el383321405655616569289612369662_data);\n",
       "   }(LDAvis);\n",
       "}else if(typeof define === \"function\" && define.amd){\n",
       "   // require.js is available: use it to load d3/LDAvis\n",
       "   require.config({paths: {d3: \"https://d3js.org/d3.v5\"}});\n",
       "   require([\"d3\"], function(d3){\n",
       "      window.d3 = d3;\n",
       "      LDAvis_load_lib(\"https://cdn.jsdelivr.net/gh/bmabey/pyLDAvis@3.3.1/pyLDAvis/js/ldavis.v3.0.0.js\", function(){\n",
       "        new LDAvis(\"#\" + \"ldavis_el383321405655616569289612369662\", ldavis_el383321405655616569289612369662_data);\n",
       "      });\n",
       "    });\n",
       "}else{\n",
       "    // require.js not available: dynamically load d3 & LDAvis\n",
       "    LDAvis_load_lib(\"https://d3js.org/d3.v5.js\", function(){\n",
       "         LDAvis_load_lib(\"https://cdn.jsdelivr.net/gh/bmabey/pyLDAvis@3.3.1/pyLDAvis/js/ldavis.v3.0.0.js\", function(){\n",
       "                 new LDAvis(\"#\" + \"ldavis_el383321405655616569289612369662\", ldavis_el383321405655616569289612369662_data);\n",
       "            })\n",
       "         });\n",
       "}\n",
       "</script>"
      ],
      "text/plain": [
       "<IPython.core.display.HTML object>"
      ]
     },
     "execution_count": 37,
     "metadata": {},
     "output_type": "execute_result"
    }
   ],
   "source": [
    "pyLDAvis.display(vis)"
   ]
  },
  {
   "cell_type": "markdown",
   "metadata": {},
   "source": [
    "## How to get top emails per topic?\n",
    "There are actually two cases:\n",
    "<br> a. Best email to given topic\n",
    "<br> b. Dominant topic for a given email\n"
   ]
  },
  {
   "cell_type": "code",
   "execution_count": 70,
   "metadata": {},
   "outputs": [],
   "source": [
    "def format_topics_sentences(ldamodel=lda_model, corpus=corpus, texts=data):\n",
    "    # Init output\n",
    "    sent_topics_df = pd.DataFrame()\n",
    "\n",
    "\n",
    "    # Get main topic in each document\n",
    "    for i, row in enumerate(ldamodel[corpus]):\n",
    "        #print(\"i: \", i)\n",
    "        #print(\"row: \", row)\n",
    "        #print(\"row[1]: \", row[1])\n",
    "        row = sorted(\n",
    "            row[0], key=lambda x: (x[1]), \n",
    "            reverse=True)\n",
    "        # Get the Dominant topic, Perc Contribution and Keywords for each document\n",
    "        for j, (topic_num, prop_topic) in enumerate(row):\n",
    "            if j == 0:  # => dominant topic\n",
    "                wp = ldamodel.show_topic(topic_num)\n",
    "                topic_keywords = \", \".join([word for word, prop in wp])\n",
    "                sent_topics_df = sent_topics_df.append(pd.Series([int(topic_num), round(prop_topic,4), topic_keywords]), ignore_index=True)\n",
    "            else:\n",
    "                break\n",
    "    sent_topics_df.columns = ['Dominant_Topic', 'Perc_Contribution', 'Topic_Keywords']\n",
    "\n",
    "    # Add original text to the end of the output\n",
    "    contents = pd.Series(texts)\n",
    "    sent_topics_df = pd.concat([sent_topics_df, contents], axis=1)\n",
    "    return(sent_topics_df)"
   ]
  },
  {
   "cell_type": "code",
   "execution_count": 64,
   "metadata": {},
   "outputs": [
    {
     "name": "stdout",
     "output_type": "stream",
     "text": [
      "<class 'gensim.interfaces.TransformedCorpus'>\n",
      "1000\n",
      "corpus type: <class 'list'>\n",
      "corpus len 1000\n"
     ]
    }
   ],
   "source": [
    "print(type(lda_model[corpus]))\n",
    "print(len(lda_model[corpus]))\n",
    "print(\"corpus type:\", type(corpus))\n",
    "print(\"corpus len\", len(corpus))"
   ]
  },
  {
   "cell_type": "code",
   "execution_count": 71,
   "metadata": {},
   "outputs": [
    {
     "name": "stderr",
     "output_type": "stream",
     "text": [
      "/var/folders/6r/0sxxkqln2g73tp73l2p7xx200000gn/T/ipykernel_38332/825188672.py:19: FutureWarning: The frame.append method is deprecated and will be removed from pandas in a future version. Use pandas.concat instead.\n",
      "  sent_topics_df = sent_topics_df.append(pd.Series([int(topic_num), round(prop_topic,4), topic_keywords]), ignore_index=True)\n",
      "/var/folders/6r/0sxxkqln2g73tp73l2p7xx200000gn/T/ipykernel_38332/825188672.py:19: FutureWarning: The frame.append method is deprecated and will be removed from pandas in a future version. Use pandas.concat instead.\n",
      "  sent_topics_df = sent_topics_df.append(pd.Series([int(topic_num), round(prop_topic,4), topic_keywords]), ignore_index=True)\n"
     ]
    }
   ],
   "source": [
    "df_topic_sents_keywords = format_topics_sentences(ldamodel=lda_model, corpus=corpus, texts=data)\n",
    "\n"
   ]
  },
  {
   "cell_type": "code",
   "execution_count": 72,
   "metadata": {},
   "outputs": [
    {
     "data": {
      "text/html": [
       "<div>\n",
       "<style scoped>\n",
       "    .dataframe tbody tr th:only-of-type {\n",
       "        vertical-align: middle;\n",
       "    }\n",
       "\n",
       "    .dataframe tbody tr th {\n",
       "        vertical-align: top;\n",
       "    }\n",
       "\n",
       "    .dataframe thead th {\n",
       "        text-align: right;\n",
       "    }\n",
       "</style>\n",
       "<table border=\"1\" class=\"dataframe\">\n",
       "  <thead>\n",
       "    <tr style=\"text-align: right;\">\n",
       "      <th></th>\n",
       "      <th>Dominant_Topic</th>\n",
       "      <th>Perc_Contribution</th>\n",
       "      <th>Topic_Keywords</th>\n",
       "      <th>0</th>\n",
       "    </tr>\n",
       "  </thead>\n",
       "  <tbody>\n",
       "    <tr>\n",
       "      <th>0</th>\n",
       "      <td>4</td>\n",
       "      <td>0.3755</td>\n",
       "      <td>power, say, price, gas, utility, market, iso, ...</td>\n",
       "      <td>Here is our forecast\\n\\n</td>\n",
       "    </tr>\n",
       "    <tr>\n",
       "      <th>1</th>\n",
       "      <td>11</td>\n",
       "      <td>0.8573</td>\n",
       "      <td>ee, enronxgate, position, meeting, issue, ect,...</td>\n",
       "      <td>Traveling to have a business meeting takes the...</td>\n",
       "    </tr>\n",
       "    <tr>\n",
       "      <th>2</th>\n",
       "      <td>1</td>\n",
       "      <td>0.5054</td>\n",
       "      <td>go, need, work, check, time, phillip, comment,...</td>\n",
       "      <td>test successful.  way to go!!!</td>\n",
       "    </tr>\n",
       "    <tr>\n",
       "      <th>3</th>\n",
       "      <td>9</td>\n",
       "      <td>0.2948</td>\n",
       "      <td>email, phillip, information, need, list, thank...</td>\n",
       "      <td>Randy,\\n\\n Can you send me a schedule of the s...</td>\n",
       "    </tr>\n",
       "    <tr>\n",
       "      <th>4</th>\n",
       "      <td>1</td>\n",
       "      <td>0.3406</td>\n",
       "      <td>go, need, work, check, time, phillip, comment,...</td>\n",
       "      <td>Let's shoot for Tuesday at 11:45.</td>\n",
       "    </tr>\n",
       "  </tbody>\n",
       "</table>\n",
       "</div>"
      ],
      "text/plain": [
       "   Dominant_Topic  Perc_Contribution  \\\n",
       "0               4             0.3755   \n",
       "1              11             0.8573   \n",
       "2               1             0.5054   \n",
       "3               9             0.2948   \n",
       "4               1             0.3406   \n",
       "\n",
       "                                      Topic_Keywords  \\\n",
       "0  power, say, price, gas, utility, market, iso, ...   \n",
       "1  ee, enronxgate, position, meeting, issue, ect,...   \n",
       "2  go, need, work, check, time, phillip, comment,...   \n",
       "3  email, phillip, information, need, list, thank...   \n",
       "4  go, need, work, check, time, phillip, comment,...   \n",
       "\n",
       "                                                   0  \n",
       "0                          Here is our forecast\\n\\n   \n",
       "1  Traveling to have a business meeting takes the...  \n",
       "2                     test successful.  way to go!!!  \n",
       "3  Randy,\\n\\n Can you send me a schedule of the s...  \n",
       "4                Let's shoot for Tuesday at 11:45.    "
      ]
     },
     "execution_count": 72,
     "metadata": {},
     "output_type": "execute_result"
    }
   ],
   "source": [
    "\n",
    "df_topic_sents_keywords.head()"
   ]
  },
  {
   "cell_type": "code",
   "execution_count": 73,
   "metadata": {},
   "outputs": [
    {
     "data": {
      "text/plain": [
       "0     252\n",
       "7     138\n",
       "1     110\n",
       "4      91\n",
       "10     78\n",
       "6      71\n",
       "2      70\n",
       "9      48\n",
       "3      41\n",
       "11     39\n",
       "13     28\n",
       "8      23\n",
       "5      11\n",
       "Name: Dominant_Topic, dtype: int64"
      ]
     },
     "execution_count": 73,
     "metadata": {},
     "output_type": "execute_result"
    }
   ],
   "source": [
    "df_topic_sents_keywords['Dominant_Topic'].value_counts()"
   ]
  },
  {
   "cell_type": "code",
   "execution_count": 90,
   "metadata": {},
   "outputs": [
    {
     "data": {
      "text/html": [
       "<div>\n",
       "<style scoped>\n",
       "    .dataframe tbody tr th:only-of-type {\n",
       "        vertical-align: middle;\n",
       "    }\n",
       "\n",
       "    .dataframe tbody tr th {\n",
       "        vertical-align: top;\n",
       "    }\n",
       "\n",
       "    .dataframe thead th {\n",
       "        text-align: right;\n",
       "    }\n",
       "</style>\n",
       "<table border=\"1\" class=\"dataframe\">\n",
       "  <thead>\n",
       "    <tr style=\"text-align: right;\">\n",
       "      <th></th>\n",
       "      <th>Dominant_Topic</th>\n",
       "      <th>Perc_Contribution</th>\n",
       "      <th>Topic_Keywords</th>\n",
       "      <th>Text</th>\n",
       "    </tr>\n",
       "  </thead>\n",
       "  <tbody>\n",
       "    <tr>\n",
       "      <th>674</th>\n",
       "      <td>1</td>\n",
       "      <td>0.9028</td>\n",
       "      <td>go, need, work, check, time, phillip, comment,...</td>\n",
       "      <td>Brad,\\n\\n With regard to Tori Kuykendall, I wo...</td>\n",
       "    </tr>\n",
       "    <tr>\n",
       "      <th>86</th>\n",
       "      <td>1</td>\n",
       "      <td>0.9028</td>\n",
       "      <td>go, need, work, check, time, phillip, comment,...</td>\n",
       "      <td>Brad,\\n\\n With regard to Tori Kuykendall, I wo...</td>\n",
       "    </tr>\n",
       "    <tr>\n",
       "      <th>32</th>\n",
       "      <td>1</td>\n",
       "      <td>0.8889</td>\n",
       "      <td>go, need, work, check, time, phillip, comment,...</td>\n",
       "      <td>---------------------- Forwarded by Phillip K ...</td>\n",
       "    </tr>\n",
       "    <tr>\n",
       "      <th>621</th>\n",
       "      <td>1</td>\n",
       "      <td>0.8889</td>\n",
       "      <td>go, need, work, check, time, phillip, comment,...</td>\n",
       "      <td>---------------------- Forwarded by Phillip K ...</td>\n",
       "    </tr>\n",
       "    <tr>\n",
       "      <th>248</th>\n",
       "      <td>1</td>\n",
       "      <td>0.7577</td>\n",
       "      <td>go, need, work, check, time, phillip, comment,...</td>\n",
       "      <td>I just spoke to the insurance company.  They a...</td>\n",
       "    </tr>\n",
       "  </tbody>\n",
       "</table>\n",
       "</div>"
      ],
      "text/plain": [
       "     Dominant_Topic  Perc_Contribution  \\\n",
       "674               1             0.9028   \n",
       "86                1             0.9028   \n",
       "32                1             0.8889   \n",
       "621               1             0.8889   \n",
       "248               1             0.7577   \n",
       "\n",
       "                                        Topic_Keywords  \\\n",
       "674  go, need, work, check, time, phillip, comment,...   \n",
       "86   go, need, work, check, time, phillip, comment,...   \n",
       "32   go, need, work, check, time, phillip, comment,...   \n",
       "621  go, need, work, check, time, phillip, comment,...   \n",
       "248  go, need, work, check, time, phillip, comment,...   \n",
       "\n",
       "                                                  Text  \n",
       "674  Brad,\\n\\n With regard to Tori Kuykendall, I wo...  \n",
       "86   Brad,\\n\\n With regard to Tori Kuykendall, I wo...  \n",
       "32   ---------------------- Forwarded by Phillip K ...  \n",
       "621  ---------------------- Forwarded by Phillip K ...  \n",
       "248  I just spoke to the insurance company.  They a...  "
      ]
     },
     "execution_count": 90,
     "metadata": {},
     "output_type": "execute_result"
    }
   ],
   "source": [
    "topic_9 = df_topic_sents_keywords[df_topic_sents_keywords['Dominant_Topic'] == 1].sort_values(by=['Perc_Contribution'], ascending=False)\n",
    "topic_9.head()\n",
    "topic_9.rename(columns={0: 'Text'}, inplace=True)\n",
    "topic_9.head()"
   ]
  },
  {
   "cell_type": "code",
   "execution_count": 92,
   "metadata": {},
   "outputs": [
    {
     "name": "stdout",
     "output_type": "stream",
     "text": [
      "<class 'list'>\n",
      "Brad,\n",
      "\n",
      " With regard to Tori Kuykendall, I would like to promote her to commercial \n",
      "manager instead of converting her from a commercial support manager to an \n",
      "associate.  Her duties since the beginning of the year have been those of a \n",
      "commercial manager.  I have no doubt that she will compare favorably to \n",
      "others in that category at year end.  \n",
      "\n",
      " Martin Cuilla on the central desk is in a similiar situation as Tori.  \n",
      "Hunter would like Martin handled the same as Tori.\n",
      "\n",
      " Let me know if there are any issues.\n",
      "\n",
      "Phillip\n",
      "Brad,\n",
      "\n",
      " With regard to Tori Kuykendall, I would like to promote her to commercial \n",
      "manager instead of converting her from a commercial support manager to an \n",
      "associate.  Her duties since the beginning of the year have been those of a \n",
      "commercial manager.  I have no doubt that she will compare favorably to \n",
      "others in that category at year end.  \n",
      "\n",
      " Martin Cuilla on the central desk is in a similiar situation as Tori.  \n",
      "Hunter would like Martin handled the same as Tori.\n",
      "\n",
      " Let me know if there are any issues.\n",
      "\n",
      "Phillip\n",
      "---------------------- Forwarded by Phillip K Allen/HOU/ECT on 09/26/2000 \n",
      "11:57 AM ---------------------------\n",
      "\n",
      "\n",
      "\"BS Stone\" <bs_stone@yahoo.com> on 09/26/2000 04:47:40 AM\n",
      "To: \"jeff\" <jeff@freeyellow.com>\n",
      "cc: \"Phillip K Allen\" <Phillip.K.Allen@enron.com> \n",
      "Subject: closing\n",
      "\n",
      "\n",
      "\n",
      "Jeff, \n",
      "?\n",
      "Is the closing today?? After reviewing the  agreement?I find it isn't binding \n",
      "as far as I can determine.? It is  too vague and it doesn't sound like \n",
      "anything an attorney or title company  would?draft for a real estate \n",
      "closing--but, of course, I could be  wrong.? \n",
      "?\n",
      "If this?closing is going to take place without  this agreement then there is \n",
      "no point in me  following up on this?document's validity.? \n",
      "?\n",
      "I will just need to go back to my closing documents  and see what's there and \n",
      "find out where I am with that and deal with this as  best I can.\n",
      "?\n",
      "I guess I was expecting something that would be an  exhibit to a recordable \n",
      "document or something a little more exact, or  rather?sort of a contract.? \n",
      "This isn't either.? I tried to get a  real estate atty on the phone last \n",
      "night but he was out of pocket.? I  talked to a crim. atty friend and he said \n",
      "this is out of his area but doesn't  sound binding to him.? \n",
      "?\n",
      "I will go back to mine and Phillip Allen's  transaction?and take a look at \n",
      "that but as vague and general as this is I  doubt that my signature? is even \n",
      "needed to complete this transaction.?  I am in after 12 noon if there is any \n",
      "need to contact me regarding the  closing.\n",
      "?\n",
      "I really do not want to hold up anything or  generate more work for myself \n",
      "and I don't want to insult or annoy anyone but  this paper really doesn't \n",
      "seem to be something required for a closing.? In  the event you do need my \n",
      "signature on something like this I would rather have  time to have it \n",
      "reviewed before I accept it.\n",
      "?\n",
      "Brenda\n",
      "?\n",
      "?\n",
      "\n",
      "---------------------- Forwarded by Phillip K Allen/HOU/ECT on 09/26/2000 \n",
      "11:57 AM ---------------------------\n",
      "\n",
      "\n",
      "\"BS Stone\" <bs_stone@yahoo.com> on 09/26/2000 04:47:40 AM\n",
      "To: \"jeff\" <jeff@freeyellow.com>\n",
      "cc: \"Phillip K Allen\" <Phillip.K.Allen@enron.com> \n",
      "Subject: closing\n",
      "\n",
      "\n",
      "\n",
      "Jeff, \n",
      "?\n",
      "Is the closing today?? After reviewing the  agreement?I find it isn't binding \n",
      "as far as I can determine.? It is  too vague and it doesn't sound like \n",
      "anything an attorney or title company  would?draft for a real estate \n",
      "closing--but, of course, I could be  wrong.? \n",
      "?\n",
      "If this?closing is going to take place without  this agreement then there is \n",
      "no point in me  following up on this?document's validity.? \n",
      "?\n",
      "I will just need to go back to my closing documents  and see what's there and \n",
      "find out where I am with that and deal with this as  best I can.\n",
      "?\n",
      "I guess I was expecting something that would be an  exhibit to a recordable \n",
      "document or something a little more exact, or  rather?sort of a contract.? \n",
      "This isn't either.? I tried to get a  real estate atty on the phone last \n",
      "night but he was out of pocket.? I  talked to a crim. atty friend and he said \n",
      "this is out of his area but doesn't  sound binding to him.? \n",
      "?\n",
      "I will go back to mine and Phillip Allen's  transaction?and take a look at \n",
      "that but as vague and general as this is I  doubt that my signature? is even \n",
      "needed to complete this transaction.?  I am in after 12 noon if there is any \n",
      "need to contact me regarding the  closing.\n",
      "?\n",
      "I really do not want to hold up anything or  generate more work for myself \n",
      "and I don't want to insult or annoy anyone but  this paper really doesn't \n",
      "seem to be something required for a closing.? In  the event you do need my \n",
      "signature on something like this I would rather have  time to have it \n",
      "reviewed before I accept it.\n",
      "?\n",
      "Brenda\n",
      "?\n",
      "?\n",
      "\n",
      "I just spoke to the insurance company.  They are going to cancel and prorate my policy and work with the Kuo's to issue a new policy.\n",
      "I just spoke to the insurance company.  They are going to cancel and prorate \n",
      "my policy and work with the Kuo's to issue a new policy.\n",
      "I just spoke to the insurance company.  They are going to cancel and prorate \n",
      "my policy and work with the Kuo's to issue a new policy.\n",
      "The insurance company is: \n",
      "\n",
      "Central Insurance Agency, Inc\n",
      "6000 N., Lamar\n",
      "P.O. Box 15427\n",
      "Austin, TX 78761-5427\n",
      "\n",
      "Policy #CBI420478\n",
      "\n",
      "Contact:  Jeanette Peterson\n",
      "\n",
      "(512)451-6551\n",
      "\n",
      "The actual policy is signed by Vista Insurance Partners.\n",
      "\n",
      "Please try and schedule the appraiser for sometime after 1 p.m. so my Dad can walk him around.  \n",
      "\n",
      "I will be out of town on Tuesday.  What else do we need to get done before closing?\n",
      "\n",
      "Phillip\n",
      "The insurance company is: \n",
      "\n",
      "Central Insurance Agency, Inc\n",
      "6000 N., Lamar\n",
      "P.O. Box 15427\n",
      "Austin, TX 78761-5427\n",
      "\n",
      "Policy #CBI420478\n",
      "\n",
      "Contact:  Jeanette Peterson\n",
      "\n",
      "(512)451-6551\n",
      "\n",
      "The actual policy is signed by Vista Insurance Partners.\n",
      "\n",
      "Please try and schedule the appraiser for sometime after 1 p.m. so my Dad can \n",
      "walk him around.  \n",
      "\n",
      "I will be out of town on Tuesday.  What else do we need to get done before \n",
      "closing?\n",
      "\n",
      "Phillip\n",
      "The insurance company is: \n",
      "\n",
      "Central Insurance Agency, Inc\n",
      "6000 N., Lamar\n",
      "P.O. Box 15427\n",
      "Austin, TX 78761-5427\n",
      "\n",
      "Policy #CBI420478\n",
      "\n",
      "Contact:  Jeanette Peterson\n",
      "\n",
      "(512)451-6551\n",
      "\n",
      "The actual policy is signed by Vista Insurance Partners.\n",
      "\n",
      "Please try and schedule the appraiser for sometime after 1 p.m. so my Dad can \n",
      "walk him around.  \n",
      "\n",
      "I will be out of town on Tuesday.  What else do we need to get done before \n",
      "closing?\n",
      "\n",
      "Phillip\n"
     ]
    }
   ],
   "source": [
    "messages = topic_9[0:10]['Text'].to_list()\n",
    "print(type(messages))\n",
    "for msg in messages:\n",
    "    print(msg)\n",
    "\n",
    "\n"
   ]
  }
 ],
 "metadata": {
  "interpreter": {
   "hash": "a107e33ec9895a199db06dea1e1fb8d88e4830832973b5c2e63e39182c97baa2"
  },
  "kernelspec": {
   "display_name": "Python 3.9.7 ('enron': venv)",
   "language": "python",
   "name": "python3"
  },
  "language_info": {
   "codemirror_mode": {
    "name": "ipython",
    "version": 3
   },
   "file_extension": ".py",
   "mimetype": "text/x-python",
   "name": "python",
   "nbconvert_exporter": "python",
   "pygments_lexer": "ipython3",
   "version": "3.9.7"
  },
  "orig_nbformat": 4
 },
 "nbformat": 4,
 "nbformat_minor": 2
}
