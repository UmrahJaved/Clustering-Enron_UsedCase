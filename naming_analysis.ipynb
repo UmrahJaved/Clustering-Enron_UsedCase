{
 "cells": [
  {
   "cell_type": "code",
   "execution_count": 2,
   "metadata": {},
   "outputs": [],
   "source": [
    "\n",
    "import pandas as pd\n"
   ]
  },
  {
   "cell_type": "code",
   "execution_count": 28,
   "metadata": {},
   "outputs": [],
   "source": [
    "# read the file, 30 000 samples\n",
    "df = pd.read_csv('./result/result_30k.csv')"
   ]
  },
  {
   "cell_type": "code",
   "execution_count": 7,
   "metadata": {},
   "outputs": [
    {
     "data": {
      "text/plain": [
       "Index(['Lemmatized_Text', 'ID', 'Subject', 'enron_content', 'From', 'To', 'Cc',\n",
       "       'Bcc', 'Topic_hier', 'Perc_list', 'Dominant_Topic', 'Perc_Contribution',\n",
       "       'Topic_Keywords', '0'],\n",
       "      dtype='object')"
      ]
     },
     "execution_count": 7,
     "metadata": {},
     "output_type": "execute_result"
    }
   ],
   "source": [
    "df.columns"
   ]
  },
  {
   "cell_type": "code",
   "execution_count": 21,
   "metadata": {},
   "outputs": [
    {
     "name": "stdout",
     "output_type": "stream",
     "text": [
      "[]\n"
     ]
    }
   ],
   "source": [
    "matching_list = [0, 1, 0]\n",
    "\n",
    "def find_matcning_rows(matching_list: list) -> list:\n",
    "    \"\"\" Finds the matches for any given binary list. Checks as many levels\n",
    "    as matching_list have elements.\n",
    "    :matching_list: list of binary values\n",
    "    :return: list of matching rows\n",
    "    \"\"\"\n",
    "    found_matches = []\n",
    "    for binary in df['Topic_hier']:\n",
    "        for i, bin in enumerate(matching_list):\n",
    "            if bin != binary[i]:\n",
    "                continue\n",
    "            found_matches.append(binary)\n",
    "    return found_matches\n",
    "\n",
    "print(find_matcning_rows(matching_list))\n"
   ]
  },
  {
   "cell_type": "code",
   "execution_count": null,
   "metadata": {},
   "outputs": [],
   "source": [
    "result = df[df['Topic_hier'].start > 80]"
   ]
  },
  {
   "cell_type": "code",
   "execution_count": 48,
   "metadata": {},
   "outputs": [
    {
     "name": "stdout",
     "output_type": "stream",
     "text": [
      "                                        Lemmatized_Text  \\\n",
      "7815  ['miss', 'first', 'pass', 'forward', 'tim_heiz...   \n",
      "7816  ['forward', 'pm', 'fzerilli_powermerchant', 'j...   \n",
      "7817  ['forward', 'rory', 'mccauley', 'gfinet', 'pm'...   \n",
      "7818  ['forward', 'david_baumbach', 'hou', 'ect', 'e...   \n",
      "7819  ['forward', 'ee', 'eric_bass', 'hou', 'ect', '...   \n",
      "...                                                 ...   \n",
      "8523  ['appear', 'work', 'forward', 'alan_comne', 'p...   \n",
      "8524  ['greeting', 'today', 'conference', 'call', 'a...   \n",
      "8525  ['get', 'traction', 'support', 'premise', 'obv...   \n",
      "8526  ['think', 'great', 'idea', 'offer', 'put', 'ta...   \n",
      "8527  ['probably', 'need', 'view', 'richard_sander',...   \n",
      "\n",
      "                                                 ID  \\\n",
      "7815                                            NaN   \n",
      "7816  <25217529.1075858631118.JavaMail.evans@thyme>   \n",
      "7817  <31359005.1075858645054.JavaMail.evans@thyme>   \n",
      "7818  <11270739.1075852697498.JavaMail.evans@thyme>   \n",
      "7819  <23464705.1075852708545.JavaMail.evans@thyme>   \n",
      "...                                             ...   \n",
      "8523                                            NaN   \n",
      "8524                                            NaN   \n",
      "8525                                            NaN   \n",
      "8526  <26295424.1075845066885.JavaMail.evans@thyme>   \n",
      "8527                                            NaN   \n",
      "\n",
      "                                                Subject  \\\n",
      "7815                                                NaN   \n",
      "7816  Your Approval is Overdue: Access Request for m...   \n",
      "7817          Carolyne Roehm, Tools, and Holiday Guides   \n",
      "7818               Nat Gas intraday update for 10-16-01   \n",
      "7819                        RE: what are u up to later?   \n",
      "...                                                 ...   \n",
      "8523                                                NaN   \n",
      "8524                                                NaN   \n",
      "8525                                                NaN   \n",
      "8526  Your Help Needed Please - Cross-Commodity Repo...   \n",
      "8527                                                NaN   \n",
      "\n",
      "                                          enron_content  \\\n",
      "7815                                                NaN   \n",
      "7816  This request has been pending your approval fo...   \n",
      "7817  \\nAmazon.com Delivers Home & Garden  [IMAGE] [...   \n",
      "7818  Attached please find a follow up to today's Na...   \n",
      "7819  on second thought maybe i'll just bring an iv ...   \n",
      "...                                                 ...   \n",
      "8523                                                NaN   \n",
      "8524                                                NaN   \n",
      "8525                                                NaN   \n",
      "8526  Please excuse the long e-mail below - I knew w...   \n",
      "8527                                                NaN   \n",
      "\n",
      "                                            From  \\\n",
      "7815                                         NaN   \n",
      "7816   frozenset({'arsystem@mailman.enron.com'})   \n",
      "7817          frozenset({'delivers@amazon.com'})   \n",
      "7818             frozenset({'capstone@ktc.com'})   \n",
      "7819    frozenset({'jennifer.fraser@enron.com'})   \n",
      "...                                          ...   \n",
      "8523                                         NaN   \n",
      "8524                                         NaN   \n",
      "8525                                         NaN   \n",
      "8526  frozenset({'cassandra.schultz@enron.com'})   \n",
      "8527                                         NaN   \n",
      "\n",
      "                                                     To  \\\n",
      "7815                                                NaN   \n",
      "7816                  frozenset({'k..allen@enron.com'})   \n",
      "7817                    frozenset({'pallen@enron.com'})   \n",
      "7818        frozenset({'bob.mckinney@capstone-ta.com'})   \n",
      "7819               frozenset({'john.arnold@enron.com'})   \n",
      "...                                                 ...   \n",
      "8523                                                NaN   \n",
      "8524                                                NaN   \n",
      "8525                                                NaN   \n",
      "8526  frozenset({'sheila.glover@enron.com', 'd.hall@...   \n",
      "8527                                                NaN   \n",
      "\n",
      "                                                     Cc  Bcc  \\\n",
      "7815                                                NaN  NaN   \n",
      "7816                                                NaN  NaN   \n",
      "7817                                                NaN  NaN   \n",
      "7818                                                NaN  NaN   \n",
      "7819                                                NaN  NaN   \n",
      "...                                                 ...  ...   \n",
      "8523                                                NaN  NaN   \n",
      "8524                                                NaN  NaN   \n",
      "8525                                                NaN  NaN   \n",
      "8526  Shona Wilson <Shona Wilson/NA/Enron@Enron>, Ch...  NaN   \n",
      "8527                                                NaN  NaN   \n",
      "\n",
      "                 Topic_hier  \\\n",
      "7815  [0, 1, 0, 0, 0, 0, 1]   \n",
      "7816  [0, 1, 0, 0, 0, 0, 0]   \n",
      "7817  [0, 1, 0, 0, 0, 0, 0]   \n",
      "7818  [0, 1, 0, 0, 0, 0, 0]   \n",
      "7819  [0, 1, 0, 0, 0, 0, 1]   \n",
      "...                     ...   \n",
      "8523  [0, 1, 0, 1, 1, 1, 1]   \n",
      "8524  [0, 1, 0, 1, 1, 1, 1]   \n",
      "8525  [0, 1, 0, 1, 1, 1, 1]   \n",
      "8526  [0, 1, 0, 1, 1, 1, 1]   \n",
      "8527  [0, 1, 0, 1, 1, 1, 1]   \n",
      "\n",
      "                                              Perc_list  Dominant_Topic  \\\n",
      "7815  [0.9994999766349792, 0.7103000283241272, 0.735...               1   \n",
      "7816  [0.991599977016449, 0.5859000086784363, 0.7016...               0   \n",
      "7817  [0.5167999863624573, 0.9369999766349792, 0.508...               0   \n",
      "7818  [0.8062999844551086, 0.5953999757766724, 0.509...               0   \n",
      "7819  [0.7409999966621399, 0.9017000198364258, 0.629...               1   \n",
      "...                                                 ...             ...   \n",
      "8523  [0.9995999932289124, 0.9229999780654907, 0.811...               1   \n",
      "8524  [0.9997000098228455, 0.913100004196167, 0.5151...               1   \n",
      "8525  [0.9998000264167786, 0.7865999937057495, 0.602...               1   \n",
      "8526  [0.9997000098228455, 0.8827000260353088, 0.766...               1   \n",
      "8527  [0.9998000264167786, 0.7699999809265137, 0.571...               1   \n",
      "\n",
      "      Perc_Contribution                                     Topic_Keywords  \\\n",
      "7815             0.9999  ect, hou, ee, pdx, enronxgate, woman, forward,...   \n",
      "7816             0.9768  internet, ect, forward, hou, pm, usa, mailto, ...   \n",
      "7817             0.9833  internet, ect, forward, hou, pm, usa, mailto, ...   \n",
      "7818             0.9992  internet, ect, forward, hou, pm, usa, mailto, ...   \n",
      "7819             0.9998  ect, hou, ee, pdx, enronxgate, woman, forward,...   \n",
      "...                 ...                                                ...   \n",
      "8523             1.0000  mail, energy, net, bill, call, gen_pge, state,...   \n",
      "8524             1.0000  mail, energy, net, bill, call, gen_pge, state,...   \n",
      "8525             1.0000  mail, energy, net, bill, call, gen_pge, state,...   \n",
      "8526             1.0000  mail, energy, net, bill, call, gen_pge, state,...   \n",
      "8527             1.0000  mail, energy, net, bill, call, gen_pge, state,...   \n",
      "\n",
      "                                                      0  \n",
      "7815  ['miss', 'first', 'pass', 'forward', 'tim_heiz...  \n",
      "7816  ['forward', 'pm', 'fzerilli_powermerchant', 'j...  \n",
      "7817  ['forward', 'rory', 'mccauley', 'gfinet', 'pm'...  \n",
      "7818  ['forward', 'david_baumbach', 'hou', 'ect', 'e...  \n",
      "7819  ['forward', 'ee', 'eric_bass', 'hou', 'ect', '...  \n",
      "...                                                 ...  \n",
      "8523  ['appear', 'work', 'forward', 'alan_comne', 'p...  \n",
      "8524  ['greeting', 'today', 'conference', 'call', 'a...  \n",
      "8525  ['get', 'traction', 'support', 'premise', 'obv...  \n",
      "8526  ['think', 'great', 'idea', 'offer', 'put', 'ta...  \n",
      "8527  ['probably', 'need', 'view', 'richard_sander',...  \n",
      "\n",
      "[713 rows x 14 columns]\n"
     ]
    }
   ],
   "source": [
    "\n",
    "\n",
    "list_of_hier = df['Topic_hier'].tolist()\n",
    "my_ind = []\n",
    "\n",
    "def select_hierarchy(binary: str) -> pd.DataFrame:\n",
    "    \"\"\"returns a dataframe with the rows where 'List_hier' matches to the given binary string\n",
    "    :binary: string of binary values\n",
    "    :return: dataframe\"\"\"\n",
    "    list_of_hier = df['Topic_hier'].tolist()\n",
    "    my_ind = []\n",
    "    for i, row in enumerate(list_of_hier):\n",
    "        if row.startswith('[0, 1, 0'):\n",
    "            my_ind.append(i)\n",
    "    result = df.iloc[my_ind]\n",
    "    return result\n",
    "\n",
    "\n",
    "\n",
    "print(select_hierarchy('[0, 1, 0'))\n",
    "\n",
    "\n",
    "\n"
   ]
  },
  {
   "cell_type": "code",
   "execution_count": 41,
   "metadata": {},
   "outputs": [
    {
     "name": "stdout",
     "output_type": "stream",
     "text": [
      "RangeIndex(start=0, stop=30000, step=1)\n"
     ]
    }
   ],
   "source": []
  }
 ],
 "metadata": {
  "interpreter": {
   "hash": "a107e33ec9895a199db06dea1e1fb8d88e4830832973b5c2e63e39182c97baa2"
  },
  "kernelspec": {
   "display_name": "Python 3.9.7 ('enron': venv)",
   "language": "python",
   "name": "python3"
  },
  "language_info": {
   "codemirror_mode": {
    "name": "ipython",
    "version": 3
   },
   "file_extension": ".py",
   "mimetype": "text/x-python",
   "name": "python",
   "nbconvert_exporter": "python",
   "pygments_lexer": "ipython3",
   "version": "3.9.7"
  },
  "orig_nbformat": 4
 },
 "nbformat": 4,
 "nbformat_minor": 2
}
